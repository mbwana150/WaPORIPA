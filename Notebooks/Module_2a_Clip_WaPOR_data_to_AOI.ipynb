{
  "cells": [
    {
      "cell_type": "markdown",
      "metadata": {
        "id": "R2_MuDe7IxVl"
      },
      "source": [
        "# Module 2a - Clip WaPOR data to Area of Interest (AOI)\n",
        "This Notebook contains the following steps\n",
        "* Step a - Import modules/libraries\n",
        "* Step b - Clip WaPOR data to boundary (using shapefile)\n",
        "* Step c - Mask WaPOR data (using land cover map) (not yet included)\n",
        "\n",
        "**=====================================================================================================================**\n",
        "\n",
        "![title](https://raw.githubusercontent.com/wateraccounting/WaPORIPA/main/images/Resampling.png)\n",
        "\n",
        "**=====================================================================================================================**\n",
        "\n",
        "Before you start running this Notebook, make sure you have the following information:\n",
        "\n",
        "*   Seasonal outputs from module 1 (AETI, T, TBP) and module 2 (RET, PCP, potET)\n",
        "\n",
        "*   Shapefile with the Area of Interest (AOI)"
      ]
    },
    {
      "cell_type": "markdown",
      "metadata": {
        "id": "Y_iJMS-xIxVn"
      },
      "source": [
        "## Step a - Import modules/libraries"
      ]
    },
    {
      "cell_type": "code",
      "source": [
        "!pip install --upgrade rioxarray --quiet"
      ],
      "metadata": {
        "id": "BLklqERiuwlx"
      },
      "execution_count": null,
      "outputs": []
    },
    {
      "cell_type": "code",
      "execution_count": null,
      "metadata": {
        "id": "q8YcVs9rIxVo"
      },
      "outputs": [],
      "source": [
        "import os                             # a module for interacting with the operating system\n",
        "import glob                           # used to retrieve files/pathnames matching a specified pattern\n",
        "import matplotlib.pyplot as plt       # is a plotting library used for 2D graphics in python\n",
        "import numpy as np                    # stands for 'Numerical Python, is a python library used for scientific computing with arrays\n",
        "import geopandas as gpd\n",
        "import matplotlib.pyplot as plt\n",
        "import rioxarray as rioxr\n",
        "import rasterio as rio\n",
        "import pandas as pd                       # to store and manipulate tabular data in rows of observations and columns of variables\n",
        "import calendar\n",
        "import datetime\n",
        "\n",
        "from osgeo import ogr, gdal\n",
        "import subprocess\n"
      ]
    },
    {
      "cell_type": "markdown",
      "metadata": {
        "id": "vMSmgGMiIxVv"
      },
      "source": [
        "\n",
        "\n",
        "# Step b - Clip using project boundary\n",
        "\n"
      ]
    },
    {
      "cell_type": "markdown",
      "metadata": {
        "id": "_mJCwR58IxVw"
      },
      "source": [
        "### Poject boundary  --- convert shapefile to raster"
      ]
    },
    {
      "cell_type": "code",
      "source": [
        "#To upload boundary shape file.\n",
        "from google.colab import files\n",
        "uploaded = files.upload()"
      ],
      "metadata": {
        "colab": {
          "base_uri": "https://localhost:8080/",
          "height": 342
        },
        "id": "POpL8hacijKL",
        "outputId": "4414d903-8077-46b9-cd81-af1062eb298e",
        "collapsed": true
      },
      "execution_count": null,
      "outputs": [
        {
          "output_type": "display_data",
          "data": {
            "text/plain": [
              "<IPython.core.display.HTML object>"
            ],
            "text/html": [
              "\n",
              "     <input type=\"file\" id=\"files-e94ab1eb-b9b9-4a16-b44a-31f607ac6ffb\" name=\"files[]\" multiple disabled\n",
              "        style=\"border:none\" />\n",
              "     <output id=\"result-e94ab1eb-b9b9-4a16-b44a-31f607ac6ffb\">\n",
              "      Upload widget is only available when the cell has been executed in the\n",
              "      current browser session. Please rerun this cell to enable.\n",
              "      </output>\n",
              "      <script>// Copyright 2017 Google LLC\n",
              "//\n",
              "// Licensed under the Apache License, Version 2.0 (the \"License\");\n",
              "// you may not use this file except in compliance with the License.\n",
              "// You may obtain a copy of the License at\n",
              "//\n",
              "//      http://www.apache.org/licenses/LICENSE-2.0\n",
              "//\n",
              "// Unless required by applicable law or agreed to in writing, software\n",
              "// distributed under the License is distributed on an \"AS IS\" BASIS,\n",
              "// WITHOUT WARRANTIES OR CONDITIONS OF ANY KIND, either express or implied.\n",
              "// See the License for the specific language governing permissions and\n",
              "// limitations under the License.\n",
              "\n",
              "/**\n",
              " * @fileoverview Helpers for google.colab Python module.\n",
              " */\n",
              "(function(scope) {\n",
              "function span(text, styleAttributes = {}) {\n",
              "  const element = document.createElement('span');\n",
              "  element.textContent = text;\n",
              "  for (const key of Object.keys(styleAttributes)) {\n",
              "    element.style[key] = styleAttributes[key];\n",
              "  }\n",
              "  return element;\n",
              "}\n",
              "\n",
              "// Max number of bytes which will be uploaded at a time.\n",
              "const MAX_PAYLOAD_SIZE = 100 * 1024;\n",
              "\n",
              "function _uploadFiles(inputId, outputId) {\n",
              "  const steps = uploadFilesStep(inputId, outputId);\n",
              "  const outputElement = document.getElementById(outputId);\n",
              "  // Cache steps on the outputElement to make it available for the next call\n",
              "  // to uploadFilesContinue from Python.\n",
              "  outputElement.steps = steps;\n",
              "\n",
              "  return _uploadFilesContinue(outputId);\n",
              "}\n",
              "\n",
              "// This is roughly an async generator (not supported in the browser yet),\n",
              "// where there are multiple asynchronous steps and the Python side is going\n",
              "// to poll for completion of each step.\n",
              "// This uses a Promise to block the python side on completion of each step,\n",
              "// then passes the result of the previous step as the input to the next step.\n",
              "function _uploadFilesContinue(outputId) {\n",
              "  const outputElement = document.getElementById(outputId);\n",
              "  const steps = outputElement.steps;\n",
              "\n",
              "  const next = steps.next(outputElement.lastPromiseValue);\n",
              "  return Promise.resolve(next.value.promise).then((value) => {\n",
              "    // Cache the last promise value to make it available to the next\n",
              "    // step of the generator.\n",
              "    outputElement.lastPromiseValue = value;\n",
              "    return next.value.response;\n",
              "  });\n",
              "}\n",
              "\n",
              "/**\n",
              " * Generator function which is called between each async step of the upload\n",
              " * process.\n",
              " * @param {string} inputId Element ID of the input file picker element.\n",
              " * @param {string} outputId Element ID of the output display.\n",
              " * @return {!Iterable<!Object>} Iterable of next steps.\n",
              " */\n",
              "function* uploadFilesStep(inputId, outputId) {\n",
              "  const inputElement = document.getElementById(inputId);\n",
              "  inputElement.disabled = false;\n",
              "\n",
              "  const outputElement = document.getElementById(outputId);\n",
              "  outputElement.innerHTML = '';\n",
              "\n",
              "  const pickedPromise = new Promise((resolve) => {\n",
              "    inputElement.addEventListener('change', (e) => {\n",
              "      resolve(e.target.files);\n",
              "    });\n",
              "  });\n",
              "\n",
              "  const cancel = document.createElement('button');\n",
              "  inputElement.parentElement.appendChild(cancel);\n",
              "  cancel.textContent = 'Cancel upload';\n",
              "  const cancelPromise = new Promise((resolve) => {\n",
              "    cancel.onclick = () => {\n",
              "      resolve(null);\n",
              "    };\n",
              "  });\n",
              "\n",
              "  // Wait for the user to pick the files.\n",
              "  const files = yield {\n",
              "    promise: Promise.race([pickedPromise, cancelPromise]),\n",
              "    response: {\n",
              "      action: 'starting',\n",
              "    }\n",
              "  };\n",
              "\n",
              "  cancel.remove();\n",
              "\n",
              "  // Disable the input element since further picks are not allowed.\n",
              "  inputElement.disabled = true;\n",
              "\n",
              "  if (!files) {\n",
              "    return {\n",
              "      response: {\n",
              "        action: 'complete',\n",
              "      }\n",
              "    };\n",
              "  }\n",
              "\n",
              "  for (const file of files) {\n",
              "    const li = document.createElement('li');\n",
              "    li.append(span(file.name, {fontWeight: 'bold'}));\n",
              "    li.append(span(\n",
              "        `(${file.type || 'n/a'}) - ${file.size} bytes, ` +\n",
              "        `last modified: ${\n",
              "            file.lastModifiedDate ? file.lastModifiedDate.toLocaleDateString() :\n",
              "                                    'n/a'} - `));\n",
              "    const percent = span('0% done');\n",
              "    li.appendChild(percent);\n",
              "\n",
              "    outputElement.appendChild(li);\n",
              "\n",
              "    const fileDataPromise = new Promise((resolve) => {\n",
              "      const reader = new FileReader();\n",
              "      reader.onload = (e) => {\n",
              "        resolve(e.target.result);\n",
              "      };\n",
              "      reader.readAsArrayBuffer(file);\n",
              "    });\n",
              "    // Wait for the data to be ready.\n",
              "    let fileData = yield {\n",
              "      promise: fileDataPromise,\n",
              "      response: {\n",
              "        action: 'continue',\n",
              "      }\n",
              "    };\n",
              "\n",
              "    // Use a chunked sending to avoid message size limits. See b/62115660.\n",
              "    let position = 0;\n",
              "    do {\n",
              "      const length = Math.min(fileData.byteLength - position, MAX_PAYLOAD_SIZE);\n",
              "      const chunk = new Uint8Array(fileData, position, length);\n",
              "      position += length;\n",
              "\n",
              "      const base64 = btoa(String.fromCharCode.apply(null, chunk));\n",
              "      yield {\n",
              "        response: {\n",
              "          action: 'append',\n",
              "          file: file.name,\n",
              "          data: base64,\n",
              "        },\n",
              "      };\n",
              "\n",
              "      let percentDone = fileData.byteLength === 0 ?\n",
              "          100 :\n",
              "          Math.round((position / fileData.byteLength) * 100);\n",
              "      percent.textContent = `${percentDone}% done`;\n",
              "\n",
              "    } while (position < fileData.byteLength);\n",
              "  }\n",
              "\n",
              "  // All done.\n",
              "  yield {\n",
              "    response: {\n",
              "      action: 'complete',\n",
              "    }\n",
              "  };\n",
              "}\n",
              "\n",
              "scope.google = scope.google || {};\n",
              "scope.google.colab = scope.google.colab || {};\n",
              "scope.google.colab._files = {\n",
              "  _uploadFiles,\n",
              "  _uploadFilesContinue,\n",
              "};\n",
              "})(self);\n",
              "</script> "
            ]
          },
          "metadata": {}
        },
        {
          "output_type": "error",
          "ename": "KeyboardInterrupt",
          "evalue": "",
          "traceback": [
            "\u001b[0;31m---------------------------------------------------------------------------\u001b[0m",
            "\u001b[0;31mKeyboardInterrupt\u001b[0m                         Traceback (most recent call last)",
            "\u001b[0;32m<ipython-input-78-3cde08d78b6f>\u001b[0m in \u001b[0;36m<cell line: 3>\u001b[0;34m()\u001b[0m\n\u001b[1;32m      1\u001b[0m \u001b[0;31m#To upload boundary shape (and LCC) file.\u001b[0m\u001b[0;34m\u001b[0m\u001b[0;34m\u001b[0m\u001b[0m\n\u001b[1;32m      2\u001b[0m \u001b[0;32mfrom\u001b[0m \u001b[0mgoogle\u001b[0m\u001b[0;34m.\u001b[0m\u001b[0mcolab\u001b[0m \u001b[0;32mimport\u001b[0m \u001b[0mfiles\u001b[0m\u001b[0;34m\u001b[0m\u001b[0;34m\u001b[0m\u001b[0m\n\u001b[0;32m----> 3\u001b[0;31m \u001b[0muploaded\u001b[0m \u001b[0;34m=\u001b[0m \u001b[0mfiles\u001b[0m\u001b[0;34m.\u001b[0m\u001b[0mupload\u001b[0m\u001b[0;34m(\u001b[0m\u001b[0;34m)\u001b[0m\u001b[0;34m\u001b[0m\u001b[0;34m\u001b[0m\u001b[0m\n\u001b[0m",
            "\u001b[0;32m/usr/local/lib/python3.10/dist-packages/google/colab/files.py\u001b[0m in \u001b[0;36mupload\u001b[0;34m()\u001b[0m\n\u001b[1;32m     67\u001b[0m   \"\"\"\n\u001b[1;32m     68\u001b[0m \u001b[0;34m\u001b[0m\u001b[0m\n\u001b[0;32m---> 69\u001b[0;31m   \u001b[0muploaded_files\u001b[0m \u001b[0;34m=\u001b[0m \u001b[0m_upload_files\u001b[0m\u001b[0;34m(\u001b[0m\u001b[0mmultiple\u001b[0m\u001b[0;34m=\u001b[0m\u001b[0;32mTrue\u001b[0m\u001b[0;34m)\u001b[0m\u001b[0;34m\u001b[0m\u001b[0;34m\u001b[0m\u001b[0m\n\u001b[0m\u001b[1;32m     70\u001b[0m   \u001b[0;31m# Mapping from original filename to filename as saved locally.\u001b[0m\u001b[0;34m\u001b[0m\u001b[0;34m\u001b[0m\u001b[0m\n\u001b[1;32m     71\u001b[0m   \u001b[0mlocal_filenames\u001b[0m \u001b[0;34m=\u001b[0m \u001b[0mdict\u001b[0m\u001b[0;34m(\u001b[0m\u001b[0;34m)\u001b[0m\u001b[0;34m\u001b[0m\u001b[0;34m\u001b[0m\u001b[0m\n",
            "\u001b[0;32m/usr/local/lib/python3.10/dist-packages/google/colab/files.py\u001b[0m in \u001b[0;36m_upload_files\u001b[0;34m(multiple)\u001b[0m\n\u001b[1;32m    154\u001b[0m \u001b[0;34m\u001b[0m\u001b[0m\n\u001b[1;32m    155\u001b[0m   \u001b[0;31m# First result is always an indication that the file picker has completed.\u001b[0m\u001b[0;34m\u001b[0m\u001b[0;34m\u001b[0m\u001b[0m\n\u001b[0;32m--> 156\u001b[0;31m   result = _output.eval_js(\n\u001b[0m\u001b[1;32m    157\u001b[0m       'google.colab._files._uploadFiles(\"{input_id}\", \"{output_id}\")'.format(\n\u001b[1;32m    158\u001b[0m           \u001b[0minput_id\u001b[0m\u001b[0;34m=\u001b[0m\u001b[0minput_id\u001b[0m\u001b[0;34m,\u001b[0m \u001b[0moutput_id\u001b[0m\u001b[0;34m=\u001b[0m\u001b[0moutput_id\u001b[0m\u001b[0;34m\u001b[0m\u001b[0;34m\u001b[0m\u001b[0m\n",
            "\u001b[0;32m/usr/local/lib/python3.10/dist-packages/google/colab/output/_js.py\u001b[0m in \u001b[0;36meval_js\u001b[0;34m(script, ignore_result, timeout_sec)\u001b[0m\n\u001b[1;32m     38\u001b[0m   \u001b[0;32mif\u001b[0m \u001b[0mignore_result\u001b[0m\u001b[0;34m:\u001b[0m\u001b[0;34m\u001b[0m\u001b[0;34m\u001b[0m\u001b[0m\n\u001b[1;32m     39\u001b[0m     \u001b[0;32mreturn\u001b[0m\u001b[0;34m\u001b[0m\u001b[0;34m\u001b[0m\u001b[0m\n\u001b[0;32m---> 40\u001b[0;31m   \u001b[0;32mreturn\u001b[0m \u001b[0m_message\u001b[0m\u001b[0;34m.\u001b[0m\u001b[0mread_reply_from_input\u001b[0m\u001b[0;34m(\u001b[0m\u001b[0mrequest_id\u001b[0m\u001b[0;34m,\u001b[0m \u001b[0mtimeout_sec\u001b[0m\u001b[0;34m)\u001b[0m\u001b[0;34m\u001b[0m\u001b[0;34m\u001b[0m\u001b[0m\n\u001b[0m\u001b[1;32m     41\u001b[0m \u001b[0;34m\u001b[0m\u001b[0m\n\u001b[1;32m     42\u001b[0m \u001b[0;34m\u001b[0m\u001b[0m\n",
            "\u001b[0;32m/usr/local/lib/python3.10/dist-packages/google/colab/_message.py\u001b[0m in \u001b[0;36mread_reply_from_input\u001b[0;34m(message_id, timeout_sec)\u001b[0m\n\u001b[1;32m     94\u001b[0m     \u001b[0mreply\u001b[0m \u001b[0;34m=\u001b[0m \u001b[0m_read_next_input_message\u001b[0m\u001b[0;34m(\u001b[0m\u001b[0;34m)\u001b[0m\u001b[0;34m\u001b[0m\u001b[0;34m\u001b[0m\u001b[0m\n\u001b[1;32m     95\u001b[0m     \u001b[0;32mif\u001b[0m \u001b[0mreply\u001b[0m \u001b[0;34m==\u001b[0m \u001b[0m_NOT_READY\u001b[0m \u001b[0;32mor\u001b[0m \u001b[0;32mnot\u001b[0m \u001b[0misinstance\u001b[0m\u001b[0;34m(\u001b[0m\u001b[0mreply\u001b[0m\u001b[0;34m,\u001b[0m \u001b[0mdict\u001b[0m\u001b[0;34m)\u001b[0m\u001b[0;34m:\u001b[0m\u001b[0;34m\u001b[0m\u001b[0;34m\u001b[0m\u001b[0m\n\u001b[0;32m---> 96\u001b[0;31m       \u001b[0mtime\u001b[0m\u001b[0;34m.\u001b[0m\u001b[0msleep\u001b[0m\u001b[0;34m(\u001b[0m\u001b[0;36m0.025\u001b[0m\u001b[0;34m)\u001b[0m\u001b[0;34m\u001b[0m\u001b[0;34m\u001b[0m\u001b[0m\n\u001b[0m\u001b[1;32m     97\u001b[0m       \u001b[0;32mcontinue\u001b[0m\u001b[0;34m\u001b[0m\u001b[0;34m\u001b[0m\u001b[0m\n\u001b[1;32m     98\u001b[0m     if (\n",
            "\u001b[0;31mKeyboardInterrupt\u001b[0m: "
          ]
        }
      ]
    },
    {
      "cell_type": "code",
      "source": [
        "#show shapefile\n",
        "gdf = gpd.read_file('/content/Wad_Helal.shp')\n",
        "# Plotting the area\n",
        "gdf.plot()\n",
        "gdf\n",
        ","
      ],
      "metadata": {
        "colab": {
          "base_uri": "https://localhost:8080/",
          "height": 383
        },
        "id": "UFejkskak2pH",
        "outputId": "0b93b4b3-5123-424d-9d71-75adf3b32850"
      },
      "execution_count": null,
      "outputs": [
        {
          "output_type": "execute_result",
          "data": {
            "text/plain": [
              "''"
            ],
            "application/vnd.google.colaboratory.intrinsic+json": {
              "type": "string"
            }
          },
          "metadata": {},
          "execution_count": 79
        },
        {
          "output_type": "display_data",
          "data": {
            "text/plain": [
              "<Figure size 640x480 with 1 Axes>"
            ],
            "image/png": "[encoded data removed]"
          },
          "metadata": {}
        }
      ]
    },
    {
      "cell_type": "code",
      "execution_count": null,
      "metadata": {
        "id": "gNVOzrh-IxVw"
      },
      "outputs": [],
      "source": [
        "# read shapefile and reference raster files\n",
        "\n",
        "InputVector = r\"/content/Wad_Helal.shp\"             # the shapefile of the project\n",
        "RefImage    = r\"/content/sample_res.tif\" # Reference raster to fix the the pixel size\n",
        "OutputImage = r'/content/Wad_Helal_masked'            # name the output raster file\n",
        "burnVal     = 1                                                         #value for the output image pixels"
      ]
    },
    {
      "cell_type": "code",
      "execution_count": null,
      "metadata": {
        "id": "GXHyLgPpIxVw",
        "outputId": "662fd83a-fcbf-407b-b0cd-2f6cd57a6ddb",
        "colab": {
          "base_uri": "https://localhost:8080/"
        }
      },
      "outputs": [
        {
          "output_type": "stream",
          "name": "stdout",
          "text": [
            "Rasterising shapefile...\n",
            "Done.\n"
          ]
        }
      ],
      "source": [
        "# A script to rasterise a shapefile to the same projection & pixel resolution as a reference image.\n",
        "gdalformat = 'GTiff'\n",
        "datatype = gdal.GDT_Byte\n",
        "\n",
        "\n",
        "##########################################################\n",
        "# Get projection info from reference image\n",
        "Image = gdal.Open(RefImage, gdal.GA_ReadOnly)\n",
        "\n",
        "# Open Shapefile\n",
        "Shapefile = ogr.Open(InputVector)\n",
        "Shapefile_layer = Shapefile.GetLayer()\n",
        "\n",
        "# Rasterise\n",
        "print(\"Rasterising shapefile...\")\n",
        "Output = gdal.GetDriverByName(gdalformat).Create(OutputImage, Image.RasterXSize, Image.RasterYSize, 1, datatype, options=['COMPRESS=LZW'])\n",
        "Output.SetProjection(Image.GetProjectionRef())\n",
        "Output.SetGeoTransform(Image.GetGeoTransform())\n",
        "\n",
        "# Write data to band 1\n",
        "Band = Output.GetRasterBand(1)\n",
        "Band.SetNoDataValue(0)\n",
        "gdal.RasterizeLayer(Output, [1], Shapefile_layer, burn_values=[burnVal])\n",
        "\n",
        "# Close datasets\n",
        "Band = None\n",
        "Output = None\n",
        "Image = None\n",
        "Shapefile = None\n",
        "\n",
        "# Build image overviews\n",
        "subprocess.call(\"gdaladdo --config COMPRESS_OVERVIEW DEFLATE \"+OutputImage+\" 2 4 8 16 32 64\", shell=True)\n",
        "print(\"Done.\")"
      ]
    },
    {
      "cell_type": "code",
      "execution_count": null,
      "metadata": {
        "id": "AHLINwo2IxVx",
        "outputId": "aae5bca7-9a31-4346-9573-610eadfe1502",
        "colab": {
          "base_uri": "https://localhost:8080/",
          "height": 35
        }
      },
      "outputs": [
        {
          "output_type": "execute_result",
          "data": {
            "text/plain": [
              "'/content/Wad_Helal_masked'"
            ],
            "application/vnd.google.colaboratory.intrinsic+json": {
              "type": "string"
            }
          },
          "metadata": {},
          "execution_count": 82
        }
      ],
      "source": [
        "OutputImage"
      ]
    },
    {
      "cell_type": "markdown",
      "metadata": {
        "scrolled": true,
        "id": "0E8qQ0RAIxVx"
      },
      "source": [
        "## i) Import the data to clip"
      ]
    },
    {
      "cell_type": "markdown",
      "source": [
        "Load all seasonal files into one folder called *Season*"
      ],
      "metadata": {
        "id": "AIFvP8WM-Nvo"
      }
    },
    {
      "cell_type": "code",
      "execution_count": null,
      "metadata": {
        "id": "zTXoJVkPIxVy",
        "colab": {
          "base_uri": "https://localhost:8080/"
        },
        "outputId": "ea9a4fe8-dd83-4579-fdeb-dc863cc5d70e",
        "collapsed": true
      },
      "outputs": [
        {
          "output_type": "execute_result",
          "data": {
            "text/plain": [
              "['/content/content/resampled/L1-PCP-E_resampled/bb_L1-PCP-E_NONE_day_2022-01-14.tif',\n",
              " '/content/content/resampled/L1-PCP-E_resampled/bb_L1-PCP-E_NONE_day_2022-01-11.tif',\n",
              " '/content/content/resampled/L1-PCP-E_resampled/bb_L1-PCP-E_NONE_day_2022-01-06.tif',\n",
              " '/content/content/resampled/L1-PCP-E_resampled/bb_L1-PCP-E_NONE_day_2022-01-17.tif',\n",
              " '/content/content/resampled/L1-PCP-E_resampled/bb_L1-PCP-E_NONE_day_2022-01-07.tif',\n",
              " '/content/content/resampled/L1-PCP-E_resampled/bb_L1-PCP-E_NONE_day_2022-01-24.tif',\n",
              " '/content/content/resampled/L1-PCP-E_resampled/bb_L1-PCP-E_NONE_day_2022-01-16.tif',\n",
              " '/content/content/resampled/L1-PCP-E_resampled/bb_L1-PCP-E_NONE_day_2022-01-29.tif',\n",
              " '/content/content/resampled/L1-PCP-E_resampled/bb_L1-PCP-E_NONE_day_2022-01-02.tif',\n",
              " '/content/content/resampled/L1-PCP-E_resampled/bb_L1-PCP-E_NONE_day_2022-01-25.tif',\n",
              " '/content/content/resampled/L1-PCP-E_resampled/bb_L1-PCP-E_NONE_day_2022-01-19.tif',\n",
              " '/content/content/resampled/L1-PCP-E_resampled/bb_L1-PCP-E_NONE_day_2022-01-01.tif',\n",
              " '/content/content/resampled/L1-PCP-E_resampled/bb_L1-PCP-E_NONE_day_2022-01-21.tif',\n",
              " '/content/content/resampled/L1-PCP-E_resampled/bb_L1-PCP-E_NONE_day_2022-01-26.tif',\n",
              " '/content/content/resampled/L1-PCP-E_resampled/bb_L1-PCP-E_NONE_day_2022-01-10.tif',\n",
              " '/content/content/resampled/L1-PCP-E_resampled/bb_L1-PCP-E_NONE_day_2022-01-15.tif',\n",
              " '/content/content/resampled/L1-PCP-E_resampled/bb_L1-PCP-E_NONE_day_2022-01-27.tif',\n",
              " '/content/content/resampled/L1-PCP-E_resampled/bb_L1-PCP-E_NONE_day_2022-01-28.tif',\n",
              " '/content/content/resampled/L1-PCP-E_resampled/bb_L1-PCP-E_NONE_day_2022-01-20.tif',\n",
              " '/content/content/resampled/L1-PCP-E_resampled/bb_L1-PCP-E_NONE_day_2022-01-30.tif',\n",
              " '/content/content/resampled/L1-PCP-E_resampled/bb_L1-PCP-E_NONE_day_2022-01-05.tif',\n",
              " '/content/content/resampled/L1-PCP-E_resampled/bb_L1-PCP-E_NONE_day_2022-01-09.tif',\n",
              " '/content/content/resampled/L1-PCP-E_resampled/bb_L1-PCP-E_NONE_day_2022-01-23.tif',\n",
              " '/content/content/resampled/L1-PCP-E_resampled/bb_L1-PCP-E_NONE_day_2022-01-18.tif',\n",
              " '/content/content/resampled/L1-PCP-E_resampled/bb_L1-PCP-E_NONE_day_2022-01-08.tif',\n",
              " '/content/content/resampled/L1-PCP-E_resampled/bb_L1-PCP-E_NONE_day_2022-01-03.tif',\n",
              " '/content/content/resampled/L1-PCP-E_resampled/bb_L1-PCP-E_NONE_day_2022-01-22.tif',\n",
              " '/content/content/resampled/L1-PCP-E_resampled/bb_L1-PCP-E_NONE_day_2022-01-13.tif',\n",
              " '/content/content/resampled/L1-PCP-E_resampled/bb_L1-PCP-E_NONE_day_2022-01-31.tif',\n",
              " '/content/content/resampled/L1-PCP-E_resampled/bb_L1-PCP-E_NONE_day_2022-01-12.tif',\n",
              " '/content/content/resampled/L1-PCP-E_resampled/bb_L1-PCP-E_NONE_day_2022-01-04.tif']"
            ]
          },
          "metadata": {},
          "execution_count": 83
        }
      ],
      "source": [
        "\n",
        "# Assign location of files and area to clip to\n",
        "\n",
        "input_folderSeason  = '/content/Season'\n",
        "input_fhsSeason     = glob.glob(input_folderSeason + '/*.tif')\n",
        "\n",
        "ProArea = gis.OpenAsArray(r'/content/Wad_Helal_masked', nan_values=True)  # the project boundary/area (tif)\n",
        "input_fhsSeason"
      ]
    },
    {
      "cell_type": "markdown",
      "metadata": {
        "id": "Jcp7yuPUIxVy"
      },
      "source": [
        "## ii) Output folder: Make one or connect to the existing one"
      ]
    },
    {
      "cell_type": "code",
      "execution_count": null,
      "metadata": {
        "id": "eLi8QhifIxVy",
        "outputId": "137c8b73-dc05-418f-f041-cc6d2949ecb8",
        "colab": {
          "base_uri": "https://localhost:8080/"
        }
      },
      "outputs": [
        {
          "output_type": "execute_result",
          "data": {
            "text/plain": [
              "('/content/content/filtered/L1-PCP-E_filtered',\n",
              " '/content/content/filtered/L1-RET-E_filtered')"
            ]
          },
          "metadata": {},
          "execution_count": 106
        }
      ],
      "source": [
        "output_folderSeason    = '/content/Season_clipped'\n",
        "\n",
        "\n",
        "## Make one if the folder does not exit\n",
        "if not os.path.exists(output_folderSeason):\n",
        "    os.makedirs(output_folderSeason)\n",
        "\n",
        "output_folderSeason"
      ]
    },
    {
      "cell_type": "markdown",
      "metadata": {
        "id": "W6txLianIxVz"
      },
      "source": [
        "#### Plot project area"
      ]
    },
    {
      "cell_type": "code",
      "execution_count": null,
      "metadata": {
        "id": "QFugZk_hIxVz",
        "outputId": "2f514a30-4ec2-483f-cd40-f28056f6fb05",
        "colab": {
          "base_uri": "https://localhost:8080/",
          "height": 545
        }
      },
      "outputs": [
        {
          "output_type": "display_data",
          "data": {
            "text/plain": [
              "<Figure size 1200x600 with 1 Axes>"
            ],
            "image/png": "[encoded data removed]"
          },
          "metadata": {}
        }
      ],
      "source": [
        "### Plot project area\n",
        "Projectboundary = ProArea\n",
        "\n",
        "# Plot\n",
        "plt.figure(figsize = (12,6))\n",
        "plt.imshow(Projectboundary)\n",
        "plt.title('Project area')\n",
        "plt.show();"
      ]
    },
    {
      "cell_type": "markdown",
      "source": [
        "###Clipping Seasonal layers"
      ],
      "metadata": {
        "id": "OKEgTA3F_1JF"
      }
    },
    {
      "cell_type": "markdown",
      "source": [
        "#### Check raster layer (before clipping to the project area)"
      ],
      "metadata": {
        "id": "UNMmZK2t_95_"
      }
    },
    {
      "cell_type": "code",
      "execution_count": null,
      "metadata": {
        "id": "hW32ZM0wIxV0",
        "outputId": "261f82a8-9c3d-4de9-a231-db3c2ae369b9",
        "colab": {
          "base_uri": "https://localhost:8080/",
          "height": 35
        }
      },
      "outputs": [
        {
          "output_type": "execute_result",
          "data": {
            "text/plain": [
              "'/content/content/resampled/L1-PCP-E_resampled/bb_L1-PCP-E_NONE_day_2022-01-14.tif'"
            ],
            "application/vnd.google.colaboratory.intrinsic+json": {
              "type": "string"
            }
          },
          "metadata": {},
          "execution_count": 108
        }
      ],
      "source": [
        "input_fhsSeason[0]"
      ]
    },
    {
      "cell_type": "code",
      "execution_count": null,
      "metadata": {
        "scrolled": false,
        "id": "iQrVUX9EIxV0",
        "outputId": "6a6d24cb-c443-4ac1-e8a8-15a0787f0a45",
        "colab": {
          "base_uri": "https://localhost:8080/",
          "height": 538
        }
      },
      "outputs": [
        {
          "output_type": "display_data",
          "data": {
            "text/plain": [
              "<Figure size 1200x800 with 2 Axes>"
            ],
            "image/png": "[encoded data removed]"
          },
          "metadata": {}
        }
      ],
      "source": [
        "# Plot PCP layer\n",
        "Season_tif = gis.OpenAsArray(input_fhsSeason[0],nan_values=True)\n",
        "\n",
        "plt.figure(figsize = (12,8))\n",
        "plt.imshow(PCP_tif, cmap='RdYlGn')\n",
        "plt.colorbar(shrink=0.75, label=' [$/season]')\n",
        "plt.title('Downloaded Seasonal layer')\n",
        "plt.show()"
      ]
    },
    {
      "cell_type": "markdown",
      "source": [
        "####Filtering Seasonal layers\n",
        "\n"
      ],
      "metadata": {
        "id": "zayLE_G-09-c"
      }
    },
    {
      "cell_type": "code",
      "source": [
        "# collecting Geoinfo such as projection, the x and y axis\n",
        "in_fh = input_fhsSeason[0]\n",
        "driver, NDV, xsize, ysize, GeoT, Projection = gis.GetGeoInfo(in_fh)\n",
        "spatial_extent = (GeoT[0], GeoT[0] + GeoT[1] * xsize, GeoT[3] + GeoT[5] * ysize, GeoT[3])  # get spatial extent of raster\n",
        "\n",
        "for Seaonfh in input_fhsSeason:\n",
        "    Season = gis.OpenAsArray(Seasonfh, nan_values=True)\n",
        "    Season   = np.where((ProArea==1),Season,np.nan)\n",
        "\n",
        "    # update the file name, and save into output folder\n",
        "    basename  = os.path.basename(Seasonfh)\n",
        "    output_fn = os.path.join(output_folderSeason, basename)\n",
        "    gis.CreateGeoTiff(output_fn, Season, driver, NDV, xsize, ysize, GeoT, Projection)"
      ],
      "metadata": {
        "id": "T7MbrG6606Wo"
      },
      "execution_count": null,
      "outputs": []
    },
    {
      "cell_type": "markdown",
      "source": [
        "#### Check Seasonal raster layer (after clipping to the project area)\n",
        "\n",
        "\n"
      ],
      "metadata": {
        "id": "b8ADarT0_VdX"
      }
    },
    {
      "cell_type": "code",
      "source": [
        "output_fhsSeason = glob.glob(output_folderSeason + '/*.tif')\n",
        "output_fhsSeason[0]"
      ],
      "metadata": {
        "colab": {
          "base_uri": "https://localhost:8080/",
          "height": 35
        },
        "id": "L5Dk9nm-C8Vu",
        "outputId": "02114bba-b26f-490b-9c76-17b4bc8f435e"
      },
      "execution_count": null,
      "outputs": [
        {
          "output_type": "execute_result",
          "data": {
            "text/plain": [
              "'/content/content/filtered/L1-PCP-E_filtered/bb_L1-PCP-E_NONE_day_2022-01-14.tif'"
            ],
            "application/vnd.google.colaboratory.intrinsic+json": {
              "type": "string"
            }
          },
          "metadata": {},
          "execution_count": 112
        }
      ]
    },
    {
      "cell_type": "code",
      "source": [
        "#visualise the raster output\n",
        "output_fhsSeason     = glob.glob(output_folderSeason + '/*.tif')\n",
        "PCP_tif = gis.OpenAsArray(output_fhsSeason[0],nan_values=True)      # Path to seasonal file\n",
        "plt.figure(figsize = (12,8))\n",
        "plt.imshow(PCP_tif, cmap='RdYlGn')\n",
        "plt.colorbar(shrink=0.75, label=' [$/season]')\n",
        "plt.title('Clipped Seasonal layer')\n",
        "plt.show()"
      ],
      "metadata": {
        "colab": {
          "base_uri": "https://localhost:8080/",
          "height": 538
        },
        "outputId": "1f721881-53c4-4a2c-945c-f6126972db98",
        "id": "DWZBM_yI-5pU"
      },
      "execution_count": null,
      "outputs": [
        {
          "output_type": "display_data",
          "data": {
            "text/plain": [
              "<Figure size 1200x800 with 2 Axes>"
            ],
            "image/png": "[encoded data removed]"
          },
          "metadata": {}
        }
      ]
    }
  ],
  "metadata": {
    "kernelspec": {
      "display_name": "Python 3",
      "language": "python",
      "name": "python3"
    },
    "language_info": {
      "codemirror_mode": {
        "name": "ipython",
        "version": 3
      },
      "file_extension": ".py",
      "mimetype": "text/x-python",
      "name": "python",
      "nbconvert_exporter": "python",
      "pygments_lexer": "ipython3",
      "version": "3.7.3"
    },
    "colab": {
      "provenance": []
    }
  },
  "nbformat": 4,
  "nbformat_minor": 0
}