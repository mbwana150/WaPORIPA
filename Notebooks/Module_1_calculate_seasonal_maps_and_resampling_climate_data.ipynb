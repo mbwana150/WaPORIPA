{
  "cells": [
    {
      "cell_type": "markdown",
      "metadata": {
        "id": "R2_MuDe7IxVl"
      },
      "source": [
        "# Module 1 - Calculating seasonal maps and resampling WaPOR climate data (RET & PCP)\n",
        "This Notebook contains the following steps\n",
        "* Step a - Import modules/libraries\n",
        "* Step b - Calculate seasonal PCP and RET data\n",
        "* Step c - Resampling seasonal PCP and RET raster data\n",
        "\n",
        "**=====================================================================================================================**\n",
        "\n",
        "![image](https://raw.githubusercontent.com/wateraccounting/WaPORIPA/main/images/Resampling.png)\n",
        "\n",
        "**=====================================================================================================================**\n",
        "\n",
        "Before you start running this Notebook, make sure you have the following information:\n",
        "\n",
        "*   WaPOR Reference ET and PCP for your case study for the period you want to do the analyses. Use this script for downloading the data: [Downloading_WaPORv3_data script](https://github.com/wateraccounting/WaPORMOOC/tree/main/1_WaPOR_download_colab). *For small areas make sure you download the data using a bounding box to avoid non data*\n",
        "\n",
        "*   Sample of a TIFF file with the resolution you want to do the analyses"
      ]
    },
    {
      "cell_type": "markdown",
      "metadata": {
        "id": "Y_iJMS-xIxVn"
      },
      "source": [
        "## Step a - Import modules/libraries"
      ]
    },
    {
      "cell_type": "code",
      "execution_count": null,
      "metadata": {
        "id": "BLklqERiuwlx"
      },
      "outputs": [],
      "source": [
        "!pip install --upgrade rioxarray --quiet"
      ]
    },
    {
      "cell_type": "code",
      "execution_count": 2,
      "metadata": {
        "id": "q8YcVs9rIxVo"
      },
      "outputs": [],
      "source": [
        "import os                             # a module for interacting with the operating system\n",
        "import glob                           # used to retrieve files/pathnames matching a specified pattern\n",
        "import matplotlib.pyplot as plt       # is a plotting library used for 2D graphics in python\n",
        "import numpy as np                    # stands for 'Numerical Python, is a python library used for scientific computing with arrays\n",
        "import geopandas as gpd\n",
        "import matplotlib.pyplot as plt\n",
        "import rioxarray as rioxr\n",
        "import rasterio as rio\n",
        "import pandas as pd                       # to store and manipulate tabular data in rows of observations and columns of variables\n",
        "import calendar\n",
        "import datetime\n",
        "\n",
        "from osgeo import ogr, gdal\n",
        "import subprocess\n",
        "from rasterio.enums import Resampling\n",
        "from rasterio.warp import reproject"
      ]
    },
    {
      "cell_type": "markdown",
      "metadata": {
        "id": "9s4f6cHuT2AH"
      },
      "source": [
        "###Import downloaded RET and PCP files"
      ]
    },
    {
      "cell_type": "markdown",
      "metadata": {
        "id": "rkd70isDuSna"
      },
      "source": [
        "Import WaPOR RET and PCP obtained using [Downloading_WaPORv3_data script](https://github.com/wateraccounting/WaPORMOOC/tree/main/1_WaPOR_download_colab).\n",
        "\n",
        "NOTE: *Download using bounding box (bb) not shapefile to avoid non data.*"
      ]
    },
    {
      "cell_type": "code",
      "execution_count": null,
      "metadata": {
        "id": "wxckCHbYTz-o"
      },
      "outputs": [],
      "source": [
        "#To upload data.zip.\n",
        "from google.colab import files\n",
        "uploaded = files.upload()"
      ]
    },
    {
      "cell_type": "code",
      "execution_count": null,
      "metadata": {
        "collapsed": true,
        "id": "Gw8acoPSULds"
      },
      "outputs": [],
      "source": [
        "# unzip the uploaded zipfile\n",
        "!unzip '/content/data.zip' -d '/content/'"
      ]
    },
    {
      "cell_type": "markdown",
      "metadata": {
        "id": "6mzVCz5PfFIQ"
      },
      "source": [
        "# Step b - Create seasonal climate layers\n"
      ]
    },
    {
      "cell_type": "markdown",
      "metadata": {
        "id": "Zju1dspxliRL"
      },
      "source": [
        "###Create input and output folders"
      ]
    },
    {
      "cell_type": "code",
      "execution_count": null,
      "metadata": {
        "id": "M-FFmhkdklpI"
      },
      "outputs": [],
      "source": [
        "target_folderPCP = '/content/content/output/L1-PCP-D'                       # location of data to be aggregated\n",
        "target_fhsPCP    = glob.glob(target_folderPCP + '/*.tif')\n",
        "output_folderPCP_season = \"/content/content/seasonal/L1-PCP-season\"\n",
        "\n",
        "if not os.path.exists(output_folderPCP_season):\n",
        "    os.makedirs(output_folderPCP_season)\n",
        "\n",
        "target_folderRET = '/content/content/output/L1-RET-D'                      # location of data to be aggregated\n",
        "target_fhsRET    = glob.glob(target_folderRET + '/*.tif')\n",
        "output_folderRET_season = \"/content/content/seasonal/L1-RET-season\"\n",
        "\n",
        "if not os.path.exists(output_folderRET_season):\n",
        "    os.makedirs(output_folderRET_season)\n",
        "\n",
        "output_folderPCP_season, output_folderRET_season"
      ]
    },
    {
      "cell_type": "markdown",
      "metadata": {
        "id": "a1OLxVeNlkOm"
      },
      "source": [
        "###Define seasons"
      ]
    },
    {
      "cell_type": "code",
      "execution_count": 25,
      "metadata": {
        "id": "fDXsClRpkmtX"
      },
      "outputs": [],
      "source": [
        "season_periods = {\n",
        "    'season1': {'SOS': '2022-10-01', 'EOS': '2023-04-30'}\n",
        "}"
      ]
    },
    {
      "cell_type": "markdown",
      "metadata": {
        "id": "diX6kjSdhkV-"
      },
      "source": [
        "###Define function for temporal aggregation\n",
        "\n",
        "This script defines the function `SumSeason `which is used in the next sections. We need this function to aggregate PCP and RET data.\n"
      ]
    },
    {
      "cell_type": "code",
      "execution_count": 26,
      "metadata": {
        "id": "1OvdffUohZ1X"
      },
      "outputs": [],
      "source": [
        "# summation of raster between two dates\n",
        "def SumSeason(input_fhs, sowing_date, harvesting_date):\n",
        "\n",
        "    # add rasters that falls within sowing and harvesting date\n",
        "    Sums = 0\n",
        "    for i, in_fh in enumerate(input_fhs):\n",
        "        # open raster file and get start and end date from attributes\n",
        "        ds = rioxr.open_rasterio(in_fh)\n",
        "        ds = ds.where(ds!=ds.attrs['_FillValue'])\n",
        "        if i == 0:\n",
        "          attrs = ds.attrs\n",
        "        raster_startdate = datetime.datetime.strptime(ds.attrs['start_date'], '%Y-%m-%d' ).date()\n",
        "        raster_enddate   = datetime.datetime.strptime(ds.attrs['end_date'], '%Y-%m-%d' ).date()\n",
        "\n",
        "        # accumulate full or part of the dekadal value\n",
        "        if (raster_startdate >= sowing_date) & (raster_enddate <= harvesting_date):\n",
        "            Sum = ds\n",
        "            Sums += Sum\n",
        "#             print (\"1\",in_fh)\n",
        "\n",
        "        elif (raster_startdate <sowing_date)&(raster_enddate >sowing_date)&(raster_enddate <harvesting_date):\n",
        "            Sum = ds\n",
        "            Sum = Sum*((raster_enddate-sowing_date)/(raster_enddate-raster_startdate))\n",
        "            Sums += Sum\n",
        "#             print (\"2\",in_fh)\n",
        "\n",
        "        elif (raster_startdate >sowing_date)&(raster_startdate <harvesting_date)&(raster_enddate >harvesting_date):\n",
        "            Sum = ds\n",
        "            Sum = Sum*((harvesting_date- raster_startdate)/(raster_enddate-raster_startdate))\n",
        "            Sums += Sum\n",
        "#             print (\"3\",in_fh)\n",
        "\n",
        "        elif (sowing_date>=raster_startdate)&(harvesting_date<=raster_enddate):\n",
        "            Sum = ds\n",
        "            Sum = Sum*((harvesting_date- sowing_date)/(raster_enddate-raster_startdate))\n",
        "            Sums += Sum\n",
        "#             print (\"4\",in_fh)\n",
        "    attrs.update({'start_date':datetime.datetime.strftime(SOS, '%Y-%m-%d'),\n",
        "              'end_date': datetime.datetime.strftime(EOS, '%Y-%m-%d'),\n",
        "              'units' : 'mm/season'})\n",
        "    del attrs['number_of_days']\n",
        "    del attrs['temporal_resolution']\n",
        "    del attrs['units_conversion_factor']\n",
        "\n",
        "    Sums.attrs  = attrs\n",
        "    return Sums"
      ]
    },
    {
      "cell_type": "markdown",
      "metadata": {
        "id": "tIY2rdjghvDe"
      },
      "source": [
        "##Calculate seasonal WaPOR RET and PCP\n",
        "### i) Calculate seasonal Reference ET"
      ]
    },
    {
      "cell_type": "code",
      "execution_count": 28,
      "metadata": {
        "id": "5d9Cvw-HlCyx"
      },
      "outputs": [],
      "source": [
        "# Assign inputs to the SumSeason function\n",
        "input_fhs      = target_fhsRET\n",
        "output_folder  = output_folderRET_season\n",
        "\n",
        "for i, season in enumerate(season_periods):\n",
        "    # calculate the seasonal value and save in output_folder\n",
        "    SOS = datetime.datetime.strptime(season_periods[season]['SOS'],'%Y-%m-%d').date()\n",
        "    EOS = datetime.datetime.strptime(season_periods[season]['EOS'],'%Y-%m-%d').date()\n",
        "    seasonal = SumSeason(input_fhs, SOS, EOS)\n",
        "\n",
        "    ## save the array in raster format, name it with the raster_id and sowing and harvesting date\n",
        "    out_fh = os.path.join(output_folder, 'RET' + '_' + season + '_' + season_periods[season]['SOS']+'_to_'+season_periods[season]['EOS']+ '.tif')\n",
        "    seasonal.rio.to_raster(out_fh)"
      ]
    },
    {
      "cell_type": "markdown",
      "metadata": {
        "id": "478M8fXslCVl"
      },
      "source": [
        "### ii) Calculate seasonal precipitation"
      ]
    },
    {
      "cell_type": "code",
      "execution_count": 27,
      "metadata": {
        "id": "AXz74Vyghxmd"
      },
      "outputs": [],
      "source": [
        "# Assign inputs to the SumSeason function\n",
        "input_fhs = target_fhsPCP\n",
        "output_folder  = output_folderPCP_season\n",
        "\n",
        "\n",
        "for i, season in enumerate(season_periods):\n",
        "    # calculate the seasonal value and save in output_folder\n",
        "    SOS = datetime.datetime.strptime(season_periods[season]['SOS'],'%Y-%m-%d').date()\n",
        "    EOS = datetime.datetime.strptime(season_periods[season]['EOS'],'%Y-%m-%d').date()\n",
        "    seasonal = SumSeason(input_fhs, SOS, EOS)\n",
        "\n",
        "    ## save the array in raster format, name it with the raster_id and sowing and harvesting date\n",
        "    out_fh = os.path.join(output_folder, 'PCP'+ '_' + season + '_' + season_periods[season]['SOS']+'_to_'+season_periods[season]['EOS']+ '.tif')\n",
        "    seasonal.rio.to_raster(out_fh)\n"
      ]
    },
    {
      "cell_type": "markdown",
      "metadata": {
        "id": "2wOSM2S2IxVp"
      },
      "source": [
        "# Step c - Resample seasonal raster data\n",
        "\n"
      ]
    },
    {
      "cell_type": "markdown",
      "metadata": {
        "id": "WhmVdi1ZUOPI"
      },
      "source": [
        "The data needs to be resampled to the same resolution as the NPP and AETI data to be able to use in the next module. You need an example file (TIFF file) with this resolution at hand.\n",
        "\n",
        "Import the example file with the required resolution (WaPORv3 or pyWaPOR output file)."
      ]
    },
    {
      "cell_type": "code",
      "execution_count": null,
      "metadata": {
        "id": "dMoO2spOUXY-"
      },
      "outputs": [],
      "source": [
        "#To upload sample resolution file.\n",
        "from google.colab import files\n",
        "uploaded = files.upload()"
      ]
    },
    {
      "cell_type": "markdown",
      "source": [
        "Create input and output folders"
      ],
      "metadata": {
        "id": "7i1q-ILFOpRg"
      }
    },
    {
      "cell_type": "code",
      "execution_count": null,
      "metadata": {
        "id": "Ns_yW5pyIxVq"
      },
      "outputs": [],
      "source": [
        "source_file   = '/content/pywapor_AETI_D_2022-10-01.tif'        # Read gdal info of template raster file\n",
        "target_folder = '/content/content/seasonal/L1-RET-season'                           # folder of RET data to be resampled\n",
        "target_fhsRET_season =  glob.glob(target_folder + '/*.tif')\n",
        "target_folder = '/content/content/seasonal/L1-PCP-season'                      # folder of PCP data to be resampled\n",
        "target_fhsPCP_season    = glob.glob(target_folder + '/*.tif')\n",
        "\n",
        "# create output folder\n",
        "output_folderRET = '/content/content/pywapor_resampled/L1-RET-season_resampled'\n",
        "output_folderPCP = '/content/content/pywapor_resampled/L1-PCP-season_resampled'\n",
        "\n",
        "## Make one if the folder does not exit\n",
        "if not os.path.exists(output_folderRET):\n",
        "    os.makedirs(output_folderRET)\n",
        "\n",
        "if not os.path.exists(output_folderPCP):\n",
        "    os.makedirs(output_folderPCP)\n",
        "\n",
        "source_file, target_folder, target_fhsPCP_season, output_folderPCP,\n",
        "source_file, target_folder, target_fhsRET_season, output_folderRET"
      ]
    },
    {
      "cell_type": "markdown",
      "metadata": {
        "id": "dvtmHT4hIxVs"
      },
      "source": [
        "Define function to resample raster data"
      ]
    },
    {
      "cell_type": "code",
      "source": [
        "#Function to resample raster\n",
        "def resample_raster(source_file, target_files, output_folder, resample_method=Resampling.nearest, dtype='float32'):\n",
        "    with rio.open(source_file) as src:\n",
        "        source_profile = src.profile\n",
        "        source_transform = src.transform\n",
        "        source_crs = src.crs\n",
        "\n",
        "    for target_file in target_files:\n",
        "        with rio.open(target_file) as tgt:\n",
        "            target_data = tgt.read(1)\n",
        "            resampled_data = np.empty(shape=(source_profile['height'], source_profile['width']), dtype=dtype)\n",
        "\n",
        "            reproject(\n",
        "                source=target_data,\n",
        "                destination=resampled_data,\n",
        "                src_transform=tgt.transform,\n",
        "                src_crs=tgt.crs,\n",
        "                dst_transform=source_transform,\n",
        "                dst_crs=source_crs,\n",
        "                resampling=resample_method\n",
        "            )\n",
        "\n",
        "            # Update profile for the resampled file\n",
        "            resampled_profile = source_profile.copy()\n",
        "            resampled_profile.update(dtype=dtype)\n",
        "\n",
        "            # Define the output file path\n",
        "            basename = os.path.basename(target_file)\n",
        "            output_file = os.path.join(output_folder, basename)\n",
        "\n",
        "            with rio.open(output_file, 'w', **resampled_profile) as dst:\n",
        "                dst.write(resampled_data, 1)\n",
        "\n",
        "            # Print the size and shape of the resampled raster file\n",
        "            print(f'Resampled {basename}: size = {resampled_data.size}, shape = {resampled_data.shape}')\n"
      ],
      "metadata": {
        "id": "mEfO6RqOd_GV"
      },
      "execution_count": 51,
      "outputs": []
    },
    {
      "cell_type": "markdown",
      "metadata": {
        "id": "eKOMWULzIxVp"
      },
      "source": [
        "### i) Resample Reference ET"
      ]
    },
    {
      "cell_type": "markdown",
      "metadata": {
        "id": "4QYCm5sIIxVr"
      },
      "source": [
        "Check the size and shape of the raster files"
      ]
    },
    {
      "cell_type": "code",
      "source": [
        "with rio.open(source_file) as src:\n",
        "    print('The size & shape of the template raster      =', src.width * src.height, '&', (src.height, src.width))\n",
        "\n",
        "with rio.open(target_fhsRET_season[0]) as tgt:\n",
        "    print('The size & shape of the data to be resampled =', tgt.width * tgt.height, '&', (tgt.height, tgt.width))"
      ],
      "metadata": {
        "id": "RdSgP8Fak_Ov"
      },
      "execution_count": null,
      "outputs": []
    },
    {
      "cell_type": "markdown",
      "source": [
        "Resample raster data"
      ],
      "metadata": {
        "id": "sSfGbdGtjhaw"
      }
    },
    {
      "cell_type": "code",
      "source": [
        "# Call the function\n",
        "resample_raster(source_file, target_fhsRET_season, output_folderRET)"
      ],
      "metadata": {
        "id": "0Gh-HcxHePgd"
      },
      "execution_count": null,
      "outputs": []
    },
    {
      "cell_type": "markdown",
      "metadata": {
        "id": "XwEriIJ9IxVt"
      },
      "source": [
        "### ii) Resample Precipitation"
      ]
    },
    {
      "cell_type": "markdown",
      "metadata": {
        "id": "CFrq2j4ZIxVu"
      },
      "source": [
        "Check the size and shape of the raster files"
      ]
    },
    {
      "cell_type": "code",
      "source": [
        "with rio.open(source_file) as src:\n",
        "    print('The size & shape of the template raster      =', src.width * src.height, '&', (src.height, src.width))\n",
        "\n",
        "with rio.open(target_fhsPCP_season[0]) as tgt:\n",
        "    print('The size & shape of the data to be resampled =', tgt.width * tgt.height, '&', (tgt.height, tgt.width))"
      ],
      "metadata": {
        "id": "Xmlbpt9BgUS-"
      },
      "execution_count": null,
      "outputs": []
    },
    {
      "cell_type": "markdown",
      "metadata": {
        "id": "0yDgbBU8IxVv"
      },
      "source": [
        "\n",
        "\n",
        "Resample raster data"
      ]
    },
    {
      "cell_type": "code",
      "execution_count": null,
      "metadata": {
        "id": "MZzd-jx_IxVv"
      },
      "outputs": [],
      "source": [
        "# Call the function\n",
        "resample_raster(source_file, target_fhsPCP_season, output_folderPCP)"
      ]
    },
    {
      "cell_type": "markdown",
      "metadata": {
        "id": "51QqpOZEXcFQ"
      },
      "source": [
        "##Zip and download resampled data"
      ]
    },
    {
      "cell_type": "code",
      "execution_count": null,
      "metadata": {
        "id": "RW4p350PXcFQ"
      },
      "outputs": [],
      "source": [
        "!zip -r /content/pywapor_resampled.zip /content/content/pywapor_resampled/\n",
        "from google.colab import files\n",
        "files.download(r'/content/pywapor_resampled.zip')\n"
      ]
    },
    {
      "cell_type": "code",
      "source": [
        "# # if you want to delete a folder use the code below.\n",
        "# !rm -rf /content/content/seasonal_resampled   # remove folder\n",
        "# !rm -rf /content/tifs                         # remove tiffs inside folder\n",
        "# !rm -rf /content/data.zip                     # remove file"
      ],
      "metadata": {
        "id": "kei1xIk8OCij"
      },
      "execution_count": 34,
      "outputs": []
    }
  ],
  "metadata": {
    "colab": {
      "provenance": []
    },
    "kernelspec": {
      "display_name": "Python 3",
      "language": "python",
      "name": "python3"
    },
    "language_info": {
      "codemirror_mode": {
        "name": "ipython",
        "version": 3
      },
      "file_extension": ".py",
      "mimetype": "text/x-python",
      "name": "python",
      "nbconvert_exporter": "python",
      "pygments_lexer": "ipython3",
      "version": "3.7.3"
    }
  },
  "nbformat": 4,
  "nbformat_minor": 0
}