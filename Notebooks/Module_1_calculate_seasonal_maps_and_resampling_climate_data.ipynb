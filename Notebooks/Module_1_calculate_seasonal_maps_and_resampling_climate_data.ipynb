{
  "cells": [
    {
      "cell_type": "markdown",
      "metadata": {
        "id": "R2_MuDe7IxVl"
      },
      "source": [
        "# Module 1 - Calculating seasonal maps and resampling WaPOR climate data (RET & PCP)\n",
        "This Notebook contains the following steps\n",
        "* Step a - Import modules/libraries\n",
        "* Step b - Calculate seasonal PCP and RET data\n",
        "* Step c - Resampling seasonal PCP and RET raster data\n",
        "\n",
        "**=====================================================================================================================**\n",
        "\n",
        "![image](https://raw.githubusercontent.com/wateraccounting/WaPORIPA/main/images/Resampling.png)\n",
        "\n",
        "**=====================================================================================================================**\n",
        "\n",
        "Before you start running this Notebook, make sure you have the following information:\n",
        "\n",
        "*   WaPOR Reference ET and PCP for your case study for the period you want to do the analyses. Use this script for downloading the data: [Downloading_WaPORv3_data script](https://github.com/wateraccounting/WaPORMOOC/tree/main/1_WaPOR_download_colab). *For small areas make sure you download the data using a bounding box to avoid non data*\n",
        "\n",
        "*   Sample of a TIFF file with the resolution you want to do the analyses"
      ]
    },
    {
      "cell_type": "markdown",
      "metadata": {
        "id": "Y_iJMS-xIxVn"
      },
      "source": [
        "## Step a - Import modules/libraries"
      ]
    },
    {
      "cell_type": "code",
      "execution_count": null,
      "metadata": {
        "colab": {
          "base_uri": "https://localhost:8080/"
        },
        "id": "BLklqERiuwlx",
        "outputId": "98453e72-993f-4a2a-ded4-07c51c50c5b6"
      },
      "outputs": [],
      "source": [
        "!pip install --upgrade rioxarray --quiet"
      ]
    },
    {
      "cell_type": "code",
      "execution_count": 2,
      "metadata": {
        "id": "q8YcVs9rIxVo"
      },
      "outputs": [],
      "source": [
        "import os                             # a module for interacting with the operating system\n",
        "import glob                           # used to retrieve files/pathnames matching a specified pattern\n",
        "import matplotlib.pyplot as plt       # is a plotting library used for 2D graphics in python\n",
        "import numpy as np                    # stands for 'Numerical Python, is a python library used for scientific computing with arrays\n",
        "import geopandas as gpd\n",
        "import matplotlib.pyplot as plt\n",
        "import rioxarray as rioxr\n",
        "import rasterio as rio\n",
        "import pandas as pd                       # to store and manipulate tabular data in rows of observations and columns of variables\n",
        "import calendar\n",
        "import datetime\n",
        "\n",
        "from osgeo import ogr, gdal\n",
        "import subprocess\n"
      ]
    },
    {
      "cell_type": "markdown",
      "metadata": {
        "id": "3vzuINO6jjlH"
      },
      "source": [
        "To import some useful GISfunctions, zip the Modules folder from github and upload it here."
      ]
    },
    {
      "cell_type": "code",
      "execution_count": 3,
      "metadata": {
        "colab": {
          "base_uri": "https://localhost:8080/",
          "height": 73
        },
        "id": "HtnM_x2PL2NV",
        "outputId": "00344608-3f76-48cb-d45d-9cc16cff1808"
      },
      "outputs": [
        {
          "data": {
            "text/html": [
              "\n",
              "     <input type=\"file\" id=\"files-b886d49d-287f-4578-af95-9a840479c273\" name=\"files[]\" multiple disabled\n",
              "        style=\"border:none\" />\n",
              "     <output id=\"result-b886d49d-287f-4578-af95-9a840479c273\">\n",
              "      Upload widget is only available when the cell has been executed in the\n",
              "      current browser session. Please rerun this cell to enable.\n",
              "      </output>\n",
              "      <script>// Copyright 2017 Google LLC\n",
              "//\n",
              "// Licensed under the Apache License, Version 2.0 (the \"License\");\n",
              "// you may not use this file except in compliance with the License.\n",
              "// You may obtain a copy of the License at\n",
              "//\n",
              "//      http://www.apache.org/licenses/LICENSE-2.0\n",
              "//\n",
              "// Unless required by applicable law or agreed to in writing, software\n",
              "// distributed under the License is distributed on an \"AS IS\" BASIS,\n",
              "// WITHOUT WARRANTIES OR CONDITIONS OF ANY KIND, either express or implied.\n",
              "// See the License for the specific language governing permissions and\n",
              "// limitations under the License.\n",
              "\n",
              "/**\n",
              " * @fileoverview Helpers for google.colab Python module.\n",
              " */\n",
              "(function(scope) {\n",
              "function span(text, styleAttributes = {}) {\n",
              "  const element = document.createElement('span');\n",
              "  element.textContent = text;\n",
              "  for (const key of Object.keys(styleAttributes)) {\n",
              "    element.style[key] = styleAttributes[key];\n",
              "  }\n",
              "  return element;\n",
              "}\n",
              "\n",
              "// Max number of bytes which will be uploaded at a time.\n",
              "const MAX_PAYLOAD_SIZE = 100 * 1024;\n",
              "\n",
              "function _uploadFiles(inputId, outputId) {\n",
              "  const steps = uploadFilesStep(inputId, outputId);\n",
              "  const outputElement = document.getElementById(outputId);\n",
              "  // Cache steps on the outputElement to make it available for the next call\n",
              "  // to uploadFilesContinue from Python.\n",
              "  outputElement.steps = steps;\n",
              "\n",
              "  return _uploadFilesContinue(outputId);\n",
              "}\n",
              "\n",
              "// This is roughly an async generator (not supported in the browser yet),\n",
              "// where there are multiple asynchronous steps and the Python side is going\n",
              "// to poll for completion of each step.\n",
              "// This uses a Promise to block the python side on completion of each step,\n",
              "// then passes the result of the previous step as the input to the next step.\n",
              "function _uploadFilesContinue(outputId) {\n",
              "  const outputElement = document.getElementById(outputId);\n",
              "  const steps = outputElement.steps;\n",
              "\n",
              "  const next = steps.next(outputElement.lastPromiseValue);\n",
              "  return Promise.resolve(next.value.promise).then((value) => {\n",
              "    // Cache the last promise value to make it available to the next\n",
              "    // step of the generator.\n",
              "    outputElement.lastPromiseValue = value;\n",
              "    return next.value.response;\n",
              "  });\n",
              "}\n",
              "\n",
              "/**\n",
              " * Generator function which is called between each async step of the upload\n",
              " * process.\n",
              " * @param {string} inputId Element ID of the input file picker element.\n",
              " * @param {string} outputId Element ID of the output display.\n",
              " * @return {!Iterable<!Object>} Iterable of next steps.\n",
              " */\n",
              "function* uploadFilesStep(inputId, outputId) {\n",
              "  const inputElement = document.getElementById(inputId);\n",
              "  inputElement.disabled = false;\n",
              "\n",
              "  const outputElement = document.getElementById(outputId);\n",
              "  outputElement.innerHTML = '';\n",
              "\n",
              "  const pickedPromise = new Promise((resolve) => {\n",
              "    inputElement.addEventListener('change', (e) => {\n",
              "      resolve(e.target.files);\n",
              "    });\n",
              "  });\n",
              "\n",
              "  const cancel = document.createElement('button');\n",
              "  inputElement.parentElement.appendChild(cancel);\n",
              "  cancel.textContent = 'Cancel upload';\n",
              "  const cancelPromise = new Promise((resolve) => {\n",
              "    cancel.onclick = () => {\n",
              "      resolve(null);\n",
              "    };\n",
              "  });\n",
              "\n",
              "  // Wait for the user to pick the files.\n",
              "  const files = yield {\n",
              "    promise: Promise.race([pickedPromise, cancelPromise]),\n",
              "    response: {\n",
              "      action: 'starting',\n",
              "    }\n",
              "  };\n",
              "\n",
              "  cancel.remove();\n",
              "\n",
              "  // Disable the input element since further picks are not allowed.\n",
              "  inputElement.disabled = true;\n",
              "\n",
              "  if (!files) {\n",
              "    return {\n",
              "      response: {\n",
              "        action: 'complete',\n",
              "      }\n",
              "    };\n",
              "  }\n",
              "\n",
              "  for (const file of files) {\n",
              "    const li = document.createElement('li');\n",
              "    li.append(span(file.name, {fontWeight: 'bold'}));\n",
              "    li.append(span(\n",
              "        `(${file.type || 'n/a'}) - ${file.size} bytes, ` +\n",
              "        `last modified: ${\n",
              "            file.lastModifiedDate ? file.lastModifiedDate.toLocaleDateString() :\n",
              "                                    'n/a'} - `));\n",
              "    const percent = span('0% done');\n",
              "    li.appendChild(percent);\n",
              "\n",
              "    outputElement.appendChild(li);\n",
              "\n",
              "    const fileDataPromise = new Promise((resolve) => {\n",
              "      const reader = new FileReader();\n",
              "      reader.onload = (e) => {\n",
              "        resolve(e.target.result);\n",
              "      };\n",
              "      reader.readAsArrayBuffer(file);\n",
              "    });\n",
              "    // Wait for the data to be ready.\n",
              "    let fileData = yield {\n",
              "      promise: fileDataPromise,\n",
              "      response: {\n",
              "        action: 'continue',\n",
              "      }\n",
              "    };\n",
              "\n",
              "    // Use a chunked sending to avoid message size limits. See b/62115660.\n",
              "    let position = 0;\n",
              "    do {\n",
              "      const length = Math.min(fileData.byteLength - position, MAX_PAYLOAD_SIZE);\n",
              "      const chunk = new Uint8Array(fileData, position, length);\n",
              "      position += length;\n",
              "\n",
              "      const base64 = btoa(String.fromCharCode.apply(null, chunk));\n",
              "      yield {\n",
              "        response: {\n",
              "          action: 'append',\n",
              "          file: file.name,\n",
              "          data: base64,\n",
              "        },\n",
              "      };\n",
              "\n",
              "      let percentDone = fileData.byteLength === 0 ?\n",
              "          100 :\n",
              "          Math.round((position / fileData.byteLength) * 100);\n",
              "      percent.textContent = `${percentDone}% done`;\n",
              "\n",
              "    } while (position < fileData.byteLength);\n",
              "  }\n",
              "\n",
              "  // All done.\n",
              "  yield {\n",
              "    response: {\n",
              "      action: 'complete',\n",
              "    }\n",
              "  };\n",
              "}\n",
              "\n",
              "scope.google = scope.google || {};\n",
              "scope.google.colab = scope.google.colab || {};\n",
              "scope.google.colab._files = {\n",
              "  _uploadFiles,\n",
              "  _uploadFilesContinue,\n",
              "};\n",
              "})(self);\n",
              "</script> "
            ],
            "text/plain": [
              "<IPython.core.display.HTML object>"
            ]
          },
          "metadata": {},
          "output_type": "display_data"
        },
        {
          "name": "stdout",
          "output_type": "stream",
          "text": [
            "Saving Modules.zip to Modules.zip\n"
          ]
        }
      ],
      "source": [
        "#To upload modules.zip (importing GISfunctions to do the calculations).\n",
        "from google.colab import files\n",
        "uploaded = files.upload()"
      ]
    },
    {
      "cell_type": "code",
      "execution_count": 4,
      "metadata": {
        "colab": {
          "base_uri": "https://localhost:8080/"
        },
        "collapsed": true,
        "id": "9u-TEYspMHQm",
        "outputId": "9bd5243b-2548-4f50-efb2-3ffe992931bf"
      },
      "outputs": [
        {
          "name": "stdout",
          "output_type": "stream",
          "text": [
            "Archive:  /content/Modules.zip\n",
            "   creating: /content/Modules/\n",
            "   creating: /content/Modules/GIS_functions/\n",
            "  inflating: /content/Modules/GIS_functions/GIS_function.py  \n",
            " extracting: /content/Modules/GIS_functions/__init__.py  \n",
            "   creating: /content/Modules/GIS_functions/__pycache__/\n",
            "  inflating: /content/Modules/GIS_functions/__pycache__/GIS_function.cpython-37.pyc  \n",
            "  inflating: /content/Modules/GIS_functions/__pycache__/__init__.cpython-37.pyc  \n",
            "   creating: /content/Modules/WaPOR/\n",
            "  inflating: /content/Modules/WaPOR/GIS_functions.py  \n",
            "  inflating: /content/Modules/WaPOR/WaitbarConsole.py  \n",
            "  inflating: /content/Modules/WaPOR/WaporAPI.py  \n",
            "  inflating: /content/Modules/WaPOR/__init__.py  \n",
            "  inflating: /content/Modules/WaPOR/__init__.pyc  \n",
            "   creating: /content/Modules/WaPOR/__pycache__/\n",
            "  inflating: /content/Modules/WaPOR/__pycache__/AET_dekadal.cpython-36.pyc  \n",
            "  inflating: /content/Modules/WaPOR/__pycache__/AET_dekadal.cpython-37.pyc  \n",
            "  inflating: /content/Modules/WaPOR/__pycache__/AET_monthly.cpython-37.pyc  \n",
            "  inflating: /content/Modules/WaPOR/__pycache__/AET_yearly.cpython-37.pyc  \n",
            "  inflating: /content/Modules/WaPOR/__pycache__/GIS_functions.cpython-36.pyc  \n",
            "  inflating: /content/Modules/WaPOR/__pycache__/GIS_functions.cpython-37.pyc  \n",
            "  inflating: /content/Modules/WaPOR/__pycache__/I_yearly.cpython-37.pyc  \n",
            "  inflating: /content/Modules/WaPOR/__pycache__/LCC_yearly.cpython-36.pyc  \n",
            "  inflating: /content/Modules/WaPOR/__pycache__/LCC_yearly.cpython-37.pyc  \n",
            "  inflating: /content/Modules/WaPOR/__pycache__/NPP_dekadal.cpython-36.pyc  \n",
            "  inflating: /content/Modules/WaPOR/__pycache__/NPP_dekadal.cpython-37.pyc  \n",
            "  inflating: /content/Modules/WaPOR/__pycache__/PCP_daily.cpython-37.pyc  \n",
            "  inflating: /content/Modules/WaPOR/__pycache__/PCP_monthly.cpython-37.pyc  \n",
            "  inflating: /content/Modules/WaPOR/__pycache__/PCP_yearly.cpython-37.pyc  \n",
            "  inflating: /content/Modules/WaPOR/__pycache__/RET_monthly.cpython-37.pyc  \n",
            "  inflating: /content/Modules/WaPOR/__pycache__/RET_yearly.cpython-37.pyc  \n",
            "  inflating: /content/Modules/WaPOR/__pycache__/WaitbarConsole.cpython-37.pyc  \n",
            "  inflating: /content/Modules/WaPOR/__pycache__/WaporAPI.cpython-36.pyc  \n",
            "  inflating: /content/Modules/WaPOR/__pycache__/WaporAPI.cpython-37.pyc  \n",
            "  inflating: /content/Modules/WaPOR/__pycache__/__init__.cpython-36.pyc  \n",
            "  inflating: /content/Modules/WaPOR/__pycache__/__init__.cpython-37.pyc  \n",
            "  inflating: /content/Modules/WaPOR/catalog_2.pickle  \n",
            "  inflating: /content/Modules/WaPOR/download_daily.py  \n",
            "  inflating: /content/Modules/WaPOR/download_dekadal.py  \n",
            "  inflating: /content/Modules/WaPOR/download_monthly.py  \n",
            "  inflating: /content/Modules/WaPOR/download_seasonal.py  \n",
            "  inflating: /content/Modules/WaPOR/download_yearly.py  \n"
          ]
        }
      ],
      "source": [
        "# unzip the uploaded zipfile\n",
        "!unzip '/content/Modules.zip' -d '/content/'"
      ]
    },
    {
      "cell_type": "code",
      "execution_count": 5,
      "metadata": {
        "id": "f9a7Xf1NP5Qu"
      },
      "outputs": [],
      "source": [
        "os.chdir(os.path.join(os.path.split(os.getcwd())[0], \"/content/Modules\"))\n",
        "from GIS_functions import GIS_function as gis"
      ]
    },
    {
      "cell_type": "markdown",
      "metadata": {
        "id": "nwbNfvaVk8lc"
      },
      "source": [
        "Changing directory back to main directory"
      ]
    },
    {
      "cell_type": "code",
      "execution_count": 6,
      "metadata": {
        "id": "z35YwvRjkj8q"
      },
      "outputs": [],
      "source": [
        "os.chdir(os.path.join(os.path.split(os.getcwd())[0], \"/content\"))"
      ]
    },
    {
      "cell_type": "markdown",
      "metadata": {
        "id": "hIKvqDyaIxVp"
      },
      "source": [
        "## Import the input data and sample of resolution"
      ]
    },
    {
      "cell_type": "markdown",
      "metadata": {
        "id": "9s4f6cHuT2AH"
      },
      "source": [
        "##Import downloaded RET and PCP files"
      ]
    },
    {
      "cell_type": "markdown",
      "metadata": {
        "id": "rkd70isDuSna"
      },
      "source": [
        "Import WaPOR RET and PCP using [Downloading_WaPORv3_data script](https://github.com/wateraccounting/WaPORMOOC/tree/main/1_WaPOR_download_colab).\n",
        "\n",
        "*Download using bounding box (bb) not shapefile to avoid non data.*"
      ]
    },
    {
      "cell_type": "code",
      "execution_count": null,
      "metadata": {
        "colab": {
          "base_uri": "https://localhost:8080/",
          "height": 73
        },
        "id": "wxckCHbYTz-o",
        "outputId": "2f912dbc-0f68-41fb-dca8-2f6f4cf537c8"
      },
      "outputs": [],
      "source": [
        "#To upload data.zip.\n",
        "from google.colab import files\n",
        "uploaded = files.upload()"
      ]
    },
    {
      "cell_type": "code",
      "execution_count": 9,
      "metadata": {
        "colab": {
          "base_uri": "https://localhost:8080/"
        },
        "collapsed": true,
        "id": "Gw8acoPSULds",
        "outputId": "edfeac6e-23bb-4d50-9735-0da61505fe46"
      },
      "outputs": [
        {
          "name": "stdout",
          "output_type": "stream",
          "text": [
            "Archive:  /content/data.zip\n",
            "   creating: /content/content/output/\n",
            "   creating: /content/content/output/L1-RET-D/\n",
            "  inflating: /content/content/output/L1-RET-D/bb_L1-RET-D_NONE_dekad_converted_2022-10-01.tif  \n",
            "  inflating: /content/content/output/L1-RET-D/bb_L1-RET-D_NONE_dekad_converted_2023-03-01.tif  \n",
            "  inflating: /content/content/output/L1-RET-D/bb_L1-RET-D_NONE_dekad_converted_2023-01-21.tif  \n",
            "  inflating: /content/content/output/L1-RET-D/bb_L1-RET-D_NONE_dekad_converted_2022-12-01.tif  \n",
            "  inflating: /content/content/output/L1-RET-D/bb_L1-RET-D_NONE_dekad_converted_2022-12-21.tif  \n",
            "  inflating: /content/content/output/L1-RET-D/bb_L1-RET-D_NONE_dekad_converted_2022-11-01.tif  \n",
            "  inflating: /content/content/output/L1-RET-D/bb_L1-RET-D_NONE_dekad_converted_2023-01-11.tif  \n",
            "  inflating: /content/content/output/L1-RET-D/bb_L1-RET-D_NONE_dekad_converted_2023-03-21.tif  \n",
            "  inflating: /content/content/output/L1-RET-D/bb_L1-RET-D_NONE_dekad_converted_2023-04-11.tif  \n",
            "  inflating: /content/content/output/L1-RET-D/bb_L1-RET-D_NONE_dekad_converted_2022-12-11.tif  \n",
            "  inflating: /content/content/output/L1-RET-D/bb_L1-RET-D_NONE_dekad_converted_2022-10-21.tif  \n",
            "  inflating: /content/content/output/L1-RET-D/bb_L1-RET-D_NONE_dekad_converted_2022-11-21.tif  \n",
            "  inflating: /content/content/output/L1-RET-D/bb_L1-RET-D_NONE_dekad_converted_2023-04-21.tif  \n",
            "  inflating: /content/content/output/L1-RET-D/bb_L1-RET-D_NONE_dekad_converted_2023-02-21.tif  \n",
            "  inflating: /content/content/output/L1-RET-D/bb_L1-RET-D_NONE_dekad_converted_2023-03-11.tif  \n",
            "  inflating: /content/content/output/L1-RET-D/bb_L1-RET-D_NONE_dekad_converted_2023-04-01.tif  \n",
            "  inflating: /content/content/output/L1-RET-D/bb_L1-RET-D_NONE_dekad_converted_2023-02-11.tif  \n",
            "  inflating: /content/content/output/L1-RET-D/bb_L1-RET-D_NONE_dekad_converted_2022-10-11.tif  \n",
            "  inflating: /content/content/output/L1-RET-D/bb_L1-RET-D_NONE_dekad_converted_2023-01-01.tif  \n",
            "  inflating: /content/content/output/L1-RET-D/bb_L1-RET-D_NONE_dekad_converted_2022-11-11.tif  \n",
            "  inflating: /content/content/output/L1-RET-D/bb_L1-RET-D_NONE_dekad_converted_2023-02-01.tif  \n",
            "   creating: /content/content/output/L1-PCP-D/\n",
            "  inflating: /content/content/output/L1-PCP-D/bb_L1-PCP-D_NONE_dekad_converted_2023-04-01.tif  \n",
            "  inflating: /content/content/output/L1-PCP-D/bb_L1-PCP-D_NONE_dekad_converted_2022-11-21.tif  \n",
            "  inflating: /content/content/output/L1-PCP-D/bb_L1-PCP-D_NONE_dekad_converted_2022-12-01.tif  \n",
            "  inflating: /content/content/output/L1-PCP-D/bb_L1-PCP-D_NONE_dekad_converted_2022-11-01.tif  \n",
            "  inflating: /content/content/output/L1-PCP-D/bb_L1-PCP-D_NONE_dekad_converted_2023-02-21.tif  \n",
            "  inflating: /content/content/output/L1-PCP-D/bb_L1-PCP-D_NONE_dekad_converted_2023-03-01.tif  \n",
            "  inflating: /content/content/output/L1-PCP-D/bb_L1-PCP-D_NONE_dekad_converted_2022-12-11.tif  \n",
            "  inflating: /content/content/output/L1-PCP-D/bb_L1-PCP-D_NONE_dekad_converted_2023-03-11.tif  \n",
            "  inflating: /content/content/output/L1-PCP-D/bb_L1-PCP-D_NONE_dekad_converted_2022-10-01.tif  \n",
            "  inflating: /content/content/output/L1-PCP-D/bb_L1-PCP-D_NONE_dekad_converted_2022-11-11.tif  \n",
            "  inflating: /content/content/output/L1-PCP-D/bb_L1-PCP-D_NONE_dekad_converted_2023-02-01.tif  \n",
            "  inflating: /content/content/output/L1-PCP-D/bb_L1-PCP-D_NONE_dekad_converted_2023-01-01.tif  \n",
            "  inflating: /content/content/output/L1-PCP-D/bb_L1-PCP-D_NONE_dekad_converted_2023-01-21.tif  \n",
            "  inflating: /content/content/output/L1-PCP-D/bb_L1-PCP-D_NONE_dekad_converted_2022-12-21.tif  \n",
            "  inflating: /content/content/output/L1-PCP-D/bb_L1-PCP-D_NONE_dekad_converted_2023-04-21.tif  \n",
            "  inflating: /content/content/output/L1-PCP-D/bb_L1-PCP-D_NONE_dekad_converted_2023-01-11.tif  \n",
            "  inflating: /content/content/output/L1-PCP-D/bb_L1-PCP-D_NONE_dekad_converted_2022-10-21.tif  \n",
            "  inflating: /content/content/output/L1-PCP-D/bb_L1-PCP-D_NONE_dekad_converted_2022-10-11.tif  \n",
            "  inflating: /content/content/output/L1-PCP-D/bb_L1-PCP-D_NONE_dekad_converted_2023-03-21.tif  \n",
            "  inflating: /content/content/output/L1-PCP-D/bb_L1-PCP-D_NONE_dekad_converted_2023-04-11.tif  \n",
            "  inflating: /content/content/output/L1-PCP-D/bb_L1-PCP-D_NONE_dekad_converted_2023-02-11.tif  \n"
          ]
        }
      ],
      "source": [
        "# unzip the uploaded zipfile\n",
        "!unzip '/content/data.zip' -d '/content/'"
      ]
    },
    {
      "cell_type": "markdown",
      "metadata": {
        "id": "6mzVCz5PfFIQ"
      },
      "source": [
        "# Step b - Create seasonal climate layers\n"
      ]
    },
    {
      "cell_type": "markdown",
      "metadata": {
        "id": "Zju1dspxliRL"
      },
      "source": [
        "Create input and output folders"
      ]
    },
    {
      "cell_type": "code",
      "execution_count": 37,
      "metadata": {
        "colab": {
          "base_uri": "https://localhost:8080/"
        },
        "id": "M-FFmhkdklpI",
        "outputId": "f81b5ace-29c3-460e-e6cf-ec1fb0f1e830"
      },
      "outputs": [
        {
          "data": {
            "text/plain": [
              "('/content/output_seasonal/PCP_Season', '/content/output_seasonal/RET_season')"
            ]
          },
          "execution_count": 37,
          "metadata": {},
          "output_type": "execute_result"
        }
      ],
      "source": [
        "target_folderPCP = '/content/content/output/L1-PCP-D'                       # location of data to be aggregated\n",
        "target_fhsPCP    = target_fhsPCP\n",
        "output_folderPCP_season = \"/content/output_seasonal/PCP_Season\"\n",
        "\n",
        "if not os.path.exists(output_folderPCP_season):\n",
        "    os.makedirs(output_folderPCP_season)\n",
        "\n",
        "target_folderRET = '/content/content/output/L1-RET-D'                      # location of data to be aggregated\n",
        "target_fhsRET    = glob.glob(target_folderRET + '/*.tif')\n",
        "\n",
        "output_folderRET_season = \"/content/output_seasonal/RET_season\"\n",
        "\n",
        "if not os.path.exists(output_folderRET_season):\n",
        "    os.makedirs(output_folderRET_season)\n",
        "\n",
        "output_folderPCP_season, output_folderRET_season"
      ]
    },
    {
      "cell_type": "markdown",
      "metadata": {
        "id": "a1OLxVeNlkOm"
      },
      "source": [
        "Define seasons"
      ]
    },
    {
      "cell_type": "code",
      "execution_count": 36,
      "metadata": {
        "id": "fDXsClRpkmtX"
      },
      "outputs": [],
      "source": [
        "season_periods = {\n",
        "    'season1': {'SOS': '2022-10-01', 'EOS': '2023-04-30'}\n",
        "}"
      ]
    },
    {
      "cell_type": "markdown",
      "metadata": {
        "id": "diX6kjSdhkV-"
      },
      "source": [
        "###Define function for temporal aggregation\n",
        "\n",
        "This script defines the function `SumSeason `which is used in the next sections. We need this function to aggregate PCP and RET data.\n"
      ]
    },
    {
      "cell_type": "code",
      "execution_count": 14,
      "metadata": {
        "id": "1OvdffUohZ1X"
      },
      "outputs": [],
      "source": [
        "# summation of raster between two dates\n",
        "def SumSeason(input_fhs, sowing_date, harvesting_date):\n",
        "\n",
        "    # add rasters that falls within sowing and harvesting date\n",
        "    Sums = 0\n",
        "    for i, in_fh in enumerate(input_fhs):\n",
        "        # open raster file and get start and end date from attributes\n",
        "        ds = rioxr.open_rasterio(in_fh)\n",
        "        ds = ds.where(ds!=ds.attrs['_FillValue'])\n",
        "        if i == 0:\n",
        "          attrs = ds.attrs\n",
        "        raster_startdate = datetime.datetime.strptime(ds.attrs['start_date'], '%Y-%m-%d' ).date()\n",
        "        raster_enddate   = datetime.datetime.strptime(ds.attrs['end_date'], '%Y-%m-%d' ).date()\n",
        "\n",
        "        # accumulate full or part of the dekadal value\n",
        "        if (raster_startdate >= sowing_date) & (raster_enddate <= harvesting_date):\n",
        "            Sum = ds\n",
        "            Sums += Sum\n",
        "#             print (\"1\",in_fh)\n",
        "\n",
        "        elif (raster_startdate <sowing_date)&(raster_enddate >sowing_date)&(raster_enddate <harvesting_date):\n",
        "            Sum = ds\n",
        "            Sum = Sum*((raster_enddate-sowing_date)/(raster_enddate-raster_startdate))\n",
        "            Sums += Sum\n",
        "#             print (\"2\",in_fh)\n",
        "\n",
        "        elif (raster_startdate >sowing_date)&(raster_startdate <harvesting_date)&(raster_enddate >harvesting_date):\n",
        "            Sum = ds\n",
        "            Sum = Sum*((harvesting_date- raster_startdate)/(raster_enddate-raster_startdate))\n",
        "            Sums += Sum\n",
        "#             print (\"3\",in_fh)\n",
        "\n",
        "        elif (sowing_date>=raster_startdate)&(harvesting_date<=raster_enddate):\n",
        "            Sum = ds\n",
        "            Sum = Sum*((harvesting_date- sowing_date)/(raster_enddate-raster_startdate))\n",
        "            Sums += Sum\n",
        "#             print (\"4\",in_fh)\n",
        "    attrs.update({'start_date':datetime.datetime.strftime(SOS, '%Y-%m-%d'),\n",
        "              'end_date': datetime.datetime.strftime(EOS, '%Y-%m-%d'),\n",
        "              'units' : 'mm/season'})\n",
        "    del attrs['number_of_days']\n",
        "    del attrs['temporal_resolution']\n",
        "    del attrs['units_conversion_factor']\n",
        "\n",
        "    Sums.attrs  = attrs\n",
        "    return Sums"
      ]
    },
    {
      "cell_type": "markdown",
      "metadata": {
        "id": "tIY2rdjghvDe"
      },
      "source": [
        "Calculate seasonal **PCP**"
      ]
    },
    {
      "cell_type": "code",
      "execution_count": null,
      "metadata": {
        "id": "AXz74Vyghxmd"
      },
      "outputs": [],
      "source": [
        "# Assign inputs to the SumSeason function\n",
        "input_fhs = target_fhsPCP\n",
        "output_folder  = output_folderPCP_season\n",
        "\n",
        "\n",
        "for i, season in enumerate(season_periods):\n",
        "    # calculate the seasonal value and save in output_folder\n",
        "    SOS = datetime.datetime.strptime(season_periods[season]['SOS'],'%Y-%m-%d').date()\n",
        "    EOS = datetime.datetime.strptime(season_periods[season]['EOS'],'%Y-%m-%d').date()\n",
        "    seasonal = SumSeason(input_fhs, SOS, EOS)\n",
        "\n",
        "    ## save the array in raster format, name it with the raster_id and sowing and harvesting date\n",
        "    out_fh = os.path.join(output_folder, 'PCP' + season + '_' + season_periods[season]['SOS']+'_to_'+season_periods[season]['EOS']+ '.tif')\n",
        "    seasonal.rio.to_raster(out_fh)\n"
      ]
    },
    {
      "cell_type": "markdown",
      "metadata": {
        "id": "478M8fXslCVl"
      },
      "source": [
        "Calculate seasonal **Reference ET**"
      ]
    },
    {
      "cell_type": "code",
      "execution_count": null,
      "metadata": {
        "id": "5d9Cvw-HlCyx"
      },
      "outputs": [],
      "source": [
        "# Assign inputs to the SumSeason function\n",
        "input_fhs      = target_fhsRET\n",
        "output_folder  = output_folderRET_season\n",
        "\n",
        "for i, season in enumerate(season_periods):\n",
        "    # calculate the seasonal value and save in output_folder\n",
        "    SOS = datetime.datetime.strptime(season_periods[season]['SOS'],'%Y-%m-%d').date()\n",
        "    EOS = datetime.datetime.strptime(season_periods[season]['EOS'],'%Y-%m-%d').date()\n",
        "    seasonal = SumSeason(input_fhs, SOS, EOS)\n",
        "\n",
        "    ## save the array in raster format, name it with the raster_id and sowing and harvesting date\n",
        "    out_fh = os.path.join(output_folder, 'RET' + season + '_' + season_periods[season]['SOS']+'_to_'+season_periods[season]['EOS']+ '.tif')\n",
        "    seasonal.rio.to_raster(out_fh)\n",
        "\n"
      ]
    },
    {
      "cell_type": "markdown",
      "metadata": {
        "id": "2wOSM2S2IxVp"
      },
      "source": [
        "# Step c - Resample seasonal raster data\n",
        "\n"
      ]
    },
    {
      "cell_type": "markdown",
      "metadata": {
        "id": "WhmVdi1ZUOPI"
      },
      "source": [
        "The data needs to be resampled to the same resolution as the NPP and AETI data to be able to use in the next module. You need an example file (TIFF file) with this resolution at hand.\n",
        "\n",
        "Import the example file with the required resolution. "
      ]
    },
    {
      "cell_type": "code",
      "execution_count": 10,
      "metadata": {
        "colab": {
          "base_uri": "https://localhost:8080/",
          "height": 55
        },
        "id": "dMoO2spOUXY-",
        "outputId": "df6a590c-9dcc-45e2-b148-7824ea530fa6"
      },
      "outputs": [
        {
          "data": {
            "text/html": [
              "\n",
              "     <input type=\"file\" id=\"files-6aaa0b8b-12c5-432d-a09e-ffdad3dd997b\" name=\"files[]\" multiple disabled\n",
              "        style=\"border:none\" />\n",
              "     <output id=\"result-6aaa0b8b-12c5-432d-a09e-ffdad3dd997b\">\n",
              "      Upload widget is only available when the cell has been executed in the\n",
              "      current browser session. Please rerun this cell to enable.\n",
              "      </output>\n",
              "      <script>// Copyright 2017 Google LLC\n",
              "//\n",
              "// Licensed under the Apache License, Version 2.0 (the \"License\");\n",
              "// you may not use this file except in compliance with the License.\n",
              "// You may obtain a copy of the License at\n",
              "//\n",
              "//      http://www.apache.org/licenses/LICENSE-2.0\n",
              "//\n",
              "// Unless required by applicable law or agreed to in writing, software\n",
              "// distributed under the License is distributed on an \"AS IS\" BASIS,\n",
              "// WITHOUT WARRANTIES OR CONDITIONS OF ANY KIND, either express or implied.\n",
              "// See the License for the specific language governing permissions and\n",
              "// limitations under the License.\n",
              "\n",
              "/**\n",
              " * @fileoverview Helpers for google.colab Python module.\n",
              " */\n",
              "(function(scope) {\n",
              "function span(text, styleAttributes = {}) {\n",
              "  const element = document.createElement('span');\n",
              "  element.textContent = text;\n",
              "  for (const key of Object.keys(styleAttributes)) {\n",
              "    element.style[key] = styleAttributes[key];\n",
              "  }\n",
              "  return element;\n",
              "}\n",
              "\n",
              "// Max number of bytes which will be uploaded at a time.\n",
              "const MAX_PAYLOAD_SIZE = 100 * 1024;\n",
              "\n",
              "function _uploadFiles(inputId, outputId) {\n",
              "  const steps = uploadFilesStep(inputId, outputId);\n",
              "  const outputElement = document.getElementById(outputId);\n",
              "  // Cache steps on the outputElement to make it available for the next call\n",
              "  // to uploadFilesContinue from Python.\n",
              "  outputElement.steps = steps;\n",
              "\n",
              "  return _uploadFilesContinue(outputId);\n",
              "}\n",
              "\n",
              "// This is roughly an async generator (not supported in the browser yet),\n",
              "// where there are multiple asynchronous steps and the Python side is going\n",
              "// to poll for completion of each step.\n",
              "// This uses a Promise to block the python side on completion of each step,\n",
              "// then passes the result of the previous step as the input to the next step.\n",
              "function _uploadFilesContinue(outputId) {\n",
              "  const outputElement = document.getElementById(outputId);\n",
              "  const steps = outputElement.steps;\n",
              "\n",
              "  const next = steps.next(outputElement.lastPromiseValue);\n",
              "  return Promise.resolve(next.value.promise).then((value) => {\n",
              "    // Cache the last promise value to make it available to the next\n",
              "    // step of the generator.\n",
              "    outputElement.lastPromiseValue = value;\n",
              "    return next.value.response;\n",
              "  });\n",
              "}\n",
              "\n",
              "/**\n",
              " * Generator function which is called between each async step of the upload\n",
              " * process.\n",
              " * @param {string} inputId Element ID of the input file picker element.\n",
              " * @param {string} outputId Element ID of the output display.\n",
              " * @return {!Iterable<!Object>} Iterable of next steps.\n",
              " */\n",
              "function* uploadFilesStep(inputId, outputId) {\n",
              "  const inputElement = document.getElementById(inputId);\n",
              "  inputElement.disabled = false;\n",
              "\n",
              "  const outputElement = document.getElementById(outputId);\n",
              "  outputElement.innerHTML = '';\n",
              "\n",
              "  const pickedPromise = new Promise((resolve) => {\n",
              "    inputElement.addEventListener('change', (e) => {\n",
              "      resolve(e.target.files);\n",
              "    });\n",
              "  });\n",
              "\n",
              "  const cancel = document.createElement('button');\n",
              "  inputElement.parentElement.appendChild(cancel);\n",
              "  cancel.textContent = 'Cancel upload';\n",
              "  const cancelPromise = new Promise((resolve) => {\n",
              "    cancel.onclick = () => {\n",
              "      resolve(null);\n",
              "    };\n",
              "  });\n",
              "\n",
              "  // Wait for the user to pick the files.\n",
              "  const files = yield {\n",
              "    promise: Promise.race([pickedPromise, cancelPromise]),\n",
              "    response: {\n",
              "      action: 'starting',\n",
              "    }\n",
              "  };\n",
              "\n",
              "  cancel.remove();\n",
              "\n",
              "  // Disable the input element since further picks are not allowed.\n",
              "  inputElement.disabled = true;\n",
              "\n",
              "  if (!files) {\n",
              "    return {\n",
              "      response: {\n",
              "        action: 'complete',\n",
              "      }\n",
              "    };\n",
              "  }\n",
              "\n",
              "  for (const file of files) {\n",
              "    const li = document.createElement('li');\n",
              "    li.append(span(file.name, {fontWeight: 'bold'}));\n",
              "    li.append(span(\n",
              "        `(${file.type || 'n/a'}) - ${file.size} bytes, ` +\n",
              "        `last modified: ${\n",
              "            file.lastModifiedDate ? file.lastModifiedDate.toLocaleDateString() :\n",
              "                                    'n/a'} - `));\n",
              "    const percent = span('0% done');\n",
              "    li.appendChild(percent);\n",
              "\n",
              "    outputElement.appendChild(li);\n",
              "\n",
              "    const fileDataPromise = new Promise((resolve) => {\n",
              "      const reader = new FileReader();\n",
              "      reader.onload = (e) => {\n",
              "        resolve(e.target.result);\n",
              "      };\n",
              "      reader.readAsArrayBuffer(file);\n",
              "    });\n",
              "    // Wait for the data to be ready.\n",
              "    let fileData = yield {\n",
              "      promise: fileDataPromise,\n",
              "      response: {\n",
              "        action: 'continue',\n",
              "      }\n",
              "    };\n",
              "\n",
              "    // Use a chunked sending to avoid message size limits. See b/62115660.\n",
              "    let position = 0;\n",
              "    do {\n",
              "      const length = Math.min(fileData.byteLength - position, MAX_PAYLOAD_SIZE);\n",
              "      const chunk = new Uint8Array(fileData, position, length);\n",
              "      position += length;\n",
              "\n",
              "      const base64 = btoa(String.fromCharCode.apply(null, chunk));\n",
              "      yield {\n",
              "        response: {\n",
              "          action: 'append',\n",
              "          file: file.name,\n",
              "          data: base64,\n",
              "        },\n",
              "      };\n",
              "\n",
              "      let percentDone = fileData.byteLength === 0 ?\n",
              "          100 :\n",
              "          Math.round((position / fileData.byteLength) * 100);\n",
              "      percent.textContent = `${percentDone}% done`;\n",
              "\n",
              "    } while (position < fileData.byteLength);\n",
              "  }\n",
              "\n",
              "  // All done.\n",
              "  yield {\n",
              "    response: {\n",
              "      action: 'complete',\n",
              "    }\n",
              "  };\n",
              "}\n",
              "\n",
              "scope.google = scope.google || {};\n",
              "scope.google.colab = scope.google.colab || {};\n",
              "scope.google.colab._files = {\n",
              "  _uploadFiles,\n",
              "  _uploadFilesContinue,\n",
              "};\n",
              "})(self);\n",
              "</script> "
            ],
            "text/plain": [
              "<IPython.core.display.HTML object>"
            ]
          },
          "metadata": {},
          "output_type": "display_data"
        },
        {
          "name": "stdout",
          "output_type": "stream",
          "text": [
            "Saving AETIseason1_2022-10-01_to_2023-04-30.tif to AETIseason1_2022-10-01_to_2023-04-30.tif\n"
          ]
        }
      ],
      "source": [
        "#To upload sample resolution file.\n",
        "from google.colab import files\n",
        "uploaded = files.upload()"
      ]
    },
    {
      "cell_type": "markdown",
      "metadata": {
        "id": "eKOMWULzIxVp"
      },
      "source": [
        "## i) Resample Reference ET"
      ]
    },
    {
      "cell_type": "code",
      "execution_count": 78,
      "metadata": {
        "colab": {
          "base_uri": "https://localhost:8080/"
        },
        "collapsed": true,
        "id": "Ns_yW5pyIxVq",
        "outputId": "5e7ded1d-87f0-4681-8e3a-af85ec7817f8"
      },
      "outputs": [
        {
          "data": {
            "text/plain": [
              "('/content/AETIseason1_2022-10-01_to_2023-04-30.tif',\n",
              " '/content/output_seasonal/RET_season',\n",
              " ['/content/output_seasonal/RET_season/RETseason1_2022-10-01_to_2023-04-30.tif'])"
            ]
          },
          "execution_count": 78,
          "metadata": {},
          "output_type": "execute_result"
        }
      ],
      "source": [
        "\n",
        "source_file   = '/content/AETIseason1_2022-10-01_to_2023-04-30.tif'   # Read gdal info of template raster file\n",
        "target_folder = '/content/output_seasonal/RET_season'                 # folder of data to be resampled\n",
        "target_fhsRET_season =  glob.glob(target_folder + '/*.tif')\n",
        "\n",
        "# create output folder\n",
        "output_folder = '/content/content/resampled/L1-RET-D_resampled'\n",
        "\n",
        "## Make one if the folder does not exit\n",
        "if not os.path.exists(output_folder):\n",
        "    os.makedirs(output_folder)\n",
        "\n",
        "source_file, target_folder, target_fhsRET_season, output_folder"
      ]
    },
    {
      "cell_type": "markdown",
      "metadata": {
        "id": "4QYCm5sIIxVr"
      },
      "source": [
        "Check the size and shape of the raster files"
      ]
    },
    {
      "cell_type": "code",
      "execution_count": 79,
      "metadata": {
        "colab": {
          "base_uri": "https://localhost:8080/"
        },
        "id": "DjXQiD_ZIxVr",
        "outputId": "23eaafda-7b51-4c72-9c7b-56c390fc9f7d"
      },
      "outputs": [
        {
          "name": "stdout",
          "output_type": "stream",
          "text": [
            "The size & shape of the template raster      = 353694 & (466, 759)\n",
            "The size & shape of the data to be resampled = 2 & (1, 2)\n"
          ]
        }
      ],
      "source": [
        "## The size and shape of the raster files\n",
        "template   = gis.OpenAsArray(source_file, nan_values=True)\n",
        "original   = gis.OpenAsArray(target_fhsRET_season[0], nan_values=True)\n",
        "\n",
        "print ('The size & shape of the template raster      =', template.size,  '&', template.shape)\n",
        "print ('The size & shape of the data to be resampled =', original.size,  '&', original.shape)"
      ]
    },
    {
      "cell_type": "markdown",
      "metadata": {
        "id": "dvtmHT4hIxVs"
      },
      "source": [
        "Resample raster data"
      ]
    },
    {
      "cell_type": "code",
      "execution_count": 81,
      "metadata": {
        "id": "_U6uguTAIxVs"
      },
      "outputs": [],
      "source": [
        "Resample = gis.MatchProjResNDV (source_file, target_fhsRET_season, output_folder, resample = 'near', dtype = 'float32')"
      ]
    },
    {
      "cell_type": "markdown",
      "metadata": {},
      "source": [
        "Check the size and shape of the raster files"
      ]
    },
    {
      "cell_type": "code",
      "execution_count": 83,
      "metadata": {
        "colab": {
          "base_uri": "https://localhost:8080/"
        },
        "id": "uS6y9KR5IxVt",
        "outputId": "e2eeea01-0d7b-467c-fc3f-0de90476e2af"
      },
      "outputs": [
        {
          "name": "stdout",
          "output_type": "stream",
          "text": [
            "The size & shape of the resampled data = 353694 & (466, 759)\n"
          ]
        }
      ],
      "source": [
        "## Check the size and shape of the resampled raster files\n",
        "Resampled   = \"/content/content/resampled/L1-RET-D_resampled/RETseason1_2022-10-01_to_2023-04-30.tif\"\n",
        "resampled   = gis.OpenAsArray(Resampled , nan_values=True)\n",
        "\n",
        "print ('The size & shape of the resampled data =', resampled.size,  '&', resampled.shape)"
      ]
    },
    {
      "cell_type": "markdown",
      "metadata": {
        "id": "XwEriIJ9IxVt"
      },
      "source": [
        "## ii) Resample Precipitation layers"
      ]
    },
    {
      "cell_type": "code",
      "execution_count": 65,
      "metadata": {
        "colab": {
          "base_uri": "https://localhost:8080/"
        },
        "collapsed": true,
        "id": "PF7RBh2pIxVt",
        "outputId": "a7f7cf7d-2b5e-483e-d3e3-c672c1ac3791"
      },
      "outputs": [
        {
          "data": {
            "text/plain": [
              "('/content/AETIseason1_2022-10-01_to_2023-04-30.tif',\n",
              " '/content/output_seasonal/PCP_Season',\n",
              " ['/content/output_seasonal/PCP_Season/PCPseason1_2022-10-01_to_2023-04-30.tif'])"
            ]
          },
          "execution_count": 65,
          "metadata": {},
          "output_type": "execute_result"
        }
      ],
      "source": [
        "source_file   = '/content/AETIseason1_2022-10-01_to_2023-04-30.tif'     # Read gdal info of template raster file\n",
        "target_folder = '/content/output_seasonal/PCP_Season'                      # data to be resampled\n",
        "target_fhsPCP    = glob.glob(target_folder + '/*.tif')\n",
        "\n",
        "# Create output folder\n",
        "output_folder = '/content/content/resampled/L1-PCP-D_resampled'\n",
        "\n",
        "## Make one if the folder does not exit\n",
        "if not os.path.exists(output_folder):\n",
        "    os.makedirs(output_folder)\n",
        "\n",
        "\n",
        "source_file, target_folder, target_fhsPCP, output_folder"
      ]
    },
    {
      "cell_type": "markdown",
      "metadata": {
        "id": "CFrq2j4ZIxVu"
      },
      "source": [
        "Check the size and shape of the raster files"
      ]
    },
    {
      "cell_type": "code",
      "execution_count": 68,
      "metadata": {
        "colab": {
          "base_uri": "https://localhost:8080/"
        },
        "id": "QOUOya1eIxVu",
        "outputId": "355c5451-07c4-44df-9ae3-866f52ffa766"
      },
      "outputs": [
        {
          "name": "stdout",
          "output_type": "stream",
          "text": [
            "The size & shape of the template raster      = 353694 & (466, 759)\n",
            "The size & shape of the data to be resampled = 8 & (2, 4)\n"
          ]
        }
      ],
      "source": [
        "## The size and shape of the raster files\n",
        "template   = gis.OpenAsArray(source_file, nan_values=True)\n",
        "original   = gis.OpenAsArray(target_fhsPCP[0], nan_values=True)\n",
        "\n",
        "print ('The size & shape of the template raster      =', template.size,  '&', template.shape)\n",
        "print ('The size & shape of the data to be resampled =', original.size,  '&', original.shape)"
      ]
    },
    {
      "cell_type": "markdown",
      "metadata": {
        "id": "0yDgbBU8IxVv"
      },
      "source": [
        "Resample raster data"
      ]
    },
    {
      "cell_type": "code",
      "execution_count": 72,
      "metadata": {
        "id": "MZzd-jx_IxVv"
      },
      "outputs": [],
      "source": [
        "Resample = gis.MatchProjResNDV (source_file, target_fhsPCP, output_folder, resample = 'near', dtype = 'float32')"
      ]
    },
    {
      "cell_type": "markdown",
      "metadata": {},
      "source": [
        "Check the size and shape of the raster files"
      ]
    },
    {
      "cell_type": "code",
      "execution_count": 74,
      "metadata": {
        "colab": {
          "base_uri": "https://localhost:8080/"
        },
        "id": "jWcIlSCRIxVv",
        "outputId": "02fe84da-f498-4bdf-965b-98cf96567655"
      },
      "outputs": [
        {
          "name": "stdout",
          "output_type": "stream",
          "text": [
            "The size & shape of the resampled data = 353694 & (466, 759)\n"
          ]
        }
      ],
      "source": [
        "## Check the size and shape of the resampled raster files\n",
        "Resampled   = \"/content/content/resampled/L1-PCP-D_resampled/PCPseason1_2022-10-01_to_2023-04-30.tif\"\n",
        "resampled   = gis.OpenAsArray(Resampled , nan_values=True)\n",
        "\n",
        "print ('The size & shape of the resampled data =', resampled.size,  '&', resampled.shape)"
      ]
    },
    {
      "cell_type": "markdown",
      "metadata": {},
      "source": [
        "##Zip and download resampled data "
      ]
    },
    {
      "cell_type": "code",
      "execution_count": null,
      "metadata": {},
      "outputs": [],
      "source": [
        "!zip -r /content/resampled.zip /content/content/resampled\n",
        "from google.colab import files\n",
        "files.download(r'/content/resampled.zip')\n"
      ]
    }
  ],
  "metadata": {
    "colab": {
      "provenance": []
    },
    "kernelspec": {
      "display_name": "Python 3",
      "language": "python",
      "name": "python3"
    },
    "language_info": {
      "codemirror_mode": {
        "name": "ipython",
        "version": 3
      },
      "file_extension": ".py",
      "mimetype": "text/x-python",
      "name": "python",
      "nbconvert_exporter": "python",
      "pygments_lexer": "ipython3",
      "version": "3.7.3"
    }
  },
  "nbformat": 4,
  "nbformat_minor": 0
}
