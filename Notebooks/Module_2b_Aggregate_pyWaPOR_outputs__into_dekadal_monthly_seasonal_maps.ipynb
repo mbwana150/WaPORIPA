{
  "cells": [
    {
      "cell_type": "markdown",
      "source": [
        "!"
      ],
      "metadata": {
        "id": "SDDyUu-vXc-Y"
      }
    },
    {
      "cell_type": "code",
      "source": [
        "%%capture\n",
        "!pip install --upgrade xarray --quiet\n",
        "!pip install --upgrade rioxarray --quiet"
      ],
      "metadata": {
        "id": "9bdXzjxqXrZx"
      },
      "execution_count": null,
      "outputs": []
    },
    {
      "cell_type": "code",
      "execution_count": null,
      "metadata": {
        "id": "LOJ77jsKXWuM"
      },
      "outputs": [],
      "source": [
        "import xarray as xr\n",
        "import rioxarray as rio\n",
        "from rasterio.warp import reproject, Resampling\n",
        "import pandas as pd\n",
        "import numpy as np\n",
        "import datetime\n",
        "import os"
      ]
    },
    {
      "cell_type": "code",
      "source": [
        "from google.colab import drive\n",
        "drive.mount('/content/gdrive/', force_remount=True)\n",
        "\n",
        "%cd /content/gdrive/MyDrive"
      ],
      "metadata": {
        "colab": {
          "base_uri": "https://localhost:8080/"
        },
        "id": "1L_fw8CSak9Z",
        "outputId": "05cbed93-0685-41fb-95fc-5e3225e13837"
      },
      "execution_count": null,
      "outputs": [
        {
          "output_type": "stream",
          "name": "stdout",
          "text": [
            "Mounted at /content/gdrive/\n",
            "/content/gdrive/MyDrive\n"
          ]
        }
      ]
    },
    {
      "cell_type": "code",
      "execution_count": null,
      "metadata": {
        "id": "9En9y1jrXWuN"
      },
      "outputs": [],
      "source": [
        "# functions to calculate dekadal, monthly and seasonal sums from the ET_look output netcdf file\n",
        "\n",
        "# decadal sum\n",
        "def dekadal_sum(ds):\n",
        "    # Store encoding information\n",
        "    encoding = {var: ds[var].encoding for var in ds.data_vars}\n",
        "\n",
        "    d = ds.time.dt.day - np.clip((ds.time.dt.day-1) // 10, 0, 2)*10 - 1\n",
        "    date = ds.time.values - np.array(d, dtype=\"timedelta64[D]\")\n",
        "    ds['time'] = date\n",
        "    ds_dk = ds.groupby(ds.time).sum(dim='time', keep_attrs=True)\n",
        "    # Restore encoding information\n",
        "    for var in ds_dk.data_vars:\n",
        "        if var in encoding:  # Ensure the variable exists in the original encoding\n",
        "            ds_dk[var].encoding = encoding[var]\n",
        "\n",
        "    return ds_dk\n",
        "\n",
        "# Monthly sum\n",
        "def monthly_sum(ds):\n",
        "    # Store encoding information\n",
        "    encoding = {var: ds[var].encoding for var in ds.data_vars}\n",
        "\n",
        "    ds_mn = ds.resample(time=\"1ME\").sum()\n",
        "    # Restore encoding information\n",
        "    for var in ds_mn.data_vars:\n",
        "        if var in encoding:  # Ensure the variable exists in the original encoding\n",
        "            ds_mn[var].encoding = encoding[var]\n",
        "    return ds_mn\n",
        "# Check if the start and end time of the selected dataarray corresponds to sos and eos\n",
        "def select_season_da(da_var, season_start_date, season_end_date):\n",
        "\n",
        "    sos = datetime.datetime.fromisoformat(season_start_date) #start of season date, we use datetime.datetime to convert the year, month, day to a datetime object\n",
        "    eos = datetime.datetime.fromisoformat(season_end_date) #end of season date\n",
        "    # check if sos and eos are within the time of the datset\n",
        "\n",
        "    da_st = datetime.datetime.fromisoformat(pd.to_datetime(da_var.time.data).strftime('%Y-%m-%d')[0])\n",
        "    da_et = datetime.datetime.fromisoformat(pd.to_datetime(da_var.time.data).strftime('%Y-%m-%d')[-1])\n",
        "    try:\n",
        "        if (sos >= da_st) or (eos <= da_et):\n",
        "            da = da_var.sel(time=slice(sos, eos))\n",
        "            return da\n",
        "        else:\n",
        "            print(\"The sos and/or eos out of the time range of the dataset.\")\n",
        "            da = da_var.sel(time=slice(sos, eos))\n",
        "            return da\n",
        "    except ValueError:\n",
        "        print(\"Erro in selecting data for the season.\")\n",
        "\n",
        "\n",
        "# Seasonal Resample\n",
        "def seasonal_sum(ds, sos, eos):\n",
        "    # Store encoding information\n",
        "    encoding = {var: ds[var].encoding for var in ds.data_vars}\n",
        "\n",
        "    ds_sn = select_season_da(ds, sos, eos)\n",
        "    ds_sn = ds_sn.sum(dim = 'time')\n",
        "    # Restore encoding information\n",
        "    for var in ds_sn.data_vars:\n",
        "        if var in encoding:  # Ensure the variable exists in the original encoding\n",
        "            encoding[var]['sos']= sos\n",
        "            encoding[var]['eos']= eos\n",
        "            ds_sn[var].encoding = encoding[var]\n",
        "    return ds_sn\n",
        "\n",
        "# reproject the dataset\n",
        "def reproject(ds):\n",
        "  crs_info = input(f\"The estimated UTM crs is {ds.rio.estimate_utm_crs()}.\\nWould like to repoject the dataset? Enter a valid EPSG code\\\n",
        "  or a template raster file path: \")\n",
        "  try:\n",
        "      # Convert it into integer\n",
        "      to_crs = int(crs_info)\n",
        "      print(f\"project to EPSG:{crs_info}\")\n",
        "      to_crs = f\"EPSG:{to_crs}\"\n",
        "      dst = ds.rio.reproject(to_crs)\n",
        "      # dst = ds.rio.reproject(to_crs, resampling=Resampling.nearest, nodata=-9999)\n",
        "      return dst\n",
        "  except ValueError:\n",
        "      try:\n",
        "          if os.path.exists(crs_info):\n",
        "              print(\"Use a template raster to repoject the dataset\")\n",
        "              temp_rst_file = crs_info\n",
        "              da_rst = rio.open_rasterio(temp_rst_file)\n",
        "              if da_rst.rio.crs != None:\n",
        "                  dst= ds.rio.reproject_match(da_rst, nodata=-9999)\n",
        "                  return dst\n",
        "              else:\n",
        "                  print(f\"the template raster {temp_rst_file} does not have CRS information.\")\n",
        "      except ValueError:\n",
        "          print(\"Your input is not either a valid EPSG code or a teplate raster path.\")\n",
        "\n",
        "\n",
        "switcher = {\n",
        "        'et': 'AETI',\n",
        "        'e': 'E',\n",
        "        'int': 'I',\n",
        "        'npp': 'NPP',\n",
        "        't': 'T',\n",
        "        'se': 'RSM'\n",
        "    }\n",
        "def get_var_name(var_name):\n",
        "    func = switcher.get(var_name, \"nothing\")\n",
        "    # Execute the function\n",
        "    return func\n",
        "switcher2 = {\n",
        "        'dekadal': 'D',\n",
        "        'monthly': 'M',\n",
        "        'seasonal': 'S',\n",
        "    }\n",
        "def get_time_code(temporal_res):\n",
        "    func = switcher2.get(temporal_res, \"nothing\")\n",
        "    # Execute the function\n",
        "    return func\n",
        "\n",
        "# netCDF to geotiff\n",
        "def write2gtiff(ds, temporal_res, dir_out):\n",
        "\n",
        "  if 'time' in ds.dims:\n",
        "      date_str = pd.to_datetime(ds.time.data).strftime('%Y-%m-%d')\n",
        "\n",
        "  for var in ds.data_vars:\n",
        "    var_name = get_var_name(var.split('_')[0])\n",
        "    time_code = get_time_code(temporal_res)\n",
        "    var_name = f\"{var_name}_{time_code}\"\n",
        "    fd = os.path.join(dir_out, temporal_res, f\"pywapor_{var_name}\")\n",
        "    encoding  = ds[var].encoding\n",
        "    attrs = ds[var].attrs\n",
        "    if(temporal_res.lower() == 'seasonal'):\n",
        "        sos = encoding['sos']\n",
        "        eos = encoding['eos']\n",
        "    # Create folder per variable.\n",
        "    if not os.path.isdir(fd):\n",
        "        os.makedirs(fd)\n",
        "\n",
        "    if(temporal_res.lower() != 'seasonal'):\n",
        "        for i in range(len(ds.time)):\n",
        "            date = date_str[i]\n",
        "            fname = os.path.join(fd, f\"pywapor_{var_name}_{date}\")\n",
        "            da = ds[var][i]\n",
        "            da = da.drop_vars('time')  # get the data for one time step\n",
        "            # da = da.where(da==encoding['_FillValue'], da*da.attrs['scale_factor'])\n",
        "\n",
        "            # Modify the attributes\n",
        "            attrs_to_delete = [j for j in attrs if 'NETCDF_' in j or 'scale_factor' in j]\n",
        "            attrs_new = {key: attrs[key] for key in attrs if key not in attrs_to_delete}\n",
        "            lname = attrs_new['long_name']\n",
        "            if 'Daily' in lname:\n",
        "              lname = lname.replace(\"Daily\", temporal_res)\n",
        "\n",
        "            attrs_new.update({'date': date,\n",
        "                            'units' : f\"mm/{temporal_res}\",\n",
        "                            'temporal_resolution' : temporal_res,\n",
        "                            'long_name': lname\n",
        "                              })\n",
        "            da.encoding['scale_factor'] = 1.0\n",
        "            da.attrs  = attrs_new\n",
        "            # write the dataarray to a geotif file\n",
        "            da = da.astype('float32')\n",
        "            da.rio.to_raster(f\"{fname}.tif\", driver=\"GTiff\", compress=\"LZW\")\n",
        "            da.close()\n",
        "    else:\n",
        "        date = f\"{sos}_{eos}\"\n",
        "        fname = os.path.join(fd, f\"pywapor_{var_name}_{date}\")\n",
        "        da = ds[var]\n",
        "        # da = da.where(da==encoding['_FillValue'], da*da.attrs['scale_factor'])\n",
        "\n",
        "        # Modify the attributes\n",
        "        attrs_to_delete = [j for j in attrs if 'NETCDF_' in j or 'scale_factor' in j]\n",
        "        attrs_new = {key: attrs[key] for key in attrs if key not in attrs_to_delete}\n",
        "        lname = attrs_new['long_name']\n",
        "        if 'Daily' in lname:\n",
        "          lname = lname.replace(\"Daily\", temporal_res)\n",
        "\n",
        "        attrs_new.update({'date': date,\n",
        "                        'units' : f\"mm/{temporal_res}\",\n",
        "                        'temporal_resolution' : temporal_res,\n",
        "                        'long_name': lname\n",
        "                          })\n",
        "        da.encoding['scale_factor'] = 1.0\n",
        "        da.attrs  = attrs_new\n",
        "        # write the dataarray to a geotif file\n",
        "        da = da.astype('float32')\n",
        "        # write the dataarray to a geotif file\n",
        "        da.rio.to_raster(f\"{fname}.tif\", driver=\"GTiff\", compress=\"LZW\")\n",
        "        da.close()"
      ]
    },
    {
      "cell_type": "markdown",
      "metadata": {
        "id": "IpPAxwywXWuP"
      },
      "source": [
        "#### Step 1: Read pywapor output"
      ]
    },
    {
      "cell_type": "code",
      "execution_count": null,
      "metadata": {
        "id": "74LRxs82XWuR"
      },
      "outputs": [],
      "source": [
        "# path to the et_look_out/nc file\n",
        "path_et_look_out = r'/content/gdrive/MyDrive/pywapor/et_look_out.nc'\n",
        "xr.set_options(keep_attrs=True)\n",
        "ds = xr.open_dataset(path_et_look_out, decode_coords=\"all\")\n",
        "ds = ds.rename({'time_bins': 'time'})\n",
        "# ds"
      ]
    },
    {
      "cell_type": "markdown",
      "metadata": {
        "id": "LMRsw0uRXWuS"
      },
      "source": [
        "#### Step 2: Reproject the xarray dataset if needed\n",
        "The ET_look output is in EPSG:4326, use the next cell to reproject the dataset to other projections, otherwise skip it."
      ]
    },
    {
      "cell_type": "code",
      "execution_count": null,
      "metadata": {
        "colab": {
          "base_uri": "https://localhost:8080/"
        },
        "id": "-f7pm9f_XWuT",
        "outputId": "6ffbf35e-3430-4613-ed36-5f8daece2c1e"
      },
      "outputs": [
        {
          "output_type": "stream",
          "name": "stdout",
          "text": [
            "The estimated UTM crs is EPSG:32636.\n",
            "Would like to repoject the dataset? Enter a valid EPSG code  or a template raster file path: 32636\n",
            "project to EPSG:32636\n"
          ]
        }
      ],
      "source": [
        "dst = reproject(ds)"
      ]
    },
    {
      "cell_type": "markdown",
      "metadata": {
        "id": "YQIVRmFJXWuT"
      },
      "source": [
        "#### Step 3: Aggregate to the required timestep (dekadal, monthly or seasonal) and write the result to individual geotiff files per time step"
      ]
    },
    {
      "cell_type": "code",
      "source": [
        "dir_out = r'/content/gdrive/MyDrive/pywapor' # a folder in your gdrive to save the geotif files\n",
        "# dir_out = r'pywapor_out' # a folder in colab working directory to save the geotif files"
      ],
      "metadata": {
        "id": "4Ybtj53qti1X"
      },
      "execution_count": null,
      "outputs": []
    },
    {
      "cell_type": "code",
      "execution_count": null,
      "metadata": {
        "id": "eJN1W2BjXWuT"
      },
      "outputs": [],
      "source": [
        "# aggregate to dekadal timestep\n",
        "ds_dk = dekadal_sum(dst) # dekadal\n",
        "temporal_res = 'dekadal'\n",
        "write2gtiff(ds_dk, temporal_res, dir_out)"
      ]
    },
    {
      "cell_type": "code",
      "source": [
        "# aggregate to monthly timestep\n",
        "ds_mn = monthly_sum(dst) # monthly\n",
        "# dir_out = r'pywapor_out' # folder to save the geotif files\n",
        "temporal_res = 'monthly'\n",
        "write2gtiff(ds_mn, temporal_res, dir_out)"
      ],
      "metadata": {
        "id": "UDmZqPbxTh17"
      },
      "execution_count": null,
      "outputs": []
    },
    {
      "cell_type": "code",
      "source": [
        "# aggregate to seasonal timestep\n",
        "season_start_date = '2022-10-05' # start od the season in iso format\n",
        "season_end_date = '2023-11-28' # end of the season in iso format\n",
        "ds_sn = seasonal_sum(dst, season_start_date, season_end_date)\n",
        "# dir_out = r'pywapor_out' # folder to save the geotif files\n",
        "temporal_res = 'seasonal'\n",
        "write2gtiff(ds_sn, temporal_res, dir_out)\n"
      ],
      "metadata": {
        "id": "Xs5Hnpv7TipI"
      },
      "execution_count": null,
      "outputs": []
    },
    {
      "cell_type": "markdown",
      "source": [
        "\n",
        "### Zip and downalod the data folder to your local drive"
      ],
      "metadata": {
        "id": "Bu0U4nygsuuo"
      }
    },
    {
      "cell_type": "code",
      "source": [
        "\n",
        "!zip -r /content/pywapor.zip /content/gdrive/MyDrive/pywapor_out\n",
        "from google.colab import files\n",
        "files.download('/content/pywapor.zip')"
      ],
      "metadata": {
        "colab": {
          "base_uri": "https://localhost:8080/",
          "height": 1000
        },
        "id": "jC5PwcYNsu-m",
        "outputId": "a42e6bc4-0f1a-426a-919b-8be414b41e70"
      },
      "execution_count": null,
      "outputs": [
        {
          "output_type": "stream",
          "name": "stdout",
          "text": [
            "  adding: content/gdrive/MyDrive/pywapor_out/ (stored 0%)\n",
            "  adding: content/gdrive/MyDrive/pywapor_out/dekadal/ (stored 0%)\n",
            "  adding: content/gdrive/MyDrive/pywapor_out/dekadal/pywapor_I_D/ (stored 0%)\n",
            "  adding: content/gdrive/MyDrive/pywapor_out/dekadal/pywapor_I_D/pywapor_I_D_2022-10-01.tif (deflated 5%)\n",
            "  adding: content/gdrive/MyDrive/pywapor_out/dekadal/pywapor_I_D/pywapor_I_D_2022-10-11.tif (deflated 6%)\n",
            "  adding: content/gdrive/MyDrive/pywapor_out/dekadal/pywapor_I_D/pywapor_I_D_2022-10-21.tif (deflated 96%)\n",
            "  adding: content/gdrive/MyDrive/pywapor_out/dekadal/pywapor_I_D/pywapor_I_D_2022-11-01.tif (deflated 96%)\n",
            "  adding: content/gdrive/MyDrive/pywapor_out/dekadal/pywapor_I_D/pywapor_I_D_2022-11-11.tif (deflated 96%)\n",
            "  adding: content/gdrive/MyDrive/pywapor_out/dekadal/pywapor_I_D/pywapor_I_D_2022-11-21.tif (deflated 96%)\n",
            "  adding: content/gdrive/MyDrive/pywapor_out/dekadal/pywapor_T_D/ (stored 0%)\n",
            "  adding: content/gdrive/MyDrive/pywapor_out/dekadal/pywapor_T_D/pywapor_T_D_2022-10-01.tif (deflated 6%)\n",
            "  adding: content/gdrive/MyDrive/pywapor_out/dekadal/pywapor_T_D/pywapor_T_D_2022-10-11.tif (deflated 6%)\n",
            "  adding: content/gdrive/MyDrive/pywapor_out/dekadal/pywapor_T_D/pywapor_T_D_2022-10-21.tif (deflated 6%)\n",
            "  adding: content/gdrive/MyDrive/pywapor_out/dekadal/pywapor_T_D/pywapor_T_D_2022-11-01.tif (deflated 6%)\n",
            "  adding: content/gdrive/MyDrive/pywapor_out/dekadal/pywapor_T_D/pywapor_T_D_2022-11-11.tif (deflated 6%)\n",
            "  adding: content/gdrive/MyDrive/pywapor_out/dekadal/pywapor_T_D/pywapor_T_D_2022-11-21.tif (deflated 6%)\n",
            "  adding: content/gdrive/MyDrive/pywapor_out/dekadal/pywapor_E_D/ (stored 0%)\n",
            "  adding: content/gdrive/MyDrive/pywapor_out/dekadal/pywapor_E_D/pywapor_E_D_2022-10-01.tif (deflated 5%)\n",
            "  adding: content/gdrive/MyDrive/pywapor_out/dekadal/pywapor_E_D/pywapor_E_D_2022-10-11.tif (deflated 5%)\n",
            "  adding: content/gdrive/MyDrive/pywapor_out/dekadal/pywapor_E_D/pywapor_E_D_2022-10-21.tif (deflated 5%)\n",
            "  adding: content/gdrive/MyDrive/pywapor_out/dekadal/pywapor_E_D/pywapor_E_D_2022-11-01.tif (deflated 5%)\n",
            "  adding: content/gdrive/MyDrive/pywapor_out/dekadal/pywapor_E_D/pywapor_E_D_2022-11-11.tif (deflated 5%)\n",
            "  adding: content/gdrive/MyDrive/pywapor_out/dekadal/pywapor_E_D/pywapor_E_D_2022-11-21.tif (deflated 5%)\n",
            "  adding: content/gdrive/MyDrive/pywapor_out/dekadal/pywapor_AETI_D/ (stored 0%)\n",
            "  adding: content/gdrive/MyDrive/pywapor_out/dekadal/pywapor_AETI_D/pywapor_AETI_D_2022-10-01.tif (deflated 5%)\n",
            "  adding: content/gdrive/MyDrive/pywapor_out/dekadal/pywapor_AETI_D/pywapor_AETI_D_2022-10-11.tif (deflated 5%)\n",
            "  adding: content/gdrive/MyDrive/pywapor_out/dekadal/pywapor_AETI_D/pywapor_AETI_D_2022-10-21.tif (deflated 5%)\n",
            "  adding: content/gdrive/MyDrive/pywapor_out/dekadal/pywapor_AETI_D/pywapor_AETI_D_2022-11-01.tif (deflated 6%)\n",
            "  adding: content/gdrive/MyDrive/pywapor_out/dekadal/pywapor_AETI_D/pywapor_AETI_D_2022-11-11.tif (deflated 6%)\n",
            "  adding: content/gdrive/MyDrive/pywapor_out/dekadal/pywapor_AETI_D/pywapor_AETI_D_2022-11-21.tif (deflated 6%)\n",
            "  adding: content/gdrive/MyDrive/pywapor_out/dekadal/pywapor_RSM_D/ (stored 0%)\n",
            "  adding: content/gdrive/MyDrive/pywapor_out/dekadal/pywapor_RSM_D/pywapor_RSM_D_2022-10-01.tif (deflated 5%)\n",
            "  adding: content/gdrive/MyDrive/pywapor_out/dekadal/pywapor_RSM_D/pywapor_RSM_D_2022-10-11.tif (deflated 5%)\n",
            "  adding: content/gdrive/MyDrive/pywapor_out/dekadal/pywapor_RSM_D/pywapor_RSM_D_2022-10-21.tif (deflated 5%)\n",
            "  adding: content/gdrive/MyDrive/pywapor_out/dekadal/pywapor_RSM_D/pywapor_RSM_D_2022-11-01.tif (deflated 5%)\n",
            "  adding: content/gdrive/MyDrive/pywapor_out/dekadal/pywapor_RSM_D/pywapor_RSM_D_2022-11-11.tif (deflated 5%)\n",
            "  adding: content/gdrive/MyDrive/pywapor_out/dekadal/pywapor_RSM_D/pywapor_RSM_D_2022-11-21.tif (deflated 5%)\n",
            "  adding: content/gdrive/MyDrive/pywapor_out/dekadal/pywapor_NPP_D/ (stored 0%)\n",
            "  adding: content/gdrive/MyDrive/pywapor_out/dekadal/pywapor_NPP_D/pywapor_NPP_D_2022-10-01.tif (deflated 6%)\n",
            "  adding: content/gdrive/MyDrive/pywapor_out/dekadal/pywapor_NPP_D/pywapor_NPP_D_2022-10-11.tif (deflated 6%)\n",
            "  adding: content/gdrive/MyDrive/pywapor_out/dekadal/pywapor_NPP_D/pywapor_NPP_D_2022-10-21.tif (deflated 6%)\n",
            "  adding: content/gdrive/MyDrive/pywapor_out/dekadal/pywapor_NPP_D/pywapor_NPP_D_2022-11-01.tif (deflated 6%)\n",
            "  adding: content/gdrive/MyDrive/pywapor_out/dekadal/pywapor_NPP_D/pywapor_NPP_D_2022-11-11.tif (deflated 6%)\n",
            "  adding: content/gdrive/MyDrive/pywapor_out/dekadal/pywapor_NPP_D/pywapor_NPP_D_2022-11-21.tif (deflated 6%)\n",
            "  adding: content/gdrive/MyDrive/pywapor_out/monthly/ (stored 0%)\n",
            "  adding: content/gdrive/MyDrive/pywapor_out/monthly/pywapor_I_M/ (stored 0%)\n",
            "  adding: content/gdrive/MyDrive/pywapor_out/monthly/pywapor_I_M/pywapor_I_M_2022-10-31.tif (deflated 5%)\n",
            "  adding: content/gdrive/MyDrive/pywapor_out/monthly/pywapor_I_M/pywapor_I_M_2022-11-30.tif (deflated 96%)\n",
            "  adding: content/gdrive/MyDrive/pywapor_out/monthly/pywapor_T_M/ (stored 0%)\n",
            "  adding: content/gdrive/MyDrive/pywapor_out/monthly/pywapor_T_M/pywapor_T_M_2022-10-31.tif (deflated 6%)\n",
            "  adding: content/gdrive/MyDrive/pywapor_out/monthly/pywapor_T_M/pywapor_T_M_2022-11-30.tif (deflated 6%)\n",
            "  adding: content/gdrive/MyDrive/pywapor_out/monthly/pywapor_E_M/ (stored 0%)\n",
            "  adding: content/gdrive/MyDrive/pywapor_out/monthly/pywapor_E_M/pywapor_E_M_2022-10-31.tif (deflated 5%)\n",
            "  adding: content/gdrive/MyDrive/pywapor_out/monthly/pywapor_E_M/pywapor_E_M_2022-11-30.tif (deflated 5%)\n",
            "  adding: content/gdrive/MyDrive/pywapor_out/monthly/pywapor_AETI_M/ (stored 0%)\n",
            "  adding: content/gdrive/MyDrive/pywapor_out/monthly/pywapor_AETI_M/pywapor_AETI_M_2022-10-31.tif (deflated 5%)\n",
            "  adding: content/gdrive/MyDrive/pywapor_out/monthly/pywapor_AETI_M/pywapor_AETI_M_2022-11-30.tif (deflated 6%)\n",
            "  adding: content/gdrive/MyDrive/pywapor_out/monthly/pywapor_RSM_M/ (stored 0%)\n",
            "  adding: content/gdrive/MyDrive/pywapor_out/monthly/pywapor_RSM_M/pywapor_RSM_M_2022-10-31.tif (deflated 4%)\n",
            "  adding: content/gdrive/MyDrive/pywapor_out/monthly/pywapor_RSM_M/pywapor_RSM_M_2022-11-30.tif (deflated 5%)\n",
            "  adding: content/gdrive/MyDrive/pywapor_out/monthly/pywapor_NPP_M/ (stored 0%)\n",
            "  adding: content/gdrive/MyDrive/pywapor_out/monthly/pywapor_NPP_M/pywapor_NPP_M_2022-10-31.tif (deflated 6%)\n",
            "  adding: content/gdrive/MyDrive/pywapor_out/monthly/pywapor_NPP_M/pywapor_NPP_M_2022-11-30.tif (deflated 6%)\n",
            "  adding: content/gdrive/MyDrive/pywapor_out/seasonal/ (stored 0%)\n",
            "  adding: content/gdrive/MyDrive/pywapor_out/seasonal/pywapor_I_S/ (stored 0%)\n",
            "  adding: content/gdrive/MyDrive/pywapor_out/seasonal/pywapor_I_S/pywapor_I_S_2022-10-05_2023-11-28.tif (deflated 6%)\n",
            "  adding: content/gdrive/MyDrive/pywapor_out/seasonal/pywapor_T_S/ (stored 0%)\n",
            "  adding: content/gdrive/MyDrive/pywapor_out/seasonal/pywapor_T_S/pywapor_T_S_2022-10-05_2023-11-28.tif (deflated 6%)\n",
            "  adding: content/gdrive/MyDrive/pywapor_out/seasonal/pywapor_E_S/ (stored 0%)\n",
            "  adding: content/gdrive/MyDrive/pywapor_out/seasonal/pywapor_E_S/pywapor_E_S_2022-10-05_2023-11-28.tif (deflated 5%)\n",
            "  adding: content/gdrive/MyDrive/pywapor_out/seasonal/pywapor_AETI_S/ (stored 0%)\n",
            "  adding: content/gdrive/MyDrive/pywapor_out/seasonal/pywapor_AETI_S/pywapor_AETI_S_2022-10-05_2023-11-28.tif (deflated 5%)\n",
            "  adding: content/gdrive/MyDrive/pywapor_out/seasonal/pywapor_RSM_S/ (stored 0%)\n",
            "  adding: content/gdrive/MyDrive/pywapor_out/seasonal/pywapor_RSM_S/pywapor_RSM_S_2022-10-05_2023-11-28.tif (deflated 4%)\n",
            "  adding: content/gdrive/MyDrive/pywapor_out/seasonal/pywapor_NPP_S/ (stored 0%)\n",
            "  adding: content/gdrive/MyDrive/pywapor_out/seasonal/pywapor_NPP_S/pywapor_NPP_S_2022-10-05_2023-11-28.tif (deflated 6%)\n"
          ]
        },
        {
          "output_type": "display_data",
          "data": {
            "text/plain": [
              "<IPython.core.display.Javascript object>"
            ],
            "application/javascript": [
              "\n",
              "    async function download(id, filename, size) {\n",
              "      if (!google.colab.kernel.accessAllowed) {\n",
              "        return;\n",
              "      }\n",
              "      const div = document.createElement('div');\n",
              "      const label = document.createElement('label');\n",
              "      label.textContent = `Downloading \"${filename}\": `;\n",
              "      div.appendChild(label);\n",
              "      const progress = document.createElement('progress');\n",
              "      progress.max = size;\n",
              "      div.appendChild(progress);\n",
              "      document.body.appendChild(div);\n",
              "\n",
              "      const buffers = [];\n",
              "      let downloaded = 0;\n",
              "\n",
              "      const channel = await google.colab.kernel.comms.open(id);\n",
              "      // Send a message to notify the kernel that we're ready.\n",
              "      channel.send({})\n",
              "\n",
              "      for await (const message of channel.messages) {\n",
              "        // Send a message to notify the kernel that we're ready.\n",
              "        channel.send({})\n",
              "        if (message.buffers) {\n",
              "          for (const buffer of message.buffers) {\n",
              "            buffers.push(buffer);\n",
              "            downloaded += buffer.byteLength;\n",
              "            progress.value = downloaded;\n",
              "          }\n",
              "        }\n",
              "      }\n",
              "      const blob = new Blob(buffers, {type: 'application/binary'});\n",
              "      const a = document.createElement('a');\n",
              "      a.href = window.URL.createObjectURL(blob);\n",
              "      a.download = filename;\n",
              "      div.appendChild(a);\n",
              "      a.click();\n",
              "      div.remove();\n",
              "    }\n",
              "  "
            ]
          },
          "metadata": {}
        },
        {
          "output_type": "display_data",
          "data": {
            "text/plain": [
              "<IPython.core.display.Javascript object>"
            ],
            "application/javascript": [
              "download(\"download_dde21ba1-cd69-4136-a073-ede380981989\", \"pywapor.zip\", 72099526)"
            ]
          },
          "metadata": {}
        }
      ]
    },
    {
      "cell_type": "code",
      "execution_count": null,
      "metadata": {
        "id": "IBimzqekXWuU"
      },
      "outputs": [],
      "source": [
        "# # test opening one of the geotiff files\n",
        "# rst_path = r'd:\\Codes\\WaPOR\\pywapor\\pywapor_out\\et\\et_2022-10-01.tif'\n",
        "# da = rio.open_rasterio(rst_path)\n",
        "# da.plot()\n",
        "# da.close()"
      ]
    }
  ],
  "metadata": {
    "kernelspec": {
      "display_name": "pywapor",
      "language": "python",
      "name": "python3"
    },
    "language_info": {
      "codemirror_mode": {
        "name": "ipython",
        "version": 3
      },
      "file_extension": ".py",
      "mimetype": "text/x-python",
      "name": "python",
      "nbconvert_exporter": "python",
      "pygments_lexer": "ipython3",
      "version": "3.12.3"
    },
    "colab": {
      "provenance": []
    }
  },
  "nbformat": 4,
  "nbformat_minor": 0
}