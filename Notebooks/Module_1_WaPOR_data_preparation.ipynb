{
  "cells": [
    {
      "cell_type": "markdown",
      "metadata": {
        "id": "R2_MuDe7IxVl"
      },
      "source": [
        "# Module 1 - In this jupyter notebook, resampling and masking are undertaken as part of preparing the data for further analyses.\n",
        "* Step 1a - Import modules/libraries\n",
        "* Step 1b - Resampling raster data and\n",
        "* Step 1c - Clip to boundary (using shapefile) and/or filter non-cropped area (masking using raster file)\n",
        "\n",
        "**=====================================================================================================================**\n",
        "\n",
        "![title](https://raw.githubusercontent.com/wateraccounting/WAPORWP/master/Notebooks/img/Fig1_1.png)\n",
        "\n",
        "**=====================================================================================================================**\n",
        "\n",
        "Before you start running this Notebook, make sure you have the following information:\n",
        "\n",
        "*   WaPOR Reference ET and PCP for your case study for the period you want to do the analyses. For small areas make sure you download the data using a bounding box. Use this script for downloading the data: [Downloading_WaPORv3_data script](https://github.com/wateraccounting/WaPORMOOC/tree/main/1_WaPOR_download_colab).\n",
        "\n",
        "*   Sample of a TIFF file with the resolution you want to do the analyses\n",
        "*   Shapefile of the area of interest (AOI)\n",
        "*   Optional: land cover classification (LCC) map if you want to mask out certain land use classes. In the example case, we downloaded the WaPORv2 L2 LCC map for the area [provided on github](https://github.com/wateraccounting/WaPORIPA/blob/main/data/Wad_Helal_LCC.tif)\n"
      ]
    },
    {
      "cell_type": "markdown",
      "metadata": {
        "id": "Y_iJMS-xIxVn"
      },
      "source": [
        "## Step 1a - Import modules/libraries"
      ]
    },
    {
      "cell_type": "code",
      "execution_count": null,
      "metadata": {
        "id": "q8YcVs9rIxVo"
      },
      "outputs": [],
      "source": [
        "import os                             # a module for interacting with the operating system\n",
        "import glob                           # used to retrieve files/pathnames matching a specified pattern\n",
        "import matplotlib.pyplot as plt       # is a plotting library used for 2D graphics in python\n",
        "import numpy as np                    # stands for 'Numerical Python, is a python library used for scientific computing with arrays\n",
        "from osgeo import ogr, gdal\n",
        "import subprocess\n"
      ]
    },
    {
      "cell_type": "code",
      "source": [
        "#To upload modules.zip (importing GISfunctions to do the calculations).\n",
        "from google.colab import files\n",
        "uploaded = files.upload()"
      ],
      "metadata": {
        "colab": {
          "base_uri": "https://localhost:8080/",
          "height": 73
        },
        "id": "HtnM_x2PL2NV",
        "outputId": "f6435789-72b8-4308-e5b7-238df07fa59b"
      },
      "execution_count": null,
      "outputs": [
        {
          "output_type": "display_data",
          "data": {
            "text/plain": [
              "<IPython.core.display.HTML object>"
            ],
            "text/html": [
              "\n",
              "     <input type=\"file\" id=\"files-f6f095ed-0859-43dd-9b0c-ca225c1757d9\" name=\"files[]\" multiple disabled\n",
              "        style=\"border:none\" />\n",
              "     <output id=\"result-f6f095ed-0859-43dd-9b0c-ca225c1757d9\">\n",
              "      Upload widget is only available when the cell has been executed in the\n",
              "      current browser session. Please rerun this cell to enable.\n",
              "      </output>\n",
              "      <script>// Copyright 2017 Google LLC\n",
              "//\n",
              "// Licensed under the Apache License, Version 2.0 (the \"License\");\n",
              "// you may not use this file except in compliance with the License.\n",
              "// You may obtain a copy of the License at\n",
              "//\n",
              "//      http://www.apache.org/licenses/LICENSE-2.0\n",
              "//\n",
              "// Unless required by applicable law or agreed to in writing, software\n",
              "// distributed under the License is distributed on an \"AS IS\" BASIS,\n",
              "// WITHOUT WARRANTIES OR CONDITIONS OF ANY KIND, either express or implied.\n",
              "// See the License for the specific language governing permissions and\n",
              "// limitations under the License.\n",
              "\n",
              "/**\n",
              " * @fileoverview Helpers for google.colab Python module.\n",
              " */\n",
              "(function(scope) {\n",
              "function span(text, styleAttributes = {}) {\n",
              "  const element = document.createElement('span');\n",
              "  element.textContent = text;\n",
              "  for (const key of Object.keys(styleAttributes)) {\n",
              "    element.style[key] = styleAttributes[key];\n",
              "  }\n",
              "  return element;\n",
              "}\n",
              "\n",
              "// Max number of bytes which will be uploaded at a time.\n",
              "const MAX_PAYLOAD_SIZE = 100 * 1024;\n",
              "\n",
              "function _uploadFiles(inputId, outputId) {\n",
              "  const steps = uploadFilesStep(inputId, outputId);\n",
              "  const outputElement = document.getElementById(outputId);\n",
              "  // Cache steps on the outputElement to make it available for the next call\n",
              "  // to uploadFilesContinue from Python.\n",
              "  outputElement.steps = steps;\n",
              "\n",
              "  return _uploadFilesContinue(outputId);\n",
              "}\n",
              "\n",
              "// This is roughly an async generator (not supported in the browser yet),\n",
              "// where there are multiple asynchronous steps and the Python side is going\n",
              "// to poll for completion of each step.\n",
              "// This uses a Promise to block the python side on completion of each step,\n",
              "// then passes the result of the previous step as the input to the next step.\n",
              "function _uploadFilesContinue(outputId) {\n",
              "  const outputElement = document.getElementById(outputId);\n",
              "  const steps = outputElement.steps;\n",
              "\n",
              "  const next = steps.next(outputElement.lastPromiseValue);\n",
              "  return Promise.resolve(next.value.promise).then((value) => {\n",
              "    // Cache the last promise value to make it available to the next\n",
              "    // step of the generator.\n",
              "    outputElement.lastPromiseValue = value;\n",
              "    return next.value.response;\n",
              "  });\n",
              "}\n",
              "\n",
              "/**\n",
              " * Generator function which is called between each async step of the upload\n",
              " * process.\n",
              " * @param {string} inputId Element ID of the input file picker element.\n",
              " * @param {string} outputId Element ID of the output display.\n",
              " * @return {!Iterable<!Object>} Iterable of next steps.\n",
              " */\n",
              "function* uploadFilesStep(inputId, outputId) {\n",
              "  const inputElement = document.getElementById(inputId);\n",
              "  inputElement.disabled = false;\n",
              "\n",
              "  const outputElement = document.getElementById(outputId);\n",
              "  outputElement.innerHTML = '';\n",
              "\n",
              "  const pickedPromise = new Promise((resolve) => {\n",
              "    inputElement.addEventListener('change', (e) => {\n",
              "      resolve(e.target.files);\n",
              "    });\n",
              "  });\n",
              "\n",
              "  const cancel = document.createElement('button');\n",
              "  inputElement.parentElement.appendChild(cancel);\n",
              "  cancel.textContent = 'Cancel upload';\n",
              "  const cancelPromise = new Promise((resolve) => {\n",
              "    cancel.onclick = () => {\n",
              "      resolve(null);\n",
              "    };\n",
              "  });\n",
              "\n",
              "  // Wait for the user to pick the files.\n",
              "  const files = yield {\n",
              "    promise: Promise.race([pickedPromise, cancelPromise]),\n",
              "    response: {\n",
              "      action: 'starting',\n",
              "    }\n",
              "  };\n",
              "\n",
              "  cancel.remove();\n",
              "\n",
              "  // Disable the input element since further picks are not allowed.\n",
              "  inputElement.disabled = true;\n",
              "\n",
              "  if (!files) {\n",
              "    return {\n",
              "      response: {\n",
              "        action: 'complete',\n",
              "      }\n",
              "    };\n",
              "  }\n",
              "\n",
              "  for (const file of files) {\n",
              "    const li = document.createElement('li');\n",
              "    li.append(span(file.name, {fontWeight: 'bold'}));\n",
              "    li.append(span(\n",
              "        `(${file.type || 'n/a'}) - ${file.size} bytes, ` +\n",
              "        `last modified: ${\n",
              "            file.lastModifiedDate ? file.lastModifiedDate.toLocaleDateString() :\n",
              "                                    'n/a'} - `));\n",
              "    const percent = span('0% done');\n",
              "    li.appendChild(percent);\n",
              "\n",
              "    outputElement.appendChild(li);\n",
              "\n",
              "    const fileDataPromise = new Promise((resolve) => {\n",
              "      const reader = new FileReader();\n",
              "      reader.onload = (e) => {\n",
              "        resolve(e.target.result);\n",
              "      };\n",
              "      reader.readAsArrayBuffer(file);\n",
              "    });\n",
              "    // Wait for the data to be ready.\n",
              "    let fileData = yield {\n",
              "      promise: fileDataPromise,\n",
              "      response: {\n",
              "        action: 'continue',\n",
              "      }\n",
              "    };\n",
              "\n",
              "    // Use a chunked sending to avoid message size limits. See b/62115660.\n",
              "    let position = 0;\n",
              "    do {\n",
              "      const length = Math.min(fileData.byteLength - position, MAX_PAYLOAD_SIZE);\n",
              "      const chunk = new Uint8Array(fileData, position, length);\n",
              "      position += length;\n",
              "\n",
              "      const base64 = btoa(String.fromCharCode.apply(null, chunk));\n",
              "      yield {\n",
              "        response: {\n",
              "          action: 'append',\n",
              "          file: file.name,\n",
              "          data: base64,\n",
              "        },\n",
              "      };\n",
              "\n",
              "      let percentDone = fileData.byteLength === 0 ?\n",
              "          100 :\n",
              "          Math.round((position / fileData.byteLength) * 100);\n",
              "      percent.textContent = `${percentDone}% done`;\n",
              "\n",
              "    } while (position < fileData.byteLength);\n",
              "  }\n",
              "\n",
              "  // All done.\n",
              "  yield {\n",
              "    response: {\n",
              "      action: 'complete',\n",
              "    }\n",
              "  };\n",
              "}\n",
              "\n",
              "scope.google = scope.google || {};\n",
              "scope.google.colab = scope.google.colab || {};\n",
              "scope.google.colab._files = {\n",
              "  _uploadFiles,\n",
              "  _uploadFilesContinue,\n",
              "};\n",
              "})(self);\n",
              "</script> "
            ]
          },
          "metadata": {}
        },
        {
          "output_type": "stream",
          "name": "stdout",
          "text": [
            "Saving Modules.rar to Modules.rar\n"
          ]
        }
      ]
    },
    {
      "cell_type": "code",
      "source": [
        "# unzip the uploaded zipfile\n",
        "!unzip '/content/data.zip' -d '/content/'"
      ],
      "metadata": {
        "id": "9u-TEYspMHQm"
      },
      "execution_count": null,
      "outputs": []
    },
    {
      "cell_type": "code",
      "source": [
        "os.chdir(os.path.join(os.path.split(os.getcwd())[0], \"/content/Modules\"))\n",
        "from GIS_functions import GIS_function as gis"
      ],
      "metadata": {
        "id": "f9a7Xf1NP5Qu"
      },
      "execution_count": null,
      "outputs": []
    },
    {
      "cell_type": "markdown",
      "metadata": {
        "id": "2wOSM2S2IxVp"
      },
      "source": [
        "# Step 1b - Reample raster data\n",
        "\n",
        "After downloading RET and PCP using [Downloading_WaPORv3_data script](https://github.com/wateraccounting/WaPORMOOC/tree/main/1_WaPOR_download_colab), the data needs to be resampled to the same resolution as the NPP and AETI data. *Download using bounding box (bb) not shapefile to avoid empty data.* You need an example file (tiff) with this resolution at hand."
      ]
    },
    {
      "cell_type": "markdown",
      "metadata": {
        "id": "hIKvqDyaIxVp"
      },
      "source": [
        "## * Import the input data and sample of resolution"
      ]
    },
    {
      "cell_type": "markdown",
      "source": [
        "Import downloaded RET and PCP files"
      ],
      "metadata": {
        "id": "9s4f6cHuT2AH"
      }
    },
    {
      "cell_type": "code",
      "source": [
        "#To upload modules.rar.\n",
        "from google.colab import files\n",
        "uploaded = files.upload()"
      ],
      "metadata": {
        "colab": {
          "base_uri": "https://localhost:8080/",
          "height": 38
        },
        "id": "wxckCHbYTz-o",
        "outputId": "9a03a653-4651-4743-c9ff-6bb7411f0269"
      },
      "execution_count": null,
      "outputs": [
        {
          "output_type": "display_data",
          "data": {
            "text/plain": [
              "<IPython.core.display.HTML object>"
            ],
            "text/html": [
              "\n",
              "     <input type=\"file\" id=\"files-1bccd79a-cc06-4700-963e-2a65847885df\" name=\"files[]\" multiple disabled\n",
              "        style=\"border:none\" />\n",
              "     <output id=\"result-1bccd79a-cc06-4700-963e-2a65847885df\">\n",
              "      Upload widget is only available when the cell has been executed in the\n",
              "      current browser session. Please rerun this cell to enable.\n",
              "      </output>\n",
              "      <script>// Copyright 2017 Google LLC\n",
              "//\n",
              "// Licensed under the Apache License, Version 2.0 (the \"License\");\n",
              "// you may not use this file except in compliance with the License.\n",
              "// You may obtain a copy of the License at\n",
              "//\n",
              "//      http://www.apache.org/licenses/LICENSE-2.0\n",
              "//\n",
              "// Unless required by applicable law or agreed to in writing, software\n",
              "// distributed under the License is distributed on an \"AS IS\" BASIS,\n",
              "// WITHOUT WARRANTIES OR CONDITIONS OF ANY KIND, either express or implied.\n",
              "// See the License for the specific language governing permissions and\n",
              "// limitations under the License.\n",
              "\n",
              "/**\n",
              " * @fileoverview Helpers for google.colab Python module.\n",
              " */\n",
              "(function(scope) {\n",
              "function span(text, styleAttributes = {}) {\n",
              "  const element = document.createElement('span');\n",
              "  element.textContent = text;\n",
              "  for (const key of Object.keys(styleAttributes)) {\n",
              "    element.style[key] = styleAttributes[key];\n",
              "  }\n",
              "  return element;\n",
              "}\n",
              "\n",
              "// Max number of bytes which will be uploaded at a time.\n",
              "const MAX_PAYLOAD_SIZE = 100 * 1024;\n",
              "\n",
              "function _uploadFiles(inputId, outputId) {\n",
              "  const steps = uploadFilesStep(inputId, outputId);\n",
              "  const outputElement = document.getElementById(outputId);\n",
              "  // Cache steps on the outputElement to make it available for the next call\n",
              "  // to uploadFilesContinue from Python.\n",
              "  outputElement.steps = steps;\n",
              "\n",
              "  return _uploadFilesContinue(outputId);\n",
              "}\n",
              "\n",
              "// This is roughly an async generator (not supported in the browser yet),\n",
              "// where there are multiple asynchronous steps and the Python side is going\n",
              "// to poll for completion of each step.\n",
              "// This uses a Promise to block the python side on completion of each step,\n",
              "// then passes the result of the previous step as the input to the next step.\n",
              "function _uploadFilesContinue(outputId) {\n",
              "  const outputElement = document.getElementById(outputId);\n",
              "  const steps = outputElement.steps;\n",
              "\n",
              "  const next = steps.next(outputElement.lastPromiseValue);\n",
              "  return Promise.resolve(next.value.promise).then((value) => {\n",
              "    // Cache the last promise value to make it available to the next\n",
              "    // step of the generator.\n",
              "    outputElement.lastPromiseValue = value;\n",
              "    return next.value.response;\n",
              "  });\n",
              "}\n",
              "\n",
              "/**\n",
              " * Generator function which is called between each async step of the upload\n",
              " * process.\n",
              " * @param {string} inputId Element ID of the input file picker element.\n",
              " * @param {string} outputId Element ID of the output display.\n",
              " * @return {!Iterable<!Object>} Iterable of next steps.\n",
              " */\n",
              "function* uploadFilesStep(inputId, outputId) {\n",
              "  const inputElement = document.getElementById(inputId);\n",
              "  inputElement.disabled = false;\n",
              "\n",
              "  const outputElement = document.getElementById(outputId);\n",
              "  outputElement.innerHTML = '';\n",
              "\n",
              "  const pickedPromise = new Promise((resolve) => {\n",
              "    inputElement.addEventListener('change', (e) => {\n",
              "      resolve(e.target.files);\n",
              "    });\n",
              "  });\n",
              "\n",
              "  const cancel = document.createElement('button');\n",
              "  inputElement.parentElement.appendChild(cancel);\n",
              "  cancel.textContent = 'Cancel upload';\n",
              "  const cancelPromise = new Promise((resolve) => {\n",
              "    cancel.onclick = () => {\n",
              "      resolve(null);\n",
              "    };\n",
              "  });\n",
              "\n",
              "  // Wait for the user to pick the files.\n",
              "  const files = yield {\n",
              "    promise: Promise.race([pickedPromise, cancelPromise]),\n",
              "    response: {\n",
              "      action: 'starting',\n",
              "    }\n",
              "  };\n",
              "\n",
              "  cancel.remove();\n",
              "\n",
              "  // Disable the input element since further picks are not allowed.\n",
              "  inputElement.disabled = true;\n",
              "\n",
              "  if (!files) {\n",
              "    return {\n",
              "      response: {\n",
              "        action: 'complete',\n",
              "      }\n",
              "    };\n",
              "  }\n",
              "\n",
              "  for (const file of files) {\n",
              "    const li = document.createElement('li');\n",
              "    li.append(span(file.name, {fontWeight: 'bold'}));\n",
              "    li.append(span(\n",
              "        `(${file.type || 'n/a'}) - ${file.size} bytes, ` +\n",
              "        `last modified: ${\n",
              "            file.lastModifiedDate ? file.lastModifiedDate.toLocaleDateString() :\n",
              "                                    'n/a'} - `));\n",
              "    const percent = span('0% done');\n",
              "    li.appendChild(percent);\n",
              "\n",
              "    outputElement.appendChild(li);\n",
              "\n",
              "    const fileDataPromise = new Promise((resolve) => {\n",
              "      const reader = new FileReader();\n",
              "      reader.onload = (e) => {\n",
              "        resolve(e.target.result);\n",
              "      };\n",
              "      reader.readAsArrayBuffer(file);\n",
              "    });\n",
              "    // Wait for the data to be ready.\n",
              "    let fileData = yield {\n",
              "      promise: fileDataPromise,\n",
              "      response: {\n",
              "        action: 'continue',\n",
              "      }\n",
              "    };\n",
              "\n",
              "    // Use a chunked sending to avoid message size limits. See b/62115660.\n",
              "    let position = 0;\n",
              "    do {\n",
              "      const length = Math.min(fileData.byteLength - position, MAX_PAYLOAD_SIZE);\n",
              "      const chunk = new Uint8Array(fileData, position, length);\n",
              "      position += length;\n",
              "\n",
              "      const base64 = btoa(String.fromCharCode.apply(null, chunk));\n",
              "      yield {\n",
              "        response: {\n",
              "          action: 'append',\n",
              "          file: file.name,\n",
              "          data: base64,\n",
              "        },\n",
              "      };\n",
              "\n",
              "      let percentDone = fileData.byteLength === 0 ?\n",
              "          100 :\n",
              "          Math.round((position / fileData.byteLength) * 100);\n",
              "      percent.textContent = `${percentDone}% done`;\n",
              "\n",
              "    } while (position < fileData.byteLength);\n",
              "  }\n",
              "\n",
              "  // All done.\n",
              "  yield {\n",
              "    response: {\n",
              "      action: 'complete',\n",
              "    }\n",
              "  };\n",
              "}\n",
              "\n",
              "scope.google = scope.google || {};\n",
              "scope.google.colab = scope.google.colab || {};\n",
              "scope.google.colab._files = {\n",
              "  _uploadFiles,\n",
              "  _uploadFilesContinue,\n",
              "};\n",
              "})(self);\n",
              "</script> "
            ]
          },
          "metadata": {}
        }
      ]
    },
    {
      "cell_type": "code",
      "source": [
        "\n",
        "# unzip the uploaded zipfile\n",
        "!unzip '/content/data.zip' -d '/content/'"
      ],
      "metadata": {
        "id": "Gw8acoPSULds"
      },
      "execution_count": null,
      "outputs": []
    },
    {
      "cell_type": "markdown",
      "source": [
        "Import the example file with the required resolution"
      ],
      "metadata": {
        "id": "WhmVdi1ZUOPI"
      }
    },
    {
      "cell_type": "code",
      "source": [
        "#To upload sample resolution file.\n",
        "from google.colab import files\n",
        "uploaded = files.upload()"
      ],
      "metadata": {
        "colab": {
          "base_uri": "https://localhost:8080/",
          "height": 55
        },
        "id": "dMoO2spOUXY-",
        "outputId": "567a8226-a533-485b-8453-8a33e0e1b298"
      },
      "execution_count": null,
      "outputs": [
        {
          "output_type": "display_data",
          "data": {
            "text/plain": [
              "<IPython.core.display.HTML object>"
            ],
            "text/html": [
              "\n",
              "     <input type=\"file\" id=\"files-1d246f87-5f22-4306-8a7c-1b2e67962c97\" name=\"files[]\" multiple disabled\n",
              "        style=\"border:none\" />\n",
              "     <output id=\"result-1d246f87-5f22-4306-8a7c-1b2e67962c97\">\n",
              "      Upload widget is only available when the cell has been executed in the\n",
              "      current browser session. Please rerun this cell to enable.\n",
              "      </output>\n",
              "      <script>// Copyright 2017 Google LLC\n",
              "//\n",
              "// Licensed under the Apache License, Version 2.0 (the \"License\");\n",
              "// you may not use this file except in compliance with the License.\n",
              "// You may obtain a copy of the License at\n",
              "//\n",
              "//      http://www.apache.org/licenses/LICENSE-2.0\n",
              "//\n",
              "// Unless required by applicable law or agreed to in writing, software\n",
              "// distributed under the License is distributed on an \"AS IS\" BASIS,\n",
              "// WITHOUT WARRANTIES OR CONDITIONS OF ANY KIND, either express or implied.\n",
              "// See the License for the specific language governing permissions and\n",
              "// limitations under the License.\n",
              "\n",
              "/**\n",
              " * @fileoverview Helpers for google.colab Python module.\n",
              " */\n",
              "(function(scope) {\n",
              "function span(text, styleAttributes = {}) {\n",
              "  const element = document.createElement('span');\n",
              "  element.textContent = text;\n",
              "  for (const key of Object.keys(styleAttributes)) {\n",
              "    element.style[key] = styleAttributes[key];\n",
              "  }\n",
              "  return element;\n",
              "}\n",
              "\n",
              "// Max number of bytes which will be uploaded at a time.\n",
              "const MAX_PAYLOAD_SIZE = 100 * 1024;\n",
              "\n",
              "function _uploadFiles(inputId, outputId) {\n",
              "  const steps = uploadFilesStep(inputId, outputId);\n",
              "  const outputElement = document.getElementById(outputId);\n",
              "  // Cache steps on the outputElement to make it available for the next call\n",
              "  // to uploadFilesContinue from Python.\n",
              "  outputElement.steps = steps;\n",
              "\n",
              "  return _uploadFilesContinue(outputId);\n",
              "}\n",
              "\n",
              "// This is roughly an async generator (not supported in the browser yet),\n",
              "// where there are multiple asynchronous steps and the Python side is going\n",
              "// to poll for completion of each step.\n",
              "// This uses a Promise to block the python side on completion of each step,\n",
              "// then passes the result of the previous step as the input to the next step.\n",
              "function _uploadFilesContinue(outputId) {\n",
              "  const outputElement = document.getElementById(outputId);\n",
              "  const steps = outputElement.steps;\n",
              "\n",
              "  const next = steps.next(outputElement.lastPromiseValue);\n",
              "  return Promise.resolve(next.value.promise).then((value) => {\n",
              "    // Cache the last promise value to make it available to the next\n",
              "    // step of the generator.\n",
              "    outputElement.lastPromiseValue = value;\n",
              "    return next.value.response;\n",
              "  });\n",
              "}\n",
              "\n",
              "/**\n",
              " * Generator function which is called between each async step of the upload\n",
              " * process.\n",
              " * @param {string} inputId Element ID of the input file picker element.\n",
              " * @param {string} outputId Element ID of the output display.\n",
              " * @return {!Iterable<!Object>} Iterable of next steps.\n",
              " */\n",
              "function* uploadFilesStep(inputId, outputId) {\n",
              "  const inputElement = document.getElementById(inputId);\n",
              "  inputElement.disabled = false;\n",
              "\n",
              "  const outputElement = document.getElementById(outputId);\n",
              "  outputElement.innerHTML = '';\n",
              "\n",
              "  const pickedPromise = new Promise((resolve) => {\n",
              "    inputElement.addEventListener('change', (e) => {\n",
              "      resolve(e.target.files);\n",
              "    });\n",
              "  });\n",
              "\n",
              "  const cancel = document.createElement('button');\n",
              "  inputElement.parentElement.appendChild(cancel);\n",
              "  cancel.textContent = 'Cancel upload';\n",
              "  const cancelPromise = new Promise((resolve) => {\n",
              "    cancel.onclick = () => {\n",
              "      resolve(null);\n",
              "    };\n",
              "  });\n",
              "\n",
              "  // Wait for the user to pick the files.\n",
              "  const files = yield {\n",
              "    promise: Promise.race([pickedPromise, cancelPromise]),\n",
              "    response: {\n",
              "      action: 'starting',\n",
              "    }\n",
              "  };\n",
              "\n",
              "  cancel.remove();\n",
              "\n",
              "  // Disable the input element since further picks are not allowed.\n",
              "  inputElement.disabled = true;\n",
              "\n",
              "  if (!files) {\n",
              "    return {\n",
              "      response: {\n",
              "        action: 'complete',\n",
              "      }\n",
              "    };\n",
              "  }\n",
              "\n",
              "  for (const file of files) {\n",
              "    const li = document.createElement('li');\n",
              "    li.append(span(file.name, {fontWeight: 'bold'}));\n",
              "    li.append(span(\n",
              "        `(${file.type || 'n/a'}) - ${file.size} bytes, ` +\n",
              "        `last modified: ${\n",
              "            file.lastModifiedDate ? file.lastModifiedDate.toLocaleDateString() :\n",
              "                                    'n/a'} - `));\n",
              "    const percent = span('0% done');\n",
              "    li.appendChild(percent);\n",
              "\n",
              "    outputElement.appendChild(li);\n",
              "\n",
              "    const fileDataPromise = new Promise((resolve) => {\n",
              "      const reader = new FileReader();\n",
              "      reader.onload = (e) => {\n",
              "        resolve(e.target.result);\n",
              "      };\n",
              "      reader.readAsArrayBuffer(file);\n",
              "    });\n",
              "    // Wait for the data to be ready.\n",
              "    let fileData = yield {\n",
              "      promise: fileDataPromise,\n",
              "      response: {\n",
              "        action: 'continue',\n",
              "      }\n",
              "    };\n",
              "\n",
              "    // Use a chunked sending to avoid message size limits. See b/62115660.\n",
              "    let position = 0;\n",
              "    do {\n",
              "      const length = Math.min(fileData.byteLength - position, MAX_PAYLOAD_SIZE);\n",
              "      const chunk = new Uint8Array(fileData, position, length);\n",
              "      position += length;\n",
              "\n",
              "      const base64 = btoa(String.fromCharCode.apply(null, chunk));\n",
              "      yield {\n",
              "        response: {\n",
              "          action: 'append',\n",
              "          file: file.name,\n",
              "          data: base64,\n",
              "        },\n",
              "      };\n",
              "\n",
              "      let percentDone = fileData.byteLength === 0 ?\n",
              "          100 :\n",
              "          Math.round((position / fileData.byteLength) * 100);\n",
              "      percent.textContent = `${percentDone}% done`;\n",
              "\n",
              "    } while (position < fileData.byteLength);\n",
              "  }\n",
              "\n",
              "  // All done.\n",
              "  yield {\n",
              "    response: {\n",
              "      action: 'complete',\n",
              "    }\n",
              "  };\n",
              "}\n",
              "\n",
              "scope.google = scope.google || {};\n",
              "scope.google.colab = scope.google.colab || {};\n",
              "scope.google.colab._files = {\n",
              "  _uploadFiles,\n",
              "  _uploadFilesContinue,\n",
              "};\n",
              "})(self);\n",
              "</script> "
            ]
          },
          "metadata": {}
        },
        {
          "output_type": "stream",
          "name": "stdout",
          "text": [
            "Saving sample_res.tif to sample_res.tif\n"
          ]
        }
      ]
    },
    {
      "cell_type": "markdown",
      "metadata": {
        "id": "eKOMWULzIxVp"
      },
      "source": [
        "## i) Resample Reference ET"
      ]
    },
    {
      "cell_type": "code",
      "execution_count": null,
      "metadata": {
        "id": "Ns_yW5pyIxVq"
      },
      "outputs": [],
      "source": [
        "\n",
        "source_file   = '/content/sample_res.tif'                        # Read gdal info of template raster file\n",
        "target_folder = '/content/content/output/L1-RET-E'               # data to be resampled\n",
        "target_fhs    = glob.glob(target_folder + '/*.tif')\n",
        "\n",
        "source_file, target_folder, target_fhs"
      ]
    },
    {
      "cell_type": "markdown",
      "metadata": {
        "id": "4QYCm5sIIxVr"
      },
      "source": [
        "## The size and shape of the raster files"
      ]
    },
    {
      "cell_type": "code",
      "execution_count": null,
      "metadata": {
        "id": "DjXQiD_ZIxVr",
        "outputId": "74795a58-757d-45ea-e079-417f4c5fba14",
        "colab": {
          "base_uri": "https://localhost:8080/"
        }
      },
      "outputs": [
        {
          "output_type": "stream",
          "name": "stdout",
          "text": [
            "The size & shape of the template raster      = 347133 & (461, 753)\n",
            "The size & shape of the data to be resampled = 8 & (2, 4)\n"
          ]
        }
      ],
      "source": [
        "## The size and shape of the raster files\n",
        "template   = gis.OpenAsArray(source_file, nan_values=True)\n",
        "original   = gis.OpenAsArray(target_fhs[0], nan_values=True)\n",
        "\n",
        "print ('The size & shape of the template raster      =', template.size,  '&', template.shape)\n",
        "print ('The size & shape of the data to be resampled =', original.size,  '&', original.shape)"
      ]
    },
    {
      "cell_type": "markdown",
      "metadata": {
        "id": "fSleYKkVIxVr"
      },
      "source": [
        "## ** Make or connect with the directory the output folder"
      ]
    },
    {
      "cell_type": "code",
      "execution_count": null,
      "metadata": {
        "id": "QkF17IsFIxVs",
        "outputId": "f305e930-3073-47f1-e4ba-f1744f1a085e",
        "colab": {
          "base_uri": "https://localhost:8080/",
          "height": 35
        }
      },
      "outputs": [
        {
          "output_type": "execute_result",
          "data": {
            "text/plain": [
              "'/content/content/resampled/L1-PCP-E_resampled'"
            ],
            "application/vnd.google.colaboratory.intrinsic+json": {
              "type": "string"
            }
          },
          "metadata": {},
          "execution_count": 21
        }
      ],
      "source": [
        "output_folder = '/content/content/resampled/L1-RET-E_resampled'\n",
        "\n",
        "## Make one if the folder does not exit\n",
        "if not os.path.exists(output_folder):\n",
        "    os.makedirs(output_folder)\n",
        "\n",
        "output_folder"
      ]
    },
    {
      "cell_type": "markdown",
      "metadata": {
        "id": "dvtmHT4hIxVs"
      },
      "source": [
        "## *** Resample raster data"
      ]
    },
    {
      "cell_type": "code",
      "execution_count": null,
      "metadata": {
        "id": "_U6uguTAIxVs"
      },
      "outputs": [],
      "source": [
        "Resample = gis.MatchProjResNDV (source_file, target_fhs, output_folder, resample = 'near', dtype = 'float32')"
      ]
    },
    {
      "cell_type": "code",
      "execution_count": null,
      "metadata": {
        "id": "uS6y9KR5IxVt",
        "outputId": "864d9cd9-b1b8-4549-efe7-e2951869a276",
        "colab": {
          "base_uri": "https://localhost:8080/"
        }
      },
      "outputs": [
        {
          "output_type": "stream",
          "name": "stdout",
          "text": [
            "The size & shape of the resampled data = 347133 & (461, 753)\n"
          ]
        }
      ],
      "source": [
        "## Check the size and shape of the resampled raster files\n",
        "Resampled   = \"/content/content/resampled/L1-RET-E_resampled/bb_L1-RET-E_NONE_day_2022-01-01.tif\"\n",
        "resampled   = gis.OpenAsArray(Resampled , nan_values=True)\n",
        "\n",
        "print ('The size & shape of the resampled data =', resampled.size,  '&', resampled.shape)"
      ]
    },
    {
      "cell_type": "markdown",
      "metadata": {
        "id": "XwEriIJ9IxVt"
      },
      "source": [
        "## ii) Resample Precipitation layers"
      ]
    },
    {
      "cell_type": "code",
      "execution_count": null,
      "metadata": {
        "id": "PF7RBh2pIxVt"
      },
      "outputs": [],
      "source": [
        "source_file   = '/content/sample_res.tif'     # Read gdal info of template raster file\n",
        "target_folder = '/content/content/output/L1-PCP-E'                      # data to be resampled\n",
        "target_fhs    = glob.glob(target_folder + '/*.tif')\n",
        "\n",
        "source_file, target_folder, target_fhs"
      ]
    },
    {
      "cell_type": "markdown",
      "metadata": {
        "id": "CFrq2j4ZIxVu"
      },
      "source": [
        "## The size and shape of the raster files"
      ]
    },
    {
      "cell_type": "code",
      "execution_count": null,
      "metadata": {
        "id": "QOUOya1eIxVu"
      },
      "outputs": [],
      "source": [
        "## The size and shape of the raster files\n",
        "template   = gis.OpenAsArray(source_file, nan_values=True)\n",
        "original   = gis.OpenAsArray(target_fhs[0], nan_values=True)\n",
        "\n",
        "print ('The size & shape of the template raster      =', template.size,  '&', template.shape)\n",
        "print ('The size & shape of the data to be resampled =', original.size,  '&', original.shape)"
      ]
    },
    {
      "cell_type": "markdown",
      "metadata": {
        "id": "7hLtke-xIxVu"
      },
      "source": [
        "## ** Make or connect with the directory the output folder"
      ]
    },
    {
      "cell_type": "code",
      "execution_count": null,
      "metadata": {
        "id": "ELVA73RWIxVu",
        "outputId": "3537c544-e073-4f16-bc7a-0ee00ed58dab"
      },
      "outputs": [
        {
          "data": {
            "text/plain": [
              "'D:\\\\Github\\\\WAPORWP\\\\Data\\\\1_L1_PCP_D_resampled'"
            ]
          },
          "execution_count": 9,
          "metadata": {},
          "output_type": "execute_result"
        }
      ],
      "source": [
        "output_folder = '/content/content/resampled/L1-PCP-E_resampled'\n",
        "\n",
        "## Make one if the folder does not exit\n",
        "if not os.path.exists(output_folder):\n",
        "    os.makedirs(output_folder)\n",
        "\n",
        "output_folder"
      ]
    },
    {
      "cell_type": "markdown",
      "metadata": {
        "id": "0yDgbBU8IxVv"
      },
      "source": [
        "## *** Resample raster data"
      ]
    },
    {
      "cell_type": "code",
      "execution_count": null,
      "metadata": {
        "id": "MZzd-jx_IxVv"
      },
      "outputs": [],
      "source": [
        "Resample = gis.MatchProjResNDV (source_file, target_fhs, output_folder, resample = 'near', dtype = 'float32')"
      ]
    },
    {
      "cell_type": "code",
      "execution_count": null,
      "metadata": {
        "id": "jWcIlSCRIxVv",
        "outputId": "4b436fe5-b50c-40b0-87fa-866dea09bbeb"
      },
      "outputs": [
        {
          "name": "stdout",
          "output_type": "stream",
          "text": [
            "The size & shape of the resampled data = 1458022 & (1159, 1258)\n"
          ]
        }
      ],
      "source": [
        "## Check the size and shape of the resampled raster files\n",
        "Resampled   = \"/content/content/resampled/L1-PCP-E_resampled/bb_L1-PCP-E_NONE_day_2022-01-01.tif\"\n",
        "resampled   = gis.OpenAsArray(Resampled , nan_values=True)\n",
        "\n",
        "print ('The size & shape of the resampled data =', resampled.size,  '&', resampled.shape)"
      ]
    },
    {
      "cell_type": "markdown",
      "metadata": {
        "id": "vMSmgGMiIxVv"
      },
      "source": [
        "\n",
        "\n",
        "# Step 1c - Filiter non-croppped area using land cover map and project boundary\n",
        "\n",
        "### Land cover map\n",
        "In WaPOR LCC layer, pixel value **42** represents irrigated cropland (See https://wapor.apps.fao.org/catalog/2/L2_LCC_A).\n",
        "\n",
        "![title](https://raw.githubusercontent.com//wateraccounting/WAPORWP/master/Notebooks/img/Fig1_2.png)"
      ]
    },
    {
      "cell_type": "markdown",
      "metadata": {
        "id": "_mJCwR58IxVw"
      },
      "source": [
        "### Poject boundary  --- convert shapefile to raster"
      ]
    },
    {
      "cell_type": "code",
      "source": [
        "#To upload boundary shape file.\n",
        "from google.colab import files\n",
        "uploaded = files.upload()"
      ],
      "metadata": {
        "colab": {
          "base_uri": "https://localhost:8080/",
          "height": 246
        },
        "id": "POpL8hacijKL",
        "outputId": "d124823a-23a4-49be-c0c2-8e474a61d60c"
      },
      "execution_count": null,
      "outputs": [
        {
          "output_type": "display_data",
          "data": {
            "text/plain": [
              "<IPython.core.display.HTML object>"
            ],
            "text/html": [
              "\n",
              "     <input type=\"file\" id=\"files-fe923364-631c-4e5e-bc29-8579ac26f12f\" name=\"files[]\" multiple disabled\n",
              "        style=\"border:none\" />\n",
              "     <output id=\"result-fe923364-631c-4e5e-bc29-8579ac26f12f\">\n",
              "      Upload widget is only available when the cell has been executed in the\n",
              "      current browser session. Please rerun this cell to enable.\n",
              "      </output>\n",
              "      <script>// Copyright 2017 Google LLC\n",
              "//\n",
              "// Licensed under the Apache License, Version 2.0 (the \"License\");\n",
              "// you may not use this file except in compliance with the License.\n",
              "// You may obtain a copy of the License at\n",
              "//\n",
              "//      http://www.apache.org/licenses/LICENSE-2.0\n",
              "//\n",
              "// Unless required by applicable law or agreed to in writing, software\n",
              "// distributed under the License is distributed on an \"AS IS\" BASIS,\n",
              "// WITHOUT WARRANTIES OR CONDITIONS OF ANY KIND, either express or implied.\n",
              "// See the License for the specific language governing permissions and\n",
              "// limitations under the License.\n",
              "\n",
              "/**\n",
              " * @fileoverview Helpers for google.colab Python module.\n",
              " */\n",
              "(function(scope) {\n",
              "function span(text, styleAttributes = {}) {\n",
              "  const element = document.createElement('span');\n",
              "  element.textContent = text;\n",
              "  for (const key of Object.keys(styleAttributes)) {\n",
              "    element.style[key] = styleAttributes[key];\n",
              "  }\n",
              "  return element;\n",
              "}\n",
              "\n",
              "// Max number of bytes which will be uploaded at a time.\n",
              "const MAX_PAYLOAD_SIZE = 100 * 1024;\n",
              "\n",
              "function _uploadFiles(inputId, outputId) {\n",
              "  const steps = uploadFilesStep(inputId, outputId);\n",
              "  const outputElement = document.getElementById(outputId);\n",
              "  // Cache steps on the outputElement to make it available for the next call\n",
              "  // to uploadFilesContinue from Python.\n",
              "  outputElement.steps = steps;\n",
              "\n",
              "  return _uploadFilesContinue(outputId);\n",
              "}\n",
              "\n",
              "// This is roughly an async generator (not supported in the browser yet),\n",
              "// where there are multiple asynchronous steps and the Python side is going\n",
              "// to poll for completion of each step.\n",
              "// This uses a Promise to block the python side on completion of each step,\n",
              "// then passes the result of the previous step as the input to the next step.\n",
              "function _uploadFilesContinue(outputId) {\n",
              "  const outputElement = document.getElementById(outputId);\n",
              "  const steps = outputElement.steps;\n",
              "\n",
              "  const next = steps.next(outputElement.lastPromiseValue);\n",
              "  return Promise.resolve(next.value.promise).then((value) => {\n",
              "    // Cache the last promise value to make it available to the next\n",
              "    // step of the generator.\n",
              "    outputElement.lastPromiseValue = value;\n",
              "    return next.value.response;\n",
              "  });\n",
              "}\n",
              "\n",
              "/**\n",
              " * Generator function which is called between each async step of the upload\n",
              " * process.\n",
              " * @param {string} inputId Element ID of the input file picker element.\n",
              " * @param {string} outputId Element ID of the output display.\n",
              " * @return {!Iterable<!Object>} Iterable of next steps.\n",
              " */\n",
              "function* uploadFilesStep(inputId, outputId) {\n",
              "  const inputElement = document.getElementById(inputId);\n",
              "  inputElement.disabled = false;\n",
              "\n",
              "  const outputElement = document.getElementById(outputId);\n",
              "  outputElement.innerHTML = '';\n",
              "\n",
              "  const pickedPromise = new Promise((resolve) => {\n",
              "    inputElement.addEventListener('change', (e) => {\n",
              "      resolve(e.target.files);\n",
              "    });\n",
              "  });\n",
              "\n",
              "  const cancel = document.createElement('button');\n",
              "  inputElement.parentElement.appendChild(cancel);\n",
              "  cancel.textContent = 'Cancel upload';\n",
              "  const cancelPromise = new Promise((resolve) => {\n",
              "    cancel.onclick = () => {\n",
              "      resolve(null);\n",
              "    };\n",
              "  });\n",
              "\n",
              "  // Wait for the user to pick the files.\n",
              "  const files = yield {\n",
              "    promise: Promise.race([pickedPromise, cancelPromise]),\n",
              "    response: {\n",
              "      action: 'starting',\n",
              "    }\n",
              "  };\n",
              "\n",
              "  cancel.remove();\n",
              "\n",
              "  // Disable the input element since further picks are not allowed.\n",
              "  inputElement.disabled = true;\n",
              "\n",
              "  if (!files) {\n",
              "    return {\n",
              "      response: {\n",
              "        action: 'complete',\n",
              "      }\n",
              "    };\n",
              "  }\n",
              "\n",
              "  for (const file of files) {\n",
              "    const li = document.createElement('li');\n",
              "    li.append(span(file.name, {fontWeight: 'bold'}));\n",
              "    li.append(span(\n",
              "        `(${file.type || 'n/a'}) - ${file.size} bytes, ` +\n",
              "        `last modified: ${\n",
              "            file.lastModifiedDate ? file.lastModifiedDate.toLocaleDateString() :\n",
              "                                    'n/a'} - `));\n",
              "    const percent = span('0% done');\n",
              "    li.appendChild(percent);\n",
              "\n",
              "    outputElement.appendChild(li);\n",
              "\n",
              "    const fileDataPromise = new Promise((resolve) => {\n",
              "      const reader = new FileReader();\n",
              "      reader.onload = (e) => {\n",
              "        resolve(e.target.result);\n",
              "      };\n",
              "      reader.readAsArrayBuffer(file);\n",
              "    });\n",
              "    // Wait for the data to be ready.\n",
              "    let fileData = yield {\n",
              "      promise: fileDataPromise,\n",
              "      response: {\n",
              "        action: 'continue',\n",
              "      }\n",
              "    };\n",
              "\n",
              "    // Use a chunked sending to avoid message size limits. See b/62115660.\n",
              "    let position = 0;\n",
              "    do {\n",
              "      const length = Math.min(fileData.byteLength - position, MAX_PAYLOAD_SIZE);\n",
              "      const chunk = new Uint8Array(fileData, position, length);\n",
              "      position += length;\n",
              "\n",
              "      const base64 = btoa(String.fromCharCode.apply(null, chunk));\n",
              "      yield {\n",
              "        response: {\n",
              "          action: 'append',\n",
              "          file: file.name,\n",
              "          data: base64,\n",
              "        },\n",
              "      };\n",
              "\n",
              "      let percentDone = fileData.byteLength === 0 ?\n",
              "          100 :\n",
              "          Math.round((position / fileData.byteLength) * 100);\n",
              "      percent.textContent = `${percentDone}% done`;\n",
              "\n",
              "    } while (position < fileData.byteLength);\n",
              "  }\n",
              "\n",
              "  // All done.\n",
              "  yield {\n",
              "    response: {\n",
              "      action: 'complete',\n",
              "    }\n",
              "  };\n",
              "}\n",
              "\n",
              "scope.google = scope.google || {};\n",
              "scope.google.colab = scope.google.colab || {};\n",
              "scope.google.colab._files = {\n",
              "  _uploadFiles,\n",
              "  _uploadFilesContinue,\n",
              "};\n",
              "})(self);\n",
              "</script> "
            ]
          },
          "metadata": {}
        },
        {
          "output_type": "stream",
          "name": "stdout",
          "text": [
            "Saving Wad_Helal.cpg to Wad_Helal (2).cpg\n",
            "Saving Wad_Helal.dbf to Wad_Helal (2).dbf\n",
            "Saving Wad_Helal.prj to Wad_Helal (2).prj\n",
            "Saving Wad_Helal.qmd to Wad_Helal (2).qmd\n",
            "Saving Wad_Helal.shp to Wad_Helal (2).shp\n",
            "Saving Wad_Helal.shx to Wad_Helal (2).shx\n"
          ]
        }
      ]
    },
    {
      "cell_type": "code",
      "source": [
        "import geopandas as gpd\n",
        "gdf = gpd.read_file('/content/Modules/Wad_Helal.shp')\n",
        "# Plotting the area\n",
        "gdf.plot()\n",
        "gdf\n",
        ","
      ],
      "metadata": {
        "colab": {
          "base_uri": "https://localhost:8080/",
          "height": 383
        },
        "id": "UFejkskak2pH",
        "outputId": "a1cadb66-b964-4d48-f3f3-d113a6c41dd4"
      },
      "execution_count": null,
      "outputs": [
        {
          "output_type": "execute_result",
          "data": {
            "text/plain": [
              "''"
            ],
            "application/vnd.google.colaboratory.intrinsic+json": {
              "type": "string"
            }
          },
          "metadata": {},
          "execution_count": 36
        },
        {
          "output_type": "display_data",
          "data": {
            "text/plain": [
              "<Figure size 640x480 with 1 Axes>"
            ],
            "image/png": "[encoded data removed]"
          },
          "metadata": {}
        }
      ]
    },
    {
      "cell_type": "code",
      "execution_count": null,
      "metadata": {
        "id": "gNVOzrh-IxVw"
      },
      "outputs": [],
      "source": [
        "# read shapefile and reference raster files\n",
        "\n",
        "\n",
        "InputVector = r\"/content/Modules/Wad_Helal.shp\"             # the shapefile of the project\n",
        "RefImage    = r\"/content/sample_res.tif\" # Reference raster to fix the the pixel size\n",
        "OutputImage = r'/content/Wad_Helal_masked'            # name the output raster file\n",
        "burnVal     = 1                                                         #value for the output image pixels"
      ]
    },
    {
      "cell_type": "code",
      "execution_count": null,
      "metadata": {
        "id": "GXHyLgPpIxVw",
        "outputId": "e07ec5fb-d865-403f-d2be-f8f90bce510c",
        "colab": {
          "base_uri": "https://localhost:8080/"
        }
      },
      "outputs": [
        {
          "output_type": "stream",
          "name": "stdout",
          "text": [
            "Rasterising shapefile...\n",
            "Done.\n"
          ]
        }
      ],
      "source": [
        "# A script to rasterise a shapefile to the same projection & pixel resolution as a reference image.\n",
        "gdalformat = 'GTiff'\n",
        "datatype = gdal.GDT_Byte\n",
        "\n",
        "\n",
        "##########################################################\n",
        "# Get projection info from reference image\n",
        "Image = gdal.Open(RefImage, gdal.GA_ReadOnly)\n",
        "\n",
        "# Open Shapefile\n",
        "Shapefile = ogr.Open(InputVector)\n",
        "Shapefile_layer = Shapefile.GetLayer()\n",
        "\n",
        "# Rasterise\n",
        "print(\"Rasterising shapefile...\")\n",
        "Output = gdal.GetDriverByName(gdalformat).Create(OutputImage, Image.RasterXSize, Image.RasterYSize, 1, datatype, options=['COMPRESS=LZW'])\n",
        "Output.SetProjection(Image.GetProjectionRef())\n",
        "Output.SetGeoTransform(Image.GetGeoTransform())\n",
        "\n",
        "# Write data to band 1\n",
        "Band = Output.GetRasterBand(1)\n",
        "Band.SetNoDataValue(0)\n",
        "gdal.RasterizeLayer(Output, [1], Shapefile_layer, burn_values=[burnVal])\n",
        "\n",
        "# Close datasets\n",
        "Band = None\n",
        "Output = None\n",
        "Image = None\n",
        "Shapefile = None\n",
        "\n",
        "# Build image overviews\n",
        "subprocess.call(\"gdaladdo --config COMPRESS_OVERVIEW DEFLATE \"+OutputImage+\" 2 4 8 16 32 64\", shell=True)\n",
        "print(\"Done.\")"
      ]
    },
    {
      "cell_type": "code",
      "execution_count": null,
      "metadata": {
        "id": "AHLINwo2IxVx",
        "outputId": "1f8d9f9d-9875-46aa-befd-0ac7fc88047e",
        "colab": {
          "base_uri": "https://localhost:8080/",
          "height": 35
        }
      },
      "outputs": [
        {
          "output_type": "execute_result",
          "data": {
            "text/plain": [
              "'/content/Wad_Helal_masked'"
            ],
            "application/vnd.google.colaboratory.intrinsic+json": {
              "type": "string"
            }
          },
          "metadata": {},
          "execution_count": 31
        }
      ],
      "source": [
        "OutputImage"
      ]
    },
    {
      "cell_type": "markdown",
      "metadata": {
        "scrolled": true,
        "id": "0E8qQ0RAIxVx"
      },
      "source": [
        "## i) Import the input data"
      ]
    },
    {
      "cell_type": "code",
      "execution_count": null,
      "metadata": {
        "id": "zTXoJVkPIxVy",
        "colab": {
          "base_uri": "https://localhost:8080/"
        },
        "outputId": "f55aa93a-cdf0-4833-96dc-3699bd7c3daf"
      },
      "outputs": [
        {
          "output_type": "execute_result",
          "data": {
            "text/plain": [
              "['/content/content/resampled/L1-PCP-E_resampled/bb_L1-PCP-E_NONE_day_2022-01-14.tif',\n",
              " '/content/content/resampled/L1-PCP-E_resampled/bb_L1-PCP-E_NONE_day_2022-01-11.tif',\n",
              " '/content/content/resampled/L1-PCP-E_resampled/bb_L1-PCP-E_NONE_day_2022-01-06.tif',\n",
              " '/content/content/resampled/L1-PCP-E_resampled/bb_L1-PCP-E_NONE_day_2022-01-17.tif',\n",
              " '/content/content/resampled/L1-PCP-E_resampled/bb_L1-PCP-E_NONE_day_2022-01-07.tif',\n",
              " '/content/content/resampled/L1-PCP-E_resampled/bb_L1-PCP-E_NONE_day_2022-01-24.tif',\n",
              " '/content/content/resampled/L1-PCP-E_resampled/bb_L1-PCP-E_NONE_day_2022-01-16.tif',\n",
              " '/content/content/resampled/L1-PCP-E_resampled/bb_L1-PCP-E_NONE_day_2022-01-29.tif',\n",
              " '/content/content/resampled/L1-PCP-E_resampled/bb_L1-PCP-E_NONE_day_2022-01-02.tif',\n",
              " '/content/content/resampled/L1-PCP-E_resampled/bb_L1-PCP-E_NONE_day_2022-01-25.tif',\n",
              " '/content/content/resampled/L1-PCP-E_resampled/bb_L1-PCP-E_NONE_day_2022-01-19.tif',\n",
              " '/content/content/resampled/L1-PCP-E_resampled/bb_L1-PCP-E_NONE_day_2022-01-01.tif',\n",
              " '/content/content/resampled/L1-PCP-E_resampled/bb_L1-PCP-E_NONE_day_2022-01-21.tif',\n",
              " '/content/content/resampled/L1-PCP-E_resampled/bb_L1-PCP-E_NONE_day_2022-01-26.tif',\n",
              " '/content/content/resampled/L1-PCP-E_resampled/bb_L1-PCP-E_NONE_day_2022-01-10.tif',\n",
              " '/content/content/resampled/L1-PCP-E_resampled/bb_L1-PCP-E_NONE_day_2022-01-15.tif',\n",
              " '/content/content/resampled/L1-PCP-E_resampled/bb_L1-PCP-E_NONE_day_2022-01-27.tif',\n",
              " '/content/content/resampled/L1-PCP-E_resampled/bb_L1-PCP-E_NONE_day_2022-01-28.tif',\n",
              " '/content/content/resampled/L1-PCP-E_resampled/bb_L1-PCP-E_NONE_day_2022-01-20.tif',\n",
              " '/content/content/resampled/L1-PCP-E_resampled/bb_L1-PCP-E_NONE_day_2022-01-30.tif',\n",
              " '/content/content/resampled/L1-PCP-E_resampled/bb_L1-PCP-E_NONE_day_2022-01-05.tif',\n",
              " '/content/content/resampled/L1-PCP-E_resampled/bb_L1-PCP-E_NONE_day_2022-01-09.tif',\n",
              " '/content/content/resampled/L1-PCP-E_resampled/bb_L1-PCP-E_NONE_day_2022-01-23.tif',\n",
              " '/content/content/resampled/L1-PCP-E_resampled/bb_L1-PCP-E_NONE_day_2022-01-18.tif',\n",
              " '/content/content/resampled/L1-PCP-E_resampled/bb_L1-PCP-E_NONE_day_2022-01-08.tif',\n",
              " '/content/content/resampled/L1-PCP-E_resampled/bb_L1-PCP-E_NONE_day_2022-01-03.tif',\n",
              " '/content/content/resampled/L1-PCP-E_resampled/bb_L1-PCP-E_NONE_day_2022-01-22.tif',\n",
              " '/content/content/resampled/L1-PCP-E_resampled/bb_L1-PCP-E_NONE_day_2022-01-13.tif',\n",
              " '/content/content/resampled/L1-PCP-E_resampled/bb_L1-PCP-E_NONE_day_2022-01-31.tif',\n",
              " '/content/content/resampled/L1-PCP-E_resampled/bb_L1-PCP-E_NONE_day_2022-01-12.tif',\n",
              " '/content/content/resampled/L1-PCP-E_resampled/bb_L1-PCP-E_NONE_day_2022-01-04.tif']"
            ]
          },
          "metadata": {},
          "execution_count": 46
        }
      ],
      "source": [
        "\n",
        "# reference evapotranspiration and precipitation\n",
        "\n",
        "\n",
        "input_folderPCP  = '/content/content/resampled/L1-PCP-E_resampled'\n",
        "input_fhsPCP     = glob.glob(input_folderPCP + '/*.tif')\n",
        "\n",
        "input_folderRET  = '/content/content/resampled/L1-RET-E_resampled'\n",
        "input_fhsRET     = glob.glob(input_folderRET + '/*.tif')\n",
        "\n",
        "# Masks: landcover layers and the shape of the project area\n",
        "#input_LCCfolder  = os.path.join(dir_proj, dir_data, \"WAPOR.v2_yearly_L2_LCC_A\")\n",
        "#LCC_tifs         = glob.glob(input_LCCfolder + '/*.tif')\n",
        "\n",
        "ProArea = gis.OpenAsArray(r'/content/Wad_Helal_masked', nan_values=True)  # the project boundary/area (tif)\n",
        "input_fhsPCP"
      ]
    },
    {
      "cell_type": "markdown",
      "metadata": {
        "id": "Jcp7yuPUIxVy"
      },
      "source": [
        "## ii) Output folder: Make one or connect to the existing one"
      ]
    },
    {
      "cell_type": "code",
      "execution_count": null,
      "metadata": {
        "id": "eLi8QhifIxVy",
        "outputId": "be5e4bda-15a3-4b03-eeef-c3c6009e3ee5",
        "colab": {
          "base_uri": "https://localhost:8080/"
        }
      },
      "outputs": [
        {
          "output_type": "execute_result",
          "data": {
            "text/plain": [
              "('/content/content/filtered/L1-PCP-E_filtered',\n",
              " '/content/content/filtered/L1-RET-E_filtered')"
            ]
          },
          "metadata": {},
          "execution_count": 40
        }
      ],
      "source": [
        "output_folderPCP    = '/content/content/filtered/L1-PCP-E_filtered'\n",
        "output_folderRET  = '/content/content/filtered/L1-RET-E_filtered'\n",
        "\n",
        "\n",
        "## Make one if the folder does not exit\n",
        "if not os.path.exists(output_folderRET):\n",
        "    os.makedirs(output_folderRET)\n",
        "if not os.path.exists(output_folderPCP):\n",
        "    os.makedirs(output_folderPCP)\n",
        "\n",
        "output_folderPCP, output_folderRET"
      ]
    },
    {
      "cell_type": "markdown",
      "metadata": {
        "id": "W6txLianIxVz"
      },
      "source": [
        "#### Plot project area"
      ]
    },
    {
      "cell_type": "code",
      "execution_count": null,
      "metadata": {
        "id": "QFugZk_hIxVz",
        "outputId": "ad4c6646-1152-4ae3-b3fe-6d0db629d0b4",
        "colab": {
          "base_uri": "https://localhost:8080/",
          "height": 545
        }
      },
      "outputs": [
        {
          "output_type": "display_data",
          "data": {
            "text/plain": [
              "<Figure size 1200x600 with 1 Axes>"
            ],
            "image/png": "[encoded data removed]"
          },
          "metadata": {}
        }
      ],
      "source": [
        "### Plot project area\n",
        "Projectboundary = ProArea\n",
        "\n",
        "# Plot\n",
        "plt.figure(figsize = (12,6))\n",
        "plt.imshow(Projectboundary)\n",
        "plt.title('Project area')\n",
        "plt.show();"
      ]
    },
    {
      "cell_type": "markdown",
      "metadata": {
        "id": "gThDrSXlIxVz"
      },
      "source": [
        "#### Plot raster layer (before removing the non-cropped area)"
      ]
    },
    {
      "cell_type": "code",
      "execution_count": null,
      "metadata": {
        "id": "hW32ZM0wIxV0",
        "outputId": "6169e8e2-c83c-467b-cf6d-126469f39f2f",
        "colab": {
          "base_uri": "https://localhost:8080/",
          "height": 35
        }
      },
      "outputs": [
        {
          "output_type": "execute_result",
          "data": {
            "text/plain": [
              "'/content/content/resampled/L1-PCP-E_resampled/bb_L1-PCP-E_NONE_day_2022-01-14.tif'"
            ],
            "application/vnd.google.colaboratory.intrinsic+json": {
              "type": "string"
            }
          },
          "metadata": {},
          "execution_count": 47
        }
      ],
      "source": [
        "input_fhsPCP[0]"
      ]
    },
    {
      "cell_type": "code",
      "execution_count": null,
      "metadata": {
        "scrolled": false,
        "id": "iQrVUX9EIxV0",
        "outputId": "f575ed0f-e57b-4814-8b88-ad4f0d4d9fd5",
        "colab": {
          "base_uri": "https://localhost:8080/",
          "height": 538
        }
      },
      "outputs": [
        {
          "output_type": "display_data",
          "data": {
            "text/plain": [
              "<Figure size 1200x800 with 2 Axes>"
            ],
            "image/png": "[encoded data removed]"
          },
          "metadata": {}
        }
      ],
      "source": [
        "# Plot PCP layer\n",
        "PCP_tif = gis.OpenAsArray(input_fhsPCP[0],nan_values=True)\n",
        "\n",
        "plt.figure(figsize = (12,8))\n",
        "plt.imshow(PCP_tif, cmap='RdYlGn')\n",
        "plt.colorbar(shrink=0.75, label=' [mm/dekadal]')\n",
        "plt.title('Downloaded PCP layer')\n",
        "plt.show()"
      ]
    },
    {
      "cell_type": "code",
      "source": [
        "\n",
        "# Plot PCP layer\n",
        "PCP_tif = gis.OpenAsArray(input_fhsPCP[0],nan_values=True)\n",
        "\n",
        "plt.figure(figsize = (12,8))\n",
        "plt.imshow(PCP_tif, cmap='RdYlGn')\n",
        "plt.colorbar(shrink=0.75, label=' [mm/dekadal]')\n",
        "plt.title('Downloaded PCP layer')\n",
        "plt.show()"
      ],
      "metadata": {
        "colab": {
          "base_uri": "https://localhost:8080/",
          "height": 211
        },
        "id": "efdmxcr8tMz6",
        "outputId": "9bd4839f-98c6-47cd-f2f6-2840ccf151df"
      },
      "execution_count": null,
      "outputs": [
        {
          "output_type": "error",
          "ename": "NameError",
          "evalue": "name 'output_fhsPCP' is not defined",
          "traceback": [
            "\u001b[0;31m---------------------------------------------------------------------------\u001b[0m",
            "\u001b[0;31mNameError\u001b[0m                                 Traceback (most recent call last)",
            "\u001b[0;32m<ipython-input-50-1972a528242d>\u001b[0m in \u001b[0;36m<cell line: 1>\u001b[0;34m()\u001b[0m\n\u001b[0;32m----> 1\u001b[0;31m \u001b[0moutput_fhsPCP\u001b[0m\u001b[0;34m[\u001b[0m\u001b[0;36m0\u001b[0m\u001b[0;34m]\u001b[0m\u001b[0;34m\u001b[0m\u001b[0;34m\u001b[0m\u001b[0m\n\u001b[0m\u001b[1;32m      2\u001b[0m \u001b[0;31m# Plot PCP layer\u001b[0m\u001b[0;34m\u001b[0m\u001b[0;34m\u001b[0m\u001b[0m\n\u001b[1;32m      3\u001b[0m \u001b[0mPCP_tif\u001b[0m \u001b[0;34m=\u001b[0m \u001b[0mgis\u001b[0m\u001b[0;34m.\u001b[0m\u001b[0mOpenAsArray\u001b[0m\u001b[0;34m(\u001b[0m\u001b[0minput_fhsPCP\u001b[0m\u001b[0;34m[\u001b[0m\u001b[0;36m0\u001b[0m\u001b[0;34m]\u001b[0m\u001b[0;34m,\u001b[0m\u001b[0mnan_values\u001b[0m\u001b[0;34m=\u001b[0m\u001b[0;32mTrue\u001b[0m\u001b[0;34m)\u001b[0m\u001b[0;34m\u001b[0m\u001b[0;34m\u001b[0m\u001b[0m\n\u001b[1;32m      4\u001b[0m \u001b[0;34m\u001b[0m\u001b[0m\n\u001b[1;32m      5\u001b[0m \u001b[0mplt\u001b[0m\u001b[0;34m.\u001b[0m\u001b[0mfigure\u001b[0m\u001b[0;34m(\u001b[0m\u001b[0mfigsize\u001b[0m \u001b[0;34m=\u001b[0m \u001b[0;34m(\u001b[0m\u001b[0;36m12\u001b[0m\u001b[0;34m,\u001b[0m\u001b[0;36m8\u001b[0m\u001b[0;34m)\u001b[0m\u001b[0;34m)\u001b[0m\u001b[0;34m\u001b[0m\u001b[0;34m\u001b[0m\u001b[0m\n",
            "\u001b[0;31mNameError\u001b[0m: name 'output_fhsPCP' is not defined"
          ]
        }
      ]
    },
    {
      "cell_type": "markdown",
      "metadata": {
        "id": "1pB6aedRIxV0"
      },
      "source": [
        "#### Plot raster layer on irrigated cropped land (masking out non-irrigated cropped land)"
      ]
    },
    {
      "cell_type": "code",
      "execution_count": null,
      "metadata": {
        "id": "dzzgmBapIxV1",
        "outputId": "bb45527f-7300-4715-bad1-443cfef6ddeb"
      },
      "outputs": [
        {
          "data": {
            "text/plain": [
              "'D:\\\\Github\\\\WAPORWP\\\\Data\\\\WAPOR.v2_yearly_L2_LCC_A\\\\L2_LCC_09.tif'"
            ]
          },
          "execution_count": 20,
          "metadata": {},
          "output_type": "execute_result"
        }
      ],
      "source": [
        "LCC_tifs[0]"
      ]
    },
    {
      "cell_type": "code",
      "execution_count": null,
      "metadata": {
        "scrolled": false,
        "id": "w5XKnduuIxV2",
        "outputId": "2b300362-ffe7-4327-9b2b-730845e6149d"
      },
      "outputs": [
        {
          "data": {
            "image/png": "[encoded data removed]",
            "text/plain": [
              "<Figure size 864x576 with 2 Axes>"
            ]
          },
          "metadata": {
            "needs_background": "light"
          },
          "output_type": "display_data"
        }
      ],
      "source": [
        "# Mask out the non-irrigated cropped land\n",
        "LCC       = gis.OpenAsArray(LCC_tifs[0],nan_values=True)  # land cover map\n",
        "AETI_crop = np.where((LCC==42), AETI_tif,np.nan)          # Show AETI on irrigated crop land, which has land class value of 42\n",
        "\n",
        "# Plot AETI on irrigated cropped land\n",
        "plt.figure(figsize = (12,8))\n",
        "plt.imshow(AETI_crop, cmap='RdYlGn')\n",
        "plt.colorbar(shrink=0.75, label=' [mm/dekadal]')\n",
        "plt.title('AETI of the irrigated cropped land')\n",
        "plt.show()"
      ]
    },
    {
      "cell_type": "markdown",
      "metadata": {
        "id": "swEBtu98IxV2"
      },
      "source": [
        "#### Plot raser layer on  irrigated cropped land and within the boundary of the scheme"
      ]
    },
    {
      "cell_type": "code",
      "execution_count": null,
      "metadata": {
        "scrolled": false,
        "id": "EuEhVYKOIxV2",
        "outputId": "0a9ef423-7378-49eb-8256-6541293263f7"
      },
      "outputs": [
        {
          "data": {
            "image/png": "[encoded data removed]",
            "text/plain": [
              "<Figure size 864x576 with 2 Axes>"
            ]
          },
          "metadata": {
            "needs_background": "light"
          },
          "output_type": "display_data"
        }
      ],
      "source": [
        "# Mask out the non-irrigated cropped land and area outside the scheme boundary\n",
        "AETI_boundary = np.where((LCC==42)& (ProArea==1),AETI_tif,np.nan) # masking out the non-irrigated crop land and areas outside the projedct area\n",
        "\n",
        "# Plot\n",
        "plt.figure(figsize = (12,8))\n",
        "plt.imshow(AETI_boundary, cmap='RdYlGn')\n",
        "plt.colorbar(shrink=0.75, label=' [mm/dekadal]')\n",
        "plt.title('AETI of the irrigated project')\n",
        "plt.show()"
      ]
    },
    {
      "cell_type": "markdown",
      "metadata": {
        "id": "ISGH06JqIxV3"
      },
      "source": [
        "## iii) Filter non-croppped area using land cover map and project boundary"
      ]
    },
    {
      "cell_type": "markdown",
      "metadata": {
        "id": "RGGQRVxVIxV3"
      },
      "source": [
        "* LCC     = for instance # 42 is the land cover class of crop land under irrigation water management\n",
        "* ProArea = 1 the raster value of the project area in tiff format"
      ]
    },
    {
      "cell_type": "markdown",
      "metadata": {
        "id": "PsjjW3PsIxV3"
      },
      "source": [
        "### Filter precipitation layers"
      ]
    },
    {
      "cell_type": "code",
      "execution_count": null,
      "metadata": {
        "id": "mDcxbWlxIxV4"
      },
      "outputs": [],
      "source": [
        "# collecting Geoinfo such as projection, the x and y axis\n",
        "in_fh = input_fhsPCP[0]\n",
        "driver, NDV, xsize, ysize, GeoT, Projection = gis.GetGeoInfo(in_fh)\n",
        "spatial_extent = (GeoT[0], GeoT[0] + GeoT[1] * xsize, GeoT[3] + GeoT[5] * ysize, GeoT[3])  # get spatial extent of raster\n",
        "\n",
        "for PCPfh in input_fhsPCP:\n",
        "    #for LCCfh in LCC_tifs:\n",
        "    PCP = gis.OpenAsArray(PCPfh, nan_values=True)\n",
        "        #LCC = gis.OpenAsArray(LCCfh, nan_values=True)\n",
        "        #basename1  = os.path.basename(PCPfh).split('_')[2].split('.')[0]    #L2_T_0901.tif, 0901.tif, 0901\n",
        "        #basename1  = int(str(basename1)[:2])                              # 09\n",
        "\n",
        "        #basename2  = os.path.basename(LCCfh).split('_')[2].split('.')[0]   #L2_LCC_09.tif, 09.tif, 09\n",
        "\n",
        "        #if basename1 == int(basename2):     #compare the year of the LCC and the raster layer (T)\n",
        "\n",
        "            # masking out the non-irrigated crop land and areas outside the projedct area\n",
        "            #PCP   = np.where((LCC==42)& (ProArea==1),PCP,np.nan)\n",
        "    PCP   = np.where((ProArea==1),PCP,np.nan)\n",
        "\n",
        "            # update the file name, and save into output folder\n",
        "    basename  = os.path.basename(PCPfh)\n",
        "    output_fn = os.path.join(output_folderPCP, basename)\n",
        "    gis.CreateGeoTiff(output_fn, PCP, driver, NDV, xsize, ysize, GeoT, Projection)"
      ]
    },
    {
      "cell_type": "code",
      "source": [
        "#visualise the raster output\n",
        "PCP_tif = '/content/content/filtered/L1-PCP-E_filtered/bb_L1-PCP-E_NONE_day_2022-01-01.tif'      # Path to seasonal file\n",
        "plt.figure(figsize = (12,8))\n",
        "plt.imshow(PCP, cmap='RdYlGn')\n",
        "plt.colorbar(shrink=0.75, label=' [mm/day]')\n",
        "plt.title('Clipped PCP layer')\n",
        "plt.show()"
      ],
      "metadata": {
        "colab": {
          "base_uri": "https://localhost:8080/",
          "height": 538
        },
        "id": "Hvl5p4-mxIzY",
        "outputId": "bca5cfde-a879-4a87-af6e-fe50b718d591"
      },
      "execution_count": null,
      "outputs": [
        {
          "output_type": "display_data",
          "data": {
            "text/plain": [
              "<Figure size 1200x800 with 2 Axes>"
            ],
            "image/png": "[encoded data removed]"
          },
          "metadata": {}
        }
      ]
    },
    {
      "cell_type": "markdown",
      "metadata": {
        "id": "2ctF5EdrIxV5"
      },
      "source": [
        "### Filter Reference ET layers"
      ]
    },
    {
      "cell_type": "code",
      "execution_count": null,
      "metadata": {
        "id": "MPbd1GnoIxV5"
      },
      "outputs": [],
      "source": [
        "# collecting Geoinfo such as projection, the x and y axis\n",
        "in_fh = input_fhsRET[0]\n",
        "driver, NDV, xsize, ysize, GeoT, Projection = gis.GetGeoInfo(in_fh)\n",
        "spatial_extent = (GeoT[0], GeoT[0] + GeoT[1] * xsize, GeoT[3] + GeoT[5] * ysize, GeoT[3])  # get spatial extent of raster\n",
        "\n",
        "for RETfh in input_fhsRET:\n",
        "    for LCCfh in LCC_tifs:\n",
        "        RET = gis.OpenAsArray(RETfh,  nan_values=True)\n",
        "        LCC = gis.OpenAsArray(LCCfh, nan_values=True)\n",
        "        basename1  = os.path.basename(RETfh).split('_')[2].split('.')[0]\n",
        "        basename1  = int(str(basename1)[:2])\n",
        "\n",
        "        basename2  = os.path.basename(LCCfh).split('_')[2].split('.')[0]\n",
        "\n",
        "        if basename1 == int(basename2):\n",
        "\n",
        "            # masking out the non-irrigated crop land and areas outside the projedct area\n",
        "            #RET = np.where((LCC==42)& (ProArea==1),RET,np.nan)\n",
        "            RET = np.where((LCC==42)& (ProArea==1),RET,np.nan)\n",
        "            # update the file name, and save into output folder\n",
        "            basename  = os.path.basename(RETfh)\n",
        "            output_fn = os.path.join(output_folderRET, basename)\n",
        "            gis.CreateGeoTiff(output_fn, RET, driver, NDV, xsize, ysize, GeoT, Projection)"
      ]
    }
  ],
  "metadata": {
    "kernelspec": {
      "display_name": "Python 3",
      "language": "python",
      "name": "python3"
    },
    "language_info": {
      "codemirror_mode": {
        "name": "ipython",
        "version": 3
      },
      "file_extension": ".py",
      "mimetype": "text/x-python",
      "name": "python",
      "nbconvert_exporter": "python",
      "pygments_lexer": "ipython3",
      "version": "3.7.3"
    },
    "colab": {
      "provenance": []
    }
  },
  "nbformat": 4,
  "nbformat_minor": 0
}