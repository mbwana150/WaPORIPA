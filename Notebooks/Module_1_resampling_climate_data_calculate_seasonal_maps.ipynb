{
  "cells": [
    {
      "cell_type": "markdown",
      "metadata": {
        "id": "R2_MuDe7IxVl"
      },
      "source": [
        "# Module 2 - Resampling WaPOR climate data (RET & PCP) and calculate Potential ET\n",
        "This Notebook contains the following steps\n",
        "* Step a - Import modules/libraries\n",
        "* Step b - Resampling raster data\n",
        "* Step c - Calculate seasonal PCP and RET data\n",
        "\n",
        "**=====================================================================================================================**\n",
        "\n",
        "![title](https://raw.githubusercontent.com/wateraccounting/WaPORIPA/main/images/Resampling.png)\n",
        "\n",
        "**=====================================================================================================================**\n",
        "\n",
        "Before you start running this Notebook, make sure you have the following information:\n",
        "\n",
        "*   WaPOR Reference ET and PCP for your case study for the period you want to do the analyses. Use this script for downloading the data: [Downloading_WaPORv3_data script](https://github.com/wateraccounting/WaPORMOOC/tree/main/1_WaPOR_download_colab). *For small areas make sure you download the data using a bounding box to avoid non data*\n",
        "\n",
        "*   Sample of a TIFF file with the resolution you want to do the analyses"
      ]
    },
    {
      "cell_type": "markdown",
      "metadata": {
        "id": "Y_iJMS-xIxVn"
      },
      "source": [
        "## Step a - Import modules/libraries"
      ]
    },
    {
      "cell_type": "code",
      "source": [
        "!pip install --upgrade rioxarray --quiet"
      ],
      "metadata": {
        "id": "BLklqERiuwlx",
        "colab": {
          "base_uri": "https://localhost:8080/"
        },
        "outputId": "04771ab3-3b13-476d-d8b5-7e272aa9a930"
      },
      "execution_count": 2,
      "outputs": [
        {
          "output_type": "stream",
          "name": "stdout",
          "text": [
            "\u001b[2K     \u001b[90m━━━━━━━━━━━━━━━━━━━━━━━━━━━━━━━━━━━━━━━━\u001b[0m \u001b[32m60.5/60.5 kB\u001b[0m \u001b[31m1.8 MB/s\u001b[0m eta \u001b[36m0:00:00\u001b[0m\n",
            "\u001b[2K     \u001b[90m━━━━━━━━━━━━━━━━━━━━━━━━━━━━━━━━━━━━━━━━\u001b[0m \u001b[32m21.5/21.5 MB\u001b[0m \u001b[31m62.0 MB/s\u001b[0m eta \u001b[36m0:00:00\u001b[0m\n",
            "\u001b[?25h"
          ]
        }
      ]
    },
    {
      "cell_type": "code",
      "execution_count": 3,
      "metadata": {
        "id": "q8YcVs9rIxVo"
      },
      "outputs": [],
      "source": [
        "import os                             # a module for interacting with the operating system\n",
        "import glob                           # used to retrieve files/pathnames matching a specified pattern\n",
        "import matplotlib.pyplot as plt       # is a plotting library used for 2D graphics in python\n",
        "import numpy as np                    # stands for 'Numerical Python, is a python library used for scientific computing with arrays\n",
        "import geopandas as gpd\n",
        "import matplotlib.pyplot as plt\n",
        "import rioxarray as rioxr\n",
        "import rasterio as rio\n",
        "import pandas as pd                       # to store and manipulate tabular data in rows of observations and columns of variables\n",
        "import calendar\n",
        "import datetime\n",
        "\n",
        "from osgeo import ogr, gdal\n",
        "import subprocess\n"
      ]
    },
    {
      "cell_type": "markdown",
      "source": [
        "To import some useful GISfunctions, zip the Modules folder from github and upload it here."
      ],
      "metadata": {
        "id": "3vzuINO6jjlH"
      }
    },
    {
      "cell_type": "code",
      "source": [
        "#To upload modules.zip (importing GISfunctions to do the calculations).\n",
        "from google.colab import files\n",
        "uploaded = files.upload()"
      ],
      "metadata": {
        "colab": {
          "base_uri": "https://localhost:8080/",
          "height": 73
        },
        "id": "HtnM_x2PL2NV",
        "outputId": "e965f50a-62a9-49b1-f4c4-afde1faabb25"
      },
      "execution_count": 4,
      "outputs": [
        {
          "output_type": "display_data",
          "data": {
            "text/plain": [
              "<IPython.core.display.HTML object>"
            ],
            "text/html": [
              "\n",
              "     <input type=\"file\" id=\"files-ba05c947-1c74-477f-952f-06e3a586a86a\" name=\"files[]\" multiple disabled\n",
              "        style=\"border:none\" />\n",
              "     <output id=\"result-ba05c947-1c74-477f-952f-06e3a586a86a\">\n",
              "      Upload widget is only available when the cell has been executed in the\n",
              "      current browser session. Please rerun this cell to enable.\n",
              "      </output>\n",
              "      <script>// Copyright 2017 Google LLC\n",
              "//\n",
              "// Licensed under the Apache License, Version 2.0 (the \"License\");\n",
              "// you may not use this file except in compliance with the License.\n",
              "// You may obtain a copy of the License at\n",
              "//\n",
              "//      http://www.apache.org/licenses/LICENSE-2.0\n",
              "//\n",
              "// Unless required by applicable law or agreed to in writing, software\n",
              "// distributed under the License is distributed on an \"AS IS\" BASIS,\n",
              "// WITHOUT WARRANTIES OR CONDITIONS OF ANY KIND, either express or implied.\n",
              "// See the License for the specific language governing permissions and\n",
              "// limitations under the License.\n",
              "\n",
              "/**\n",
              " * @fileoverview Helpers for google.colab Python module.\n",
              " */\n",
              "(function(scope) {\n",
              "function span(text, styleAttributes = {}) {\n",
              "  const element = document.createElement('span');\n",
              "  element.textContent = text;\n",
              "  for (const key of Object.keys(styleAttributes)) {\n",
              "    element.style[key] = styleAttributes[key];\n",
              "  }\n",
              "  return element;\n",
              "}\n",
              "\n",
              "// Max number of bytes which will be uploaded at a time.\n",
              "const MAX_PAYLOAD_SIZE = 100 * 1024;\n",
              "\n",
              "function _uploadFiles(inputId, outputId) {\n",
              "  const steps = uploadFilesStep(inputId, outputId);\n",
              "  const outputElement = document.getElementById(outputId);\n",
              "  // Cache steps on the outputElement to make it available for the next call\n",
              "  // to uploadFilesContinue from Python.\n",
              "  outputElement.steps = steps;\n",
              "\n",
              "  return _uploadFilesContinue(outputId);\n",
              "}\n",
              "\n",
              "// This is roughly an async generator (not supported in the browser yet),\n",
              "// where there are multiple asynchronous steps and the Python side is going\n",
              "// to poll for completion of each step.\n",
              "// This uses a Promise to block the python side on completion of each step,\n",
              "// then passes the result of the previous step as the input to the next step.\n",
              "function _uploadFilesContinue(outputId) {\n",
              "  const outputElement = document.getElementById(outputId);\n",
              "  const steps = outputElement.steps;\n",
              "\n",
              "  const next = steps.next(outputElement.lastPromiseValue);\n",
              "  return Promise.resolve(next.value.promise).then((value) => {\n",
              "    // Cache the last promise value to make it available to the next\n",
              "    // step of the generator.\n",
              "    outputElement.lastPromiseValue = value;\n",
              "    return next.value.response;\n",
              "  });\n",
              "}\n",
              "\n",
              "/**\n",
              " * Generator function which is called between each async step of the upload\n",
              " * process.\n",
              " * @param {string} inputId Element ID of the input file picker element.\n",
              " * @param {string} outputId Element ID of the output display.\n",
              " * @return {!Iterable<!Object>} Iterable of next steps.\n",
              " */\n",
              "function* uploadFilesStep(inputId, outputId) {\n",
              "  const inputElement = document.getElementById(inputId);\n",
              "  inputElement.disabled = false;\n",
              "\n",
              "  const outputElement = document.getElementById(outputId);\n",
              "  outputElement.innerHTML = '';\n",
              "\n",
              "  const pickedPromise = new Promise((resolve) => {\n",
              "    inputElement.addEventListener('change', (e) => {\n",
              "      resolve(e.target.files);\n",
              "    });\n",
              "  });\n",
              "\n",
              "  const cancel = document.createElement('button');\n",
              "  inputElement.parentElement.appendChild(cancel);\n",
              "  cancel.textContent = 'Cancel upload';\n",
              "  const cancelPromise = new Promise((resolve) => {\n",
              "    cancel.onclick = () => {\n",
              "      resolve(null);\n",
              "    };\n",
              "  });\n",
              "\n",
              "  // Wait for the user to pick the files.\n",
              "  const files = yield {\n",
              "    promise: Promise.race([pickedPromise, cancelPromise]),\n",
              "    response: {\n",
              "      action: 'starting',\n",
              "    }\n",
              "  };\n",
              "\n",
              "  cancel.remove();\n",
              "\n",
              "  // Disable the input element since further picks are not allowed.\n",
              "  inputElement.disabled = true;\n",
              "\n",
              "  if (!files) {\n",
              "    return {\n",
              "      response: {\n",
              "        action: 'complete',\n",
              "      }\n",
              "    };\n",
              "  }\n",
              "\n",
              "  for (const file of files) {\n",
              "    const li = document.createElement('li');\n",
              "    li.append(span(file.name, {fontWeight: 'bold'}));\n",
              "    li.append(span(\n",
              "        `(${file.type || 'n/a'}) - ${file.size} bytes, ` +\n",
              "        `last modified: ${\n",
              "            file.lastModifiedDate ? file.lastModifiedDate.toLocaleDateString() :\n",
              "                                    'n/a'} - `));\n",
              "    const percent = span('0% done');\n",
              "    li.appendChild(percent);\n",
              "\n",
              "    outputElement.appendChild(li);\n",
              "\n",
              "    const fileDataPromise = new Promise((resolve) => {\n",
              "      const reader = new FileReader();\n",
              "      reader.onload = (e) => {\n",
              "        resolve(e.target.result);\n",
              "      };\n",
              "      reader.readAsArrayBuffer(file);\n",
              "    });\n",
              "    // Wait for the data to be ready.\n",
              "    let fileData = yield {\n",
              "      promise: fileDataPromise,\n",
              "      response: {\n",
              "        action: 'continue',\n",
              "      }\n",
              "    };\n",
              "\n",
              "    // Use a chunked sending to avoid message size limits. See b/62115660.\n",
              "    let position = 0;\n",
              "    do {\n",
              "      const length = Math.min(fileData.byteLength - position, MAX_PAYLOAD_SIZE);\n",
              "      const chunk = new Uint8Array(fileData, position, length);\n",
              "      position += length;\n",
              "\n",
              "      const base64 = btoa(String.fromCharCode.apply(null, chunk));\n",
              "      yield {\n",
              "        response: {\n",
              "          action: 'append',\n",
              "          file: file.name,\n",
              "          data: base64,\n",
              "        },\n",
              "      };\n",
              "\n",
              "      let percentDone = fileData.byteLength === 0 ?\n",
              "          100 :\n",
              "          Math.round((position / fileData.byteLength) * 100);\n",
              "      percent.textContent = `${percentDone}% done`;\n",
              "\n",
              "    } while (position < fileData.byteLength);\n",
              "  }\n",
              "\n",
              "  // All done.\n",
              "  yield {\n",
              "    response: {\n",
              "      action: 'complete',\n",
              "    }\n",
              "  };\n",
              "}\n",
              "\n",
              "scope.google = scope.google || {};\n",
              "scope.google.colab = scope.google.colab || {};\n",
              "scope.google.colab._files = {\n",
              "  _uploadFiles,\n",
              "  _uploadFilesContinue,\n",
              "};\n",
              "})(self);\n",
              "</script> "
            ]
          },
          "metadata": {}
        },
        {
          "output_type": "stream",
          "name": "stdout",
          "text": [
            "Saving Modules.zip to Modules.zip\n"
          ]
        }
      ]
    },
    {
      "cell_type": "code",
      "source": [
        "# unzip the uploaded zipfile\n",
        "!unzip '/content/Modules.zip' -d '/content/'"
      ],
      "metadata": {
        "id": "9u-TEYspMHQm",
        "colab": {
          "base_uri": "https://localhost:8080/"
        },
        "collapsed": true,
        "outputId": "fad8034f-471a-42a3-d720-b5f5cb47f4fa"
      },
      "execution_count": 5,
      "outputs": [
        {
          "output_type": "stream",
          "name": "stdout",
          "text": [
            "Archive:  /content/Modules.zip\n",
            "   creating: /content/Modules/\n",
            "   creating: /content/Modules/GIS_functions/\n",
            "  inflating: /content/Modules/GIS_functions/GIS_function.py  \n",
            " extracting: /content/Modules/GIS_functions/__init__.py  \n",
            "   creating: /content/Modules/GIS_functions/__pycache__/\n",
            "  inflating: /content/Modules/GIS_functions/__pycache__/GIS_function.cpython-37.pyc  \n",
            "  inflating: /content/Modules/GIS_functions/__pycache__/__init__.cpython-37.pyc  \n",
            "   creating: /content/Modules/WaPOR/\n",
            "  inflating: /content/Modules/WaPOR/GIS_functions.py  \n",
            "  inflating: /content/Modules/WaPOR/WaitbarConsole.py  \n",
            "  inflating: /content/Modules/WaPOR/WaporAPI.py  \n",
            "  inflating: /content/Modules/WaPOR/__init__.py  \n",
            "  inflating: /content/Modules/WaPOR/__init__.pyc  \n",
            "   creating: /content/Modules/WaPOR/__pycache__/\n",
            "  inflating: /content/Modules/WaPOR/__pycache__/AET_dekadal.cpython-36.pyc  \n",
            "  inflating: /content/Modules/WaPOR/__pycache__/AET_dekadal.cpython-37.pyc  \n",
            "  inflating: /content/Modules/WaPOR/__pycache__/AET_monthly.cpython-37.pyc  \n",
            "  inflating: /content/Modules/WaPOR/__pycache__/AET_yearly.cpython-37.pyc  \n",
            "  inflating: /content/Modules/WaPOR/__pycache__/GIS_functions.cpython-36.pyc  \n",
            "  inflating: /content/Modules/WaPOR/__pycache__/GIS_functions.cpython-37.pyc  \n",
            "  inflating: /content/Modules/WaPOR/__pycache__/I_yearly.cpython-37.pyc  \n",
            "  inflating: /content/Modules/WaPOR/__pycache__/LCC_yearly.cpython-36.pyc  \n",
            "  inflating: /content/Modules/WaPOR/__pycache__/LCC_yearly.cpython-37.pyc  \n",
            "  inflating: /content/Modules/WaPOR/__pycache__/NPP_dekadal.cpython-36.pyc  \n",
            "  inflating: /content/Modules/WaPOR/__pycache__/NPP_dekadal.cpython-37.pyc  \n",
            "  inflating: /content/Modules/WaPOR/__pycache__/PCP_daily.cpython-37.pyc  \n",
            "  inflating: /content/Modules/WaPOR/__pycache__/PCP_monthly.cpython-37.pyc  \n",
            "  inflating: /content/Modules/WaPOR/__pycache__/PCP_yearly.cpython-37.pyc  \n",
            "  inflating: /content/Modules/WaPOR/__pycache__/RET_monthly.cpython-37.pyc  \n",
            "  inflating: /content/Modules/WaPOR/__pycache__/RET_yearly.cpython-37.pyc  \n",
            "  inflating: /content/Modules/WaPOR/__pycache__/WaitbarConsole.cpython-37.pyc  \n",
            "  inflating: /content/Modules/WaPOR/__pycache__/WaporAPI.cpython-36.pyc  \n",
            "  inflating: /content/Modules/WaPOR/__pycache__/WaporAPI.cpython-37.pyc  \n",
            "  inflating: /content/Modules/WaPOR/__pycache__/__init__.cpython-36.pyc  \n",
            "  inflating: /content/Modules/WaPOR/__pycache__/__init__.cpython-37.pyc  \n",
            "  inflating: /content/Modules/WaPOR/catalog_2.pickle  \n",
            "  inflating: /content/Modules/WaPOR/download_daily.py  \n",
            "  inflating: /content/Modules/WaPOR/download_dekadal.py  \n",
            "  inflating: /content/Modules/WaPOR/download_monthly.py  \n",
            "  inflating: /content/Modules/WaPOR/download_seasonal.py  \n",
            "  inflating: /content/Modules/WaPOR/download_yearly.py  \n"
          ]
        }
      ]
    },
    {
      "cell_type": "code",
      "source": [
        "os.chdir(os.path.join(os.path.split(os.getcwd())[0], \"/content/Modules\"))\n",
        "from GIS_functions import GIS_function as gis"
      ],
      "metadata": {
        "id": "f9a7Xf1NP5Qu"
      },
      "execution_count": 13,
      "outputs": []
    },
    {
      "cell_type": "markdown",
      "source": [
        "Changing directory back to main directory"
      ],
      "metadata": {
        "id": "nwbNfvaVk8lc"
      }
    },
    {
      "cell_type": "code",
      "source": [
        "os.chdir(os.path.join(os.path.split(os.getcwd())[0], \"/content\"))"
      ],
      "metadata": {
        "id": "z35YwvRjkj8q"
      },
      "execution_count": 14,
      "outputs": []
    },
    {
      "cell_type": "markdown",
      "metadata": {
        "id": "2wOSM2S2IxVp"
      },
      "source": [
        "# Step b - Resample raster data\n",
        "\n",
        "After downloading RET and PCP using [Downloading_WaPORv3_data script](https://github.com/wateraccounting/WaPORMOOC/tree/main/1_WaPOR_download_colab), the data needs to be resampled to the same resolution as the NPP and AETI data. You need an example file (TIFF file) with this resolution at hand (if you call the file 'sample_res.tif' the script will run without changing file names).\n",
        "\n",
        "*Download using bounding box (bb) not shapefile to avoid empty data.*"
      ]
    },
    {
      "cell_type": "markdown",
      "metadata": {
        "id": "hIKvqDyaIxVp"
      },
      "source": [
        "## Import the input data and sample of resolution"
      ]
    },
    {
      "cell_type": "markdown",
      "source": [
        "Import downloaded RET and PCP files"
      ],
      "metadata": {
        "id": "9s4f6cHuT2AH"
      }
    },
    {
      "cell_type": "code",
      "source": [
        "#To upload data.zip.\n",
        "from google.colab import files\n",
        "uploaded = files.upload()"
      ],
      "metadata": {
        "colab": {
          "base_uri": "https://localhost:8080/",
          "height": 73
        },
        "id": "wxckCHbYTz-o",
        "outputId": "5b756c98-0548-49fc-9da9-c318be49babf"
      },
      "execution_count": 8,
      "outputs": [
        {
          "output_type": "display_data",
          "data": {
            "text/plain": [
              "<IPython.core.display.HTML object>"
            ],
            "text/html": [
              "\n",
              "     <input type=\"file\" id=\"files-6ab2678e-5ad1-477d-aaf5-c947f36d82fd\" name=\"files[]\" multiple disabled\n",
              "        style=\"border:none\" />\n",
              "     <output id=\"result-6ab2678e-5ad1-477d-aaf5-c947f36d82fd\">\n",
              "      Upload widget is only available when the cell has been executed in the\n",
              "      current browser session. Please rerun this cell to enable.\n",
              "      </output>\n",
              "      <script>// Copyright 2017 Google LLC\n",
              "//\n",
              "// Licensed under the Apache License, Version 2.0 (the \"License\");\n",
              "// you may not use this file except in compliance with the License.\n",
              "// You may obtain a copy of the License at\n",
              "//\n",
              "//      http://www.apache.org/licenses/LICENSE-2.0\n",
              "//\n",
              "// Unless required by applicable law or agreed to in writing, software\n",
              "// distributed under the License is distributed on an \"AS IS\" BASIS,\n",
              "// WITHOUT WARRANTIES OR CONDITIONS OF ANY KIND, either express or implied.\n",
              "// See the License for the specific language governing permissions and\n",
              "// limitations under the License.\n",
              "\n",
              "/**\n",
              " * @fileoverview Helpers for google.colab Python module.\n",
              " */\n",
              "(function(scope) {\n",
              "function span(text, styleAttributes = {}) {\n",
              "  const element = document.createElement('span');\n",
              "  element.textContent = text;\n",
              "  for (const key of Object.keys(styleAttributes)) {\n",
              "    element.style[key] = styleAttributes[key];\n",
              "  }\n",
              "  return element;\n",
              "}\n",
              "\n",
              "// Max number of bytes which will be uploaded at a time.\n",
              "const MAX_PAYLOAD_SIZE = 100 * 1024;\n",
              "\n",
              "function _uploadFiles(inputId, outputId) {\n",
              "  const steps = uploadFilesStep(inputId, outputId);\n",
              "  const outputElement = document.getElementById(outputId);\n",
              "  // Cache steps on the outputElement to make it available for the next call\n",
              "  // to uploadFilesContinue from Python.\n",
              "  outputElement.steps = steps;\n",
              "\n",
              "  return _uploadFilesContinue(outputId);\n",
              "}\n",
              "\n",
              "// This is roughly an async generator (not supported in the browser yet),\n",
              "// where there are multiple asynchronous steps and the Python side is going\n",
              "// to poll for completion of each step.\n",
              "// This uses a Promise to block the python side on completion of each step,\n",
              "// then passes the result of the previous step as the input to the next step.\n",
              "function _uploadFilesContinue(outputId) {\n",
              "  const outputElement = document.getElementById(outputId);\n",
              "  const steps = outputElement.steps;\n",
              "\n",
              "  const next = steps.next(outputElement.lastPromiseValue);\n",
              "  return Promise.resolve(next.value.promise).then((value) => {\n",
              "    // Cache the last promise value to make it available to the next\n",
              "    // step of the generator.\n",
              "    outputElement.lastPromiseValue = value;\n",
              "    return next.value.response;\n",
              "  });\n",
              "}\n",
              "\n",
              "/**\n",
              " * Generator function which is called between each async step of the upload\n",
              " * process.\n",
              " * @param {string} inputId Element ID of the input file picker element.\n",
              " * @param {string} outputId Element ID of the output display.\n",
              " * @return {!Iterable<!Object>} Iterable of next steps.\n",
              " */\n",
              "function* uploadFilesStep(inputId, outputId) {\n",
              "  const inputElement = document.getElementById(inputId);\n",
              "  inputElement.disabled = false;\n",
              "\n",
              "  const outputElement = document.getElementById(outputId);\n",
              "  outputElement.innerHTML = '';\n",
              "\n",
              "  const pickedPromise = new Promise((resolve) => {\n",
              "    inputElement.addEventListener('change', (e) => {\n",
              "      resolve(e.target.files);\n",
              "    });\n",
              "  });\n",
              "\n",
              "  const cancel = document.createElement('button');\n",
              "  inputElement.parentElement.appendChild(cancel);\n",
              "  cancel.textContent = 'Cancel upload';\n",
              "  const cancelPromise = new Promise((resolve) => {\n",
              "    cancel.onclick = () => {\n",
              "      resolve(null);\n",
              "    };\n",
              "  });\n",
              "\n",
              "  // Wait for the user to pick the files.\n",
              "  const files = yield {\n",
              "    promise: Promise.race([pickedPromise, cancelPromise]),\n",
              "    response: {\n",
              "      action: 'starting',\n",
              "    }\n",
              "  };\n",
              "\n",
              "  cancel.remove();\n",
              "\n",
              "  // Disable the input element since further picks are not allowed.\n",
              "  inputElement.disabled = true;\n",
              "\n",
              "  if (!files) {\n",
              "    return {\n",
              "      response: {\n",
              "        action: 'complete',\n",
              "      }\n",
              "    };\n",
              "  }\n",
              "\n",
              "  for (const file of files) {\n",
              "    const li = document.createElement('li');\n",
              "    li.append(span(file.name, {fontWeight: 'bold'}));\n",
              "    li.append(span(\n",
              "        `(${file.type || 'n/a'}) - ${file.size} bytes, ` +\n",
              "        `last modified: ${\n",
              "            file.lastModifiedDate ? file.lastModifiedDate.toLocaleDateString() :\n",
              "                                    'n/a'} - `));\n",
              "    const percent = span('0% done');\n",
              "    li.appendChild(percent);\n",
              "\n",
              "    outputElement.appendChild(li);\n",
              "\n",
              "    const fileDataPromise = new Promise((resolve) => {\n",
              "      const reader = new FileReader();\n",
              "      reader.onload = (e) => {\n",
              "        resolve(e.target.result);\n",
              "      };\n",
              "      reader.readAsArrayBuffer(file);\n",
              "    });\n",
              "    // Wait for the data to be ready.\n",
              "    let fileData = yield {\n",
              "      promise: fileDataPromise,\n",
              "      response: {\n",
              "        action: 'continue',\n",
              "      }\n",
              "    };\n",
              "\n",
              "    // Use a chunked sending to avoid message size limits. See b/62115660.\n",
              "    let position = 0;\n",
              "    do {\n",
              "      const length = Math.min(fileData.byteLength - position, MAX_PAYLOAD_SIZE);\n",
              "      const chunk = new Uint8Array(fileData, position, length);\n",
              "      position += length;\n",
              "\n",
              "      const base64 = btoa(String.fromCharCode.apply(null, chunk));\n",
              "      yield {\n",
              "        response: {\n",
              "          action: 'append',\n",
              "          file: file.name,\n",
              "          data: base64,\n",
              "        },\n",
              "      };\n",
              "\n",
              "      let percentDone = fileData.byteLength === 0 ?\n",
              "          100 :\n",
              "          Math.round((position / fileData.byteLength) * 100);\n",
              "      percent.textContent = `${percentDone}% done`;\n",
              "\n",
              "    } while (position < fileData.byteLength);\n",
              "  }\n",
              "\n",
              "  // All done.\n",
              "  yield {\n",
              "    response: {\n",
              "      action: 'complete',\n",
              "    }\n",
              "  };\n",
              "}\n",
              "\n",
              "scope.google = scope.google || {};\n",
              "scope.google.colab = scope.google.colab || {};\n",
              "scope.google.colab._files = {\n",
              "  _uploadFiles,\n",
              "  _uploadFilesContinue,\n",
              "};\n",
              "})(self);\n",
              "</script> "
            ]
          },
          "metadata": {}
        },
        {
          "output_type": "stream",
          "name": "stdout",
          "text": [
            "Saving data.zip to data.zip\n"
          ]
        }
      ]
    },
    {
      "cell_type": "code",
      "source": [
        "\n",
        "# unzip the uploaded zipfile\n",
        "!unzip '/content/data.zip' -d '/content/'"
      ],
      "metadata": {
        "id": "Gw8acoPSULds",
        "colab": {
          "base_uri": "https://localhost:8080/"
        },
        "collapsed": true,
        "outputId": "009d9bbc-b036-4431-bb6b-e637357a201b"
      },
      "execution_count": 9,
      "outputs": [
        {
          "output_type": "stream",
          "name": "stdout",
          "text": [
            "Archive:  /content/data.zip\n",
            "   creating: /content/content/output/\n",
            "   creating: /content/content/output/L3-NPP-D/\n",
            "  inflating: /content/content/output/L3-NPP-D/bb.GEZ_L3-NPP-D_NONE_dekad_converted_2023-02-11.tif  \n",
            "  inflating: /content/content/output/L3-NPP-D/bb.GEZ_L3-NPP-D_NONE_dekad_converted_2022-11-21.tif  \n",
            "  inflating: /content/content/output/L3-NPP-D/bb.GEZ_L3-NPP-D_NONE_dekad_converted_2023-01-21.tif  \n",
            "  inflating: /content/content/output/L3-NPP-D/bb.GEZ_L3-NPP-D_NONE_dekad_converted_2022-12-01.tif  \n",
            "  inflating: /content/content/output/L3-NPP-D/bb.GEZ_L3-NPP-D_NONE_dekad_converted_2022-11-11.tif  \n",
            "  inflating: /content/content/output/L3-NPP-D/bb.GEZ_L3-NPP-D_NONE_dekad_converted_2022-11-01.tif  \n",
            "  inflating: /content/content/output/L3-NPP-D/bb.GEZ_L3-NPP-D_NONE_dekad_converted_2023-04-21.tif  \n",
            "  inflating: /content/content/output/L3-NPP-D/bb.GEZ_L3-NPP-D_NONE_dekad_converted_2022-10-01.tif  \n",
            "  inflating: /content/content/output/L3-NPP-D/bb.GEZ_L3-NPP-D_NONE_dekad_converted_2023-03-01.tif  \n",
            "  inflating: /content/content/output/L3-NPP-D/bb.GEZ_L3-NPP-D_NONE_dekad_converted_2022-12-21.tif  \n",
            "  inflating: /content/content/output/L3-NPP-D/bb.GEZ_L3-NPP-D_NONE_dekad_converted_2023-03-21.tif  \n",
            "  inflating: /content/content/output/L3-NPP-D/bb.GEZ_L3-NPP-D_NONE_dekad_converted_2022-12-11.tif  \n",
            "  inflating: /content/content/output/L3-NPP-D/bb.GEZ_L3-NPP-D_NONE_dekad_converted_2023-04-11.tif  \n",
            "  inflating: /content/content/output/L3-NPP-D/bb.GEZ_L3-NPP-D_NONE_dekad_converted_2022-10-21.tif  \n",
            "  inflating: /content/content/output/L3-NPP-D/bb.GEZ_L3-NPP-D_NONE_dekad_converted_2023-02-01.tif  \n",
            "  inflating: /content/content/output/L3-NPP-D/bb.GEZ_L3-NPP-D_NONE_dekad_converted_2023-04-01.tif  \n",
            "  inflating: /content/content/output/L3-NPP-D/bb.GEZ_L3-NPP-D_NONE_dekad_converted_2022-10-11.tif  \n",
            "  inflating: /content/content/output/L3-NPP-D/bb.GEZ_L3-NPP-D_NONE_dekad_converted_2023-01-01.tif  \n",
            "  inflating: /content/content/output/L3-NPP-D/bb.GEZ_L3-NPP-D_NONE_dekad_converted_2023-03-11.tif  \n",
            "  inflating: /content/content/output/L3-NPP-D/bb.GEZ_L3-NPP-D_NONE_dekad_converted_2023-01-11.tif  \n",
            "  inflating: /content/content/output/L3-NPP-D/bb.GEZ_L3-NPP-D_NONE_dekad_converted_2023-02-21.tif  \n",
            "   creating: /content/content/output/L3-AETI-D/\n",
            "  inflating: /content/content/output/L3-AETI-D/bb.GEZ_L3-AETI-D_NONE_dekad_converted_2023-02-11.tif  \n",
            "  inflating: /content/content/output/L3-AETI-D/bb.GEZ_L3-AETI-D_NONE_dekad_converted_2022-10-01.tif  \n",
            "  inflating: /content/content/output/L3-AETI-D/bb.GEZ_L3-AETI-D_NONE_dekad_converted_2023-04-11.tif  \n",
            "  inflating: /content/content/output/L3-AETI-D/bb.GEZ_L3-AETI-D_NONE_dekad_converted_2023-03-11.tif  \n",
            "  inflating: /content/content/output/L3-AETI-D/bb.GEZ_L3-AETI-D_NONE_dekad_converted_2022-10-21.tif  \n",
            "  inflating: /content/content/output/L3-AETI-D/bb.GEZ_L3-AETI-D_NONE_dekad_converted_2022-11-21.tif  \n",
            "  inflating: /content/content/output/L3-AETI-D/bb.GEZ_L3-AETI-D_NONE_dekad_converted_2022-12-01.tif  \n",
            "  inflating: /content/content/output/L3-AETI-D/bb.GEZ_L3-AETI-D_NONE_dekad_converted_2023-02-21.tif  \n",
            "  inflating: /content/content/output/L3-AETI-D/bb.GEZ_L3-AETI-D_NONE_dekad_converted_2022-10-11.tif  \n",
            "  inflating: /content/content/output/L3-AETI-D/bb.GEZ_L3-AETI-D_NONE_dekad_converted_2022-11-01.tif  \n",
            "  inflating: /content/content/output/L3-AETI-D/bb.GEZ_L3-AETI-D_NONE_dekad_converted_2023-01-11.tif  \n",
            "  inflating: /content/content/output/L3-AETI-D/bb.GEZ_L3-AETI-D_NONE_dekad_converted_2023-01-21.tif  \n",
            "  inflating: /content/content/output/L3-AETI-D/bb.GEZ_L3-AETI-D_NONE_dekad_converted_2023-01-01.tif  \n",
            "  inflating: /content/content/output/L3-AETI-D/bb.GEZ_L3-AETI-D_NONE_dekad_converted_2022-11-11.tif  \n",
            "  inflating: /content/content/output/L3-AETI-D/bb.GEZ_L3-AETI-D_NONE_dekad_converted_2023-04-01.tif  \n",
            "  inflating: /content/content/output/L3-AETI-D/bb.GEZ_L3-AETI-D_NONE_dekad_converted_2023-03-21.tif  \n",
            "  inflating: /content/content/output/L3-AETI-D/bb.GEZ_L3-AETI-D_NONE_dekad_converted_2022-12-11.tif  \n",
            "  inflating: /content/content/output/L3-AETI-D/bb.GEZ_L3-AETI-D_NONE_dekad_converted_2022-12-21.tif  \n",
            "  inflating: /content/content/output/L3-AETI-D/bb.GEZ_L3-AETI-D_NONE_dekad_converted_2023-02-01.tif  \n",
            "  inflating: /content/content/output/L3-AETI-D/bb.GEZ_L3-AETI-D_NONE_dekad_converted_2023-03-01.tif  \n",
            "  inflating: /content/content/output/L3-AETI-D/bb.GEZ_L3-AETI-D_NONE_dekad_converted_2023-04-21.tif  \n",
            "   creating: /content/content/output/L3-T-D/\n",
            "  inflating: /content/content/output/L3-T-D/bb.GEZ_L3-T-D_NONE_dekad_converted_2023-02-21.tif  \n",
            "  inflating: /content/content/output/L3-T-D/bb.GEZ_L3-T-D_NONE_dekad_converted_2023-04-11.tif  \n",
            "  inflating: /content/content/output/L3-T-D/bb.GEZ_L3-T-D_NONE_dekad_converted_2023-01-01.tif  \n",
            "  inflating: /content/content/output/L3-T-D/bb.GEZ_L3-T-D_NONE_dekad_converted_2023-03-01.tif  \n",
            "  inflating: /content/content/output/L3-T-D/bb.GEZ_L3-T-D_NONE_dekad_converted_2023-03-21.tif  \n",
            "  inflating: /content/content/output/L3-T-D/bb.GEZ_L3-T-D_NONE_dekad_converted_2022-11-11.tif  \n",
            "  inflating: /content/content/output/L3-T-D/bb.GEZ_L3-T-D_NONE_dekad_converted_2023-01-21.tif  \n",
            "  inflating: /content/content/output/L3-T-D/bb.GEZ_L3-T-D_NONE_dekad_converted_2022-12-01.tif  \n",
            "  inflating: /content/content/output/L3-T-D/bb.GEZ_L3-T-D_NONE_dekad_converted_2022-10-01.tif  \n",
            "  inflating: /content/content/output/L3-T-D/bb.GEZ_L3-T-D_NONE_dekad_converted_2023-04-01.tif  \n",
            "  inflating: /content/content/output/L3-T-D/bb.GEZ_L3-T-D_NONE_dekad_converted_2023-01-11.tif  \n",
            "  inflating: /content/content/output/L3-T-D/bb.GEZ_L3-T-D_NONE_dekad_converted_2023-02-11.tif  \n",
            "  inflating: /content/content/output/L3-T-D/bb.GEZ_L3-T-D_NONE_dekad_converted_2022-12-21.tif  \n",
            "  inflating: /content/content/output/L3-T-D/bb.GEZ_L3-T-D_NONE_dekad_converted_2023-02-01.tif  \n",
            "  inflating: /content/content/output/L3-T-D/bb.GEZ_L3-T-D_NONE_dekad_converted_2023-03-11.tif  \n",
            "  inflating: /content/content/output/L3-T-D/bb.GEZ_L3-T-D_NONE_dekad_converted_2022-11-21.tif  \n",
            "  inflating: /content/content/output/L3-T-D/bb.GEZ_L3-T-D_NONE_dekad_converted_2023-04-21.tif  \n",
            "  inflating: /content/content/output/L3-T-D/bb.GEZ_L3-T-D_NONE_dekad_converted_2022-12-11.tif  \n",
            "  inflating: /content/content/output/L3-T-D/bb.GEZ_L3-T-D_NONE_dekad_converted_2022-10-11.tif  \n",
            "  inflating: /content/content/output/L3-T-D/bb.GEZ_L3-T-D_NONE_dekad_converted_2022-11-01.tif  \n",
            "  inflating: /content/content/output/L3-T-D/bb.GEZ_L3-T-D_NONE_dekad_converted_2022-10-21.tif  \n",
            "   creating: /content/content/output/L1-PCP-D/\n",
            "  inflating: /content/content/output/L1-PCP-D/bb_L1-PCP-D_NONE_dekad_converted_2023-04-01.tif  \n",
            "  inflating: /content/content/output/L1-PCP-D/bb_L1-PCP-D_NONE_dekad_converted_2023-02-01.tif  \n",
            "  inflating: /content/content/output/L1-PCP-D/bb_L1-PCP-D_NONE_dekad_converted_2023-03-01.tif  \n",
            "  inflating: /content/content/output/L1-PCP-D/bb_L1-PCP-D_NONE_dekad_converted_2022-11-01.tif  \n",
            "  inflating: /content/content/output/L1-PCP-D/bb_L1-PCP-D_NONE_dekad_converted_2023-03-21.tif  \n",
            "  inflating: /content/content/output/L1-PCP-D/bb_L1-PCP-D_NONE_dekad_converted_2023-01-01.tif  \n",
            "  inflating: /content/content/output/L1-PCP-D/bb_L1-PCP-D_NONE_dekad_converted_2023-04-21.tif  \n",
            "  inflating: /content/content/output/L1-PCP-D/bb_L1-PCP-D_NONE_dekad_converted_2023-01-11.tif  \n",
            "  inflating: /content/content/output/L1-PCP-D/bb_L1-PCP-D_NONE_dekad_converted_2022-11-21.tif  \n",
            "  inflating: /content/content/output/L1-PCP-D/bb_L1-PCP-D_NONE_dekad_converted_2022-12-21.tif  \n",
            "  inflating: /content/content/output/L1-PCP-D/bb_L1-PCP-D_NONE_dekad_converted_2022-12-11.tif  \n",
            "  inflating: /content/content/output/L1-PCP-D/bb_L1-PCP-D_NONE_dekad_converted_2023-02-21.tif  \n",
            "  inflating: /content/content/output/L1-PCP-D/bb_L1-PCP-D_NONE_dekad_converted_2022-11-11.tif  \n",
            "  inflating: /content/content/output/L1-PCP-D/bb_L1-PCP-D_NONE_dekad_converted_2023-04-11.tif  \n",
            "  inflating: /content/content/output/L1-PCP-D/bb_L1-PCP-D_NONE_dekad_converted_2023-01-21.tif  \n",
            "  inflating: /content/content/output/L1-PCP-D/bb_L1-PCP-D_NONE_dekad_converted_2022-10-21.tif  \n",
            "  inflating: /content/content/output/L1-PCP-D/bb_L1-PCP-D_NONE_dekad_converted_2022-10-11.tif  \n",
            "  inflating: /content/content/output/L1-PCP-D/bb_L1-PCP-D_NONE_dekad_converted_2023-03-11.tif  \n",
            "  inflating: /content/content/output/L1-PCP-D/bb_L1-PCP-D_NONE_dekad_converted_2022-12-01.tif  \n",
            "  inflating: /content/content/output/L1-PCP-D/bb_L1-PCP-D_NONE_dekad_converted_2023-02-11.tif  \n",
            "  inflating: /content/content/output/L1-PCP-D/bb_L1-PCP-D_NONE_dekad_converted_2022-10-01.tif  \n",
            "   creating: /content/content/output/L1-RET-D/\n",
            "  inflating: /content/content/output/L1-RET-D/bb_L1-RET-D_NONE_dekad_converted_2023-01-21.tif  \n",
            "  inflating: /content/content/output/L1-RET-D/bb_L1-RET-D_NONE_dekad_converted_2023-02-21.tif  \n",
            "  inflating: /content/content/output/L1-RET-D/bb_L1-RET-D_NONE_dekad_converted_2022-12-01.tif  \n",
            "  inflating: /content/content/output/L1-RET-D/bb_L1-RET-D_NONE_dekad_converted_2022-12-21.tif  \n",
            "  inflating: /content/content/output/L1-RET-D/bb_L1-RET-D_NONE_dekad_converted_2022-10-21.tif  \n",
            "  inflating: /content/content/output/L1-RET-D/bb_L1-RET-D_NONE_dekad_converted_2023-04-01.tif  \n",
            "  inflating: /content/content/output/L1-RET-D/bb_L1-RET-D_NONE_dekad_converted_2023-03-21.tif  \n",
            "  inflating: /content/content/output/L1-RET-D/bb_L1-RET-D_NONE_dekad_converted_2022-10-11.tif  \n",
            "  inflating: /content/content/output/L1-RET-D/bb_L1-RET-D_NONE_dekad_converted_2022-10-01.tif  \n",
            "  inflating: /content/content/output/L1-RET-D/bb_L1-RET-D_NONE_dekad_converted_2023-04-21.tif  \n",
            "  inflating: /content/content/output/L1-RET-D/bb_L1-RET-D_NONE_dekad_converted_2023-03-11.tif  \n",
            "  inflating: /content/content/output/L1-RET-D/bb_L1-RET-D_NONE_dekad_converted_2023-03-01.tif  \n",
            "  inflating: /content/content/output/L1-RET-D/bb_L1-RET-D_NONE_dekad_converted_2023-01-01.tif  \n",
            "  inflating: /content/content/output/L1-RET-D/bb_L1-RET-D_NONE_dekad_converted_2022-11-21.tif  \n",
            "  inflating: /content/content/output/L1-RET-D/bb_L1-RET-D_NONE_dekad_converted_2023-02-01.tif  \n",
            "  inflating: /content/content/output/L1-RET-D/bb_L1-RET-D_NONE_dekad_converted_2022-11-11.tif  \n",
            "  inflating: /content/content/output/L1-RET-D/bb_L1-RET-D_NONE_dekad_converted_2023-02-11.tif  \n",
            "  inflating: /content/content/output/L1-RET-D/bb_L1-RET-D_NONE_dekad_converted_2022-11-01.tif  \n",
            "  inflating: /content/content/output/L1-RET-D/bb_L1-RET-D_NONE_dekad_converted_2023-01-11.tif  \n",
            "  inflating: /content/content/output/L1-RET-D/bb_L1-RET-D_NONE_dekad_converted_2023-04-11.tif  \n",
            "  inflating: /content/content/output/L1-RET-D/bb_L1-RET-D_NONE_dekad_converted_2022-12-11.tif  \n"
          ]
        }
      ]
    },
    {
      "cell_type": "markdown",
      "source": [
        "Import the example file with the required resolution"
      ],
      "metadata": {
        "id": "WhmVdi1ZUOPI"
      }
    },
    {
      "cell_type": "code",
      "source": [
        "#To upload sample resolution file.\n",
        "from google.colab import files\n",
        "uploaded = files.upload()"
      ],
      "metadata": {
        "colab": {
          "base_uri": "https://localhost:8080/",
          "height": 73
        },
        "id": "dMoO2spOUXY-",
        "outputId": "28bc3016-0009-4fb8-ea37-62be44328dae"
      },
      "execution_count": 10,
      "outputs": [
        {
          "output_type": "display_data",
          "data": {
            "text/plain": [
              "<IPython.core.display.HTML object>"
            ],
            "text/html": [
              "\n",
              "     <input type=\"file\" id=\"files-07d5cc3e-cdfa-4ca7-9d6c-4ace7340a27f\" name=\"files[]\" multiple disabled\n",
              "        style=\"border:none\" />\n",
              "     <output id=\"result-07d5cc3e-cdfa-4ca7-9d6c-4ace7340a27f\">\n",
              "      Upload widget is only available when the cell has been executed in the\n",
              "      current browser session. Please rerun this cell to enable.\n",
              "      </output>\n",
              "      <script>// Copyright 2017 Google LLC\n",
              "//\n",
              "// Licensed under the Apache License, Version 2.0 (the \"License\");\n",
              "// you may not use this file except in compliance with the License.\n",
              "// You may obtain a copy of the License at\n",
              "//\n",
              "//      http://www.apache.org/licenses/LICENSE-2.0\n",
              "//\n",
              "// Unless required by applicable law or agreed to in writing, software\n",
              "// distributed under the License is distributed on an \"AS IS\" BASIS,\n",
              "// WITHOUT WARRANTIES OR CONDITIONS OF ANY KIND, either express or implied.\n",
              "// See the License for the specific language governing permissions and\n",
              "// limitations under the License.\n",
              "\n",
              "/**\n",
              " * @fileoverview Helpers for google.colab Python module.\n",
              " */\n",
              "(function(scope) {\n",
              "function span(text, styleAttributes = {}) {\n",
              "  const element = document.createElement('span');\n",
              "  element.textContent = text;\n",
              "  for (const key of Object.keys(styleAttributes)) {\n",
              "    element.style[key] = styleAttributes[key];\n",
              "  }\n",
              "  return element;\n",
              "}\n",
              "\n",
              "// Max number of bytes which will be uploaded at a time.\n",
              "const MAX_PAYLOAD_SIZE = 100 * 1024;\n",
              "\n",
              "function _uploadFiles(inputId, outputId) {\n",
              "  const steps = uploadFilesStep(inputId, outputId);\n",
              "  const outputElement = document.getElementById(outputId);\n",
              "  // Cache steps on the outputElement to make it available for the next call\n",
              "  // to uploadFilesContinue from Python.\n",
              "  outputElement.steps = steps;\n",
              "\n",
              "  return _uploadFilesContinue(outputId);\n",
              "}\n",
              "\n",
              "// This is roughly an async generator (not supported in the browser yet),\n",
              "// where there are multiple asynchronous steps and the Python side is going\n",
              "// to poll for completion of each step.\n",
              "// This uses a Promise to block the python side on completion of each step,\n",
              "// then passes the result of the previous step as the input to the next step.\n",
              "function _uploadFilesContinue(outputId) {\n",
              "  const outputElement = document.getElementById(outputId);\n",
              "  const steps = outputElement.steps;\n",
              "\n",
              "  const next = steps.next(outputElement.lastPromiseValue);\n",
              "  return Promise.resolve(next.value.promise).then((value) => {\n",
              "    // Cache the last promise value to make it available to the next\n",
              "    // step of the generator.\n",
              "    outputElement.lastPromiseValue = value;\n",
              "    return next.value.response;\n",
              "  });\n",
              "}\n",
              "\n",
              "/**\n",
              " * Generator function which is called between each async step of the upload\n",
              " * process.\n",
              " * @param {string} inputId Element ID of the input file picker element.\n",
              " * @param {string} outputId Element ID of the output display.\n",
              " * @return {!Iterable<!Object>} Iterable of next steps.\n",
              " */\n",
              "function* uploadFilesStep(inputId, outputId) {\n",
              "  const inputElement = document.getElementById(inputId);\n",
              "  inputElement.disabled = false;\n",
              "\n",
              "  const outputElement = document.getElementById(outputId);\n",
              "  outputElement.innerHTML = '';\n",
              "\n",
              "  const pickedPromise = new Promise((resolve) => {\n",
              "    inputElement.addEventListener('change', (e) => {\n",
              "      resolve(e.target.files);\n",
              "    });\n",
              "  });\n",
              "\n",
              "  const cancel = document.createElement('button');\n",
              "  inputElement.parentElement.appendChild(cancel);\n",
              "  cancel.textContent = 'Cancel upload';\n",
              "  const cancelPromise = new Promise((resolve) => {\n",
              "    cancel.onclick = () => {\n",
              "      resolve(null);\n",
              "    };\n",
              "  });\n",
              "\n",
              "  // Wait for the user to pick the files.\n",
              "  const files = yield {\n",
              "    promise: Promise.race([pickedPromise, cancelPromise]),\n",
              "    response: {\n",
              "      action: 'starting',\n",
              "    }\n",
              "  };\n",
              "\n",
              "  cancel.remove();\n",
              "\n",
              "  // Disable the input element since further picks are not allowed.\n",
              "  inputElement.disabled = true;\n",
              "\n",
              "  if (!files) {\n",
              "    return {\n",
              "      response: {\n",
              "        action: 'complete',\n",
              "      }\n",
              "    };\n",
              "  }\n",
              "\n",
              "  for (const file of files) {\n",
              "    const li = document.createElement('li');\n",
              "    li.append(span(file.name, {fontWeight: 'bold'}));\n",
              "    li.append(span(\n",
              "        `(${file.type || 'n/a'}) - ${file.size} bytes, ` +\n",
              "        `last modified: ${\n",
              "            file.lastModifiedDate ? file.lastModifiedDate.toLocaleDateString() :\n",
              "                                    'n/a'} - `));\n",
              "    const percent = span('0% done');\n",
              "    li.appendChild(percent);\n",
              "\n",
              "    outputElement.appendChild(li);\n",
              "\n",
              "    const fileDataPromise = new Promise((resolve) => {\n",
              "      const reader = new FileReader();\n",
              "      reader.onload = (e) => {\n",
              "        resolve(e.target.result);\n",
              "      };\n",
              "      reader.readAsArrayBuffer(file);\n",
              "    });\n",
              "    // Wait for the data to be ready.\n",
              "    let fileData = yield {\n",
              "      promise: fileDataPromise,\n",
              "      response: {\n",
              "        action: 'continue',\n",
              "      }\n",
              "    };\n",
              "\n",
              "    // Use a chunked sending to avoid message size limits. See b/62115660.\n",
              "    let position = 0;\n",
              "    do {\n",
              "      const length = Math.min(fileData.byteLength - position, MAX_PAYLOAD_SIZE);\n",
              "      const chunk = new Uint8Array(fileData, position, length);\n",
              "      position += length;\n",
              "\n",
              "      const base64 = btoa(String.fromCharCode.apply(null, chunk));\n",
              "      yield {\n",
              "        response: {\n",
              "          action: 'append',\n",
              "          file: file.name,\n",
              "          data: base64,\n",
              "        },\n",
              "      };\n",
              "\n",
              "      let percentDone = fileData.byteLength === 0 ?\n",
              "          100 :\n",
              "          Math.round((position / fileData.byteLength) * 100);\n",
              "      percent.textContent = `${percentDone}% done`;\n",
              "\n",
              "    } while (position < fileData.byteLength);\n",
              "  }\n",
              "\n",
              "  // All done.\n",
              "  yield {\n",
              "    response: {\n",
              "      action: 'complete',\n",
              "    }\n",
              "  };\n",
              "}\n",
              "\n",
              "scope.google = scope.google || {};\n",
              "scope.google.colab = scope.google.colab || {};\n",
              "scope.google.colab._files = {\n",
              "  _uploadFiles,\n",
              "  _uploadFilesContinue,\n",
              "};\n",
              "})(self);\n",
              "</script> "
            ]
          },
          "metadata": {}
        },
        {
          "output_type": "stream",
          "name": "stdout",
          "text": [
            "Saving sample_res.tif to sample_res.tif\n"
          ]
        }
      ]
    },
    {
      "cell_type": "markdown",
      "metadata": {
        "id": "eKOMWULzIxVp"
      },
      "source": [
        "## i) Resample Reference ET"
      ]
    },
    {
      "cell_type": "code",
      "execution_count": 40,
      "metadata": {
        "id": "Ns_yW5pyIxVq",
        "colab": {
          "base_uri": "https://localhost:8080/"
        },
        "collapsed": true,
        "outputId": "c6a64118-b94e-4d7c-eaf6-3003c0ee0216"
      },
      "outputs": [
        {
          "output_type": "execute_result",
          "data": {
            "text/plain": [
              "('/content/sample_res.tif',\n",
              " '/content/content/output/L1-RET-D',\n",
              " ['/content/content/output/L1-RET-D/bb_L1-RET-D_NONE_dekad_converted_2023-01-21.tif',\n",
              "  '/content/content/output/L1-RET-D/bb_L1-RET-D_NONE_dekad_converted_2023-02-21.tif',\n",
              "  '/content/content/output/L1-RET-D/bb_L1-RET-D_NONE_dekad_converted_2022-12-01.tif',\n",
              "  '/content/content/output/L1-RET-D/bb_L1-RET-D_NONE_dekad_converted_2022-12-21.tif',\n",
              "  '/content/content/output/L1-RET-D/bb_L1-RET-D_NONE_dekad_converted_2022-10-21.tif',\n",
              "  '/content/content/output/L1-RET-D/bb_L1-RET-D_NONE_dekad_converted_2023-04-01.tif',\n",
              "  '/content/content/output/L1-RET-D/bb_L1-RET-D_NONE_dekad_converted_2023-03-21.tif',\n",
              "  '/content/content/output/L1-RET-D/bb_L1-RET-D_NONE_dekad_converted_2022-10-11.tif',\n",
              "  '/content/content/output/L1-RET-D/bb_L1-RET-D_NONE_dekad_converted_2022-10-01.tif',\n",
              "  '/content/content/output/L1-RET-D/bb_L1-RET-D_NONE_dekad_converted_2023-04-21.tif',\n",
              "  '/content/content/output/L1-RET-D/bb_L1-RET-D_NONE_dekad_converted_2023-03-11.tif',\n",
              "  '/content/content/output/L1-RET-D/bb_L1-RET-D_NONE_dekad_converted_2023-03-01.tif',\n",
              "  '/content/content/output/L1-RET-D/bb_L1-RET-D_NONE_dekad_converted_2023-01-01.tif',\n",
              "  '/content/content/output/L1-RET-D/bb_L1-RET-D_NONE_dekad_converted_2022-11-21.tif',\n",
              "  '/content/content/output/L1-RET-D/bb_L1-RET-D_NONE_dekad_converted_2023-02-01.tif',\n",
              "  '/content/content/output/L1-RET-D/bb_L1-RET-D_NONE_dekad_converted_2022-11-11.tif',\n",
              "  '/content/content/output/L1-RET-D/bb_L1-RET-D_NONE_dekad_converted_2023-02-11.tif',\n",
              "  '/content/content/output/L1-RET-D/bb_L1-RET-D_NONE_dekad_converted_2022-11-01.tif',\n",
              "  '/content/content/output/L1-RET-D/bb_L1-RET-D_NONE_dekad_converted_2023-01-11.tif',\n",
              "  '/content/content/output/L1-RET-D/bb_L1-RET-D_NONE_dekad_converted_2023-04-11.tif',\n",
              "  '/content/content/output/L1-RET-D/bb_L1-RET-D_NONE_dekad_converted_2022-12-11.tif'])"
            ]
          },
          "metadata": {},
          "execution_count": 40
        }
      ],
      "source": [
        "\n",
        "source_file   = '/content/sample_res.tif'                        # Read gdal info of template raster file\n",
        "target_folder = '/content/content/output/L1-RET-D'               # folder of data to be resampled\n",
        "target_fhsRET    = glob.glob(target_folder + '/*.tif')\n",
        "\n",
        "source_file, target_folder, target_fhsRET"
      ]
    },
    {
      "cell_type": "markdown",
      "metadata": {
        "id": "4QYCm5sIIxVr"
      },
      "source": [
        "## The size and shape of the raster files"
      ]
    },
    {
      "cell_type": "code",
      "execution_count": 17,
      "metadata": {
        "id": "DjXQiD_ZIxVr",
        "outputId": "a9c11260-e179-4437-c31f-2919d038e07d",
        "colab": {
          "base_uri": "https://localhost:8080/"
        }
      },
      "outputs": [
        {
          "output_type": "stream",
          "name": "stdout",
          "text": [
            "The size & shape of the template raster      = 347133 & (461, 753)\n",
            "The size & shape of the data to be resampled = 1 & (1, 1)\n"
          ]
        }
      ],
      "source": [
        "## The size and shape of the raster files\n",
        "template   = gis.OpenAsArray(source_file, nan_values=True)\n",
        "original   = gis.OpenAsArray(target_fhs[0], nan_values=True)\n",
        "\n",
        "print ('The size & shape of the template raster      =', template.size,  '&', template.shape)\n",
        "print ('The size & shape of the data to be resampled =', original.size,  '&', original.shape)"
      ]
    },
    {
      "cell_type": "markdown",
      "metadata": {
        "id": "fSleYKkVIxVr"
      },
      "source": [
        "## Make or connect with the directory the output folder"
      ]
    },
    {
      "cell_type": "code",
      "execution_count": 18,
      "metadata": {
        "id": "QkF17IsFIxVs",
        "outputId": "5971dddb-270f-4110-8816-d4dff7d1cfa3",
        "colab": {
          "base_uri": "https://localhost:8080/",
          "height": 35
        }
      },
      "outputs": [
        {
          "output_type": "execute_result",
          "data": {
            "text/plain": [
              "'/content/content/resampled/L1-RET-D_resampled'"
            ],
            "application/vnd.google.colaboratory.intrinsic+json": {
              "type": "string"
            }
          },
          "metadata": {},
          "execution_count": 18
        }
      ],
      "source": [
        "output_folder = '/content/content/resampled/L1-RET-D_resampled'\n",
        "\n",
        "## Make one if the folder does not exit\n",
        "if not os.path.exists(output_folder):\n",
        "    os.makedirs(output_folder)\n",
        "\n",
        "output_folder"
      ]
    },
    {
      "cell_type": "markdown",
      "metadata": {
        "id": "dvtmHT4hIxVs"
      },
      "source": [
        "## Resample raster data"
      ]
    },
    {
      "cell_type": "code",
      "execution_count": 19,
      "metadata": {
        "id": "_U6uguTAIxVs"
      },
      "outputs": [],
      "source": [
        "Resample = gis.MatchProjResNDV (source_file, target_fhs, output_folder, resample = 'near', dtype = 'float32')"
      ]
    },
    {
      "cell_type": "code",
      "execution_count": 22,
      "metadata": {
        "id": "uS6y9KR5IxVt",
        "outputId": "30804cf3-75b0-441b-ff70-30d912a61778",
        "colab": {
          "base_uri": "https://localhost:8080/"
        }
      },
      "outputs": [
        {
          "output_type": "stream",
          "name": "stdout",
          "text": [
            "The size & shape of the resampled data = 347133 & (461, 753)\n"
          ]
        }
      ],
      "source": [
        "## Check the size and shape of the resampled raster files\n",
        "Resampled   = \"/content/content/resampled/L1-RET-D_resampled/bb_L1-RET-D_NONE_dekad_converted_2022-10-01.tif\"\n",
        "resampled   = gis.OpenAsArray(Resampled , nan_values=True)\n",
        "\n",
        "print ('The size & shape of the resampled data =', resampled.size,  '&', resampled.shape)"
      ]
    },
    {
      "cell_type": "markdown",
      "metadata": {
        "id": "XwEriIJ9IxVt"
      },
      "source": [
        "## ii) Resample Precipitation layers"
      ]
    },
    {
      "cell_type": "code",
      "execution_count": 35,
      "metadata": {
        "id": "PF7RBh2pIxVt",
        "colab": {
          "base_uri": "https://localhost:8080/"
        },
        "collapsed": true,
        "outputId": "542541ca-f97e-4a53-bfc7-e6ecf47b45c8"
      },
      "outputs": [
        {
          "output_type": "execute_result",
          "data": {
            "text/plain": [
              "('/content/sample_res.tif',\n",
              " '/content/content/output/L1-PCP-D',\n",
              " ['/content/content/output/L1-PCP-D/bb_L1-PCP-D_NONE_dekad_converted_2023-04-01.tif',\n",
              "  '/content/content/output/L1-PCP-D/bb_L1-PCP-D_NONE_dekad_converted_2023-02-01.tif',\n",
              "  '/content/content/output/L1-PCP-D/bb_L1-PCP-D_NONE_dekad_converted_2023-03-01.tif',\n",
              "  '/content/content/output/L1-PCP-D/bb_L1-PCP-D_NONE_dekad_converted_2022-11-01.tif',\n",
              "  '/content/content/output/L1-PCP-D/bb_L1-PCP-D_NONE_dekad_converted_2023-03-21.tif',\n",
              "  '/content/content/output/L1-PCP-D/bb_L1-PCP-D_NONE_dekad_converted_2023-01-01.tif',\n",
              "  '/content/content/output/L1-PCP-D/bb_L1-PCP-D_NONE_dekad_converted_2023-04-21.tif',\n",
              "  '/content/content/output/L1-PCP-D/bb_L1-PCP-D_NONE_dekad_converted_2023-01-11.tif',\n",
              "  '/content/content/output/L1-PCP-D/bb_L1-PCP-D_NONE_dekad_converted_2022-11-21.tif',\n",
              "  '/content/content/output/L1-PCP-D/bb_L1-PCP-D_NONE_dekad_converted_2022-12-21.tif',\n",
              "  '/content/content/output/L1-PCP-D/bb_L1-PCP-D_NONE_dekad_converted_2022-12-11.tif',\n",
              "  '/content/content/output/L1-PCP-D/bb_L1-PCP-D_NONE_dekad_converted_2023-02-21.tif',\n",
              "  '/content/content/output/L1-PCP-D/bb_L1-PCP-D_NONE_dekad_converted_2022-11-11.tif',\n",
              "  '/content/content/output/L1-PCP-D/bb_L1-PCP-D_NONE_dekad_converted_2023-04-11.tif',\n",
              "  '/content/content/output/L1-PCP-D/bb_L1-PCP-D_NONE_dekad_converted_2023-01-21.tif',\n",
              "  '/content/content/output/L1-PCP-D/bb_L1-PCP-D_NONE_dekad_converted_2022-10-21.tif',\n",
              "  '/content/content/output/L1-PCP-D/bb_L1-PCP-D_NONE_dekad_converted_2022-10-11.tif',\n",
              "  '/content/content/output/L1-PCP-D/bb_L1-PCP-D_NONE_dekad_converted_2023-03-11.tif',\n",
              "  '/content/content/output/L1-PCP-D/bb_L1-PCP-D_NONE_dekad_converted_2022-12-01.tif',\n",
              "  '/content/content/output/L1-PCP-D/bb_L1-PCP-D_NONE_dekad_converted_2023-02-11.tif',\n",
              "  '/content/content/output/L1-PCP-D/bb_L1-PCP-D_NONE_dekad_converted_2022-10-01.tif'])"
            ]
          },
          "metadata": {},
          "execution_count": 35
        }
      ],
      "source": [
        "source_file   = '/content/sample_res.tif'     # Read gdal info of template raster file\n",
        "target_folder = '/content/content/output/L1-PCP-D'                      # data to be resampled\n",
        "target_fhsPCP    = glob.glob(target_folder + '/*.tif')\n",
        "\n",
        "source_file, target_folder, target_fhsPCP"
      ]
    },
    {
      "cell_type": "markdown",
      "metadata": {
        "id": "CFrq2j4ZIxVu"
      },
      "source": [
        "## The size and shape of the raster files"
      ]
    },
    {
      "cell_type": "code",
      "execution_count": 25,
      "metadata": {
        "id": "QOUOya1eIxVu",
        "colab": {
          "base_uri": "https://localhost:8080/"
        },
        "outputId": "34e3493e-c567-49b7-e86c-20c1b21f0301"
      },
      "outputs": [
        {
          "output_type": "stream",
          "name": "stdout",
          "text": [
            "The size & shape of the template raster      = 347133 & (461, 753)\n",
            "The size & shape of the data to be resampled = 8 & (2, 4)\n"
          ]
        }
      ],
      "source": [
        "## The size and shape of the raster files\n",
        "template   = gis.OpenAsArray(source_file, nan_values=True)\n",
        "original   = gis.OpenAsArray(target_fhs[0], nan_values=True)\n",
        "\n",
        "print ('The size & shape of the template raster      =', template.size,  '&', template.shape)\n",
        "print ('The size & shape of the data to be resampled =', original.size,  '&', original.shape)"
      ]
    },
    {
      "cell_type": "markdown",
      "metadata": {
        "id": "7hLtke-xIxVu"
      },
      "source": [
        "## Make or connect with the directory the output folder"
      ]
    },
    {
      "cell_type": "code",
      "execution_count": 26,
      "metadata": {
        "id": "ELVA73RWIxVu",
        "outputId": "5ec67f57-1296-46d2-e310-3f8db6fce1c4",
        "colab": {
          "base_uri": "https://localhost:8080/",
          "height": 35
        }
      },
      "outputs": [
        {
          "output_type": "execute_result",
          "data": {
            "text/plain": [
              "'/content/content/resampled/L1-PCP-D_resampled'"
            ],
            "application/vnd.google.colaboratory.intrinsic+json": {
              "type": "string"
            }
          },
          "metadata": {},
          "execution_count": 26
        }
      ],
      "source": [
        "output_folder = '/content/content/resampled/L1-PCP-D_resampled'\n",
        "\n",
        "## Make one if the folder does not exit\n",
        "if not os.path.exists(output_folder):\n",
        "    os.makedirs(output_folder)\n",
        "\n",
        "output_folder"
      ]
    },
    {
      "cell_type": "markdown",
      "metadata": {
        "id": "0yDgbBU8IxVv"
      },
      "source": [
        "## Resample raster data"
      ]
    },
    {
      "cell_type": "code",
      "execution_count": 27,
      "metadata": {
        "id": "MZzd-jx_IxVv"
      },
      "outputs": [],
      "source": [
        "Resample = gis.MatchProjResNDV (source_file, target_fhs, output_folder, resample = 'near', dtype = 'float32')"
      ]
    },
    {
      "cell_type": "code",
      "execution_count": 28,
      "metadata": {
        "id": "jWcIlSCRIxVv",
        "outputId": "38727a65-3269-424b-c6b0-0b1b10295b2b",
        "colab": {
          "base_uri": "https://localhost:8080/"
        }
      },
      "outputs": [
        {
          "output_type": "stream",
          "name": "stdout",
          "text": [
            "The size & shape of the resampled data = 347133 & (461, 753)\n"
          ]
        }
      ],
      "source": [
        "## Check the size and shape of the resampled raster files\n",
        "Resampled   = \"/content/content/resampled/L1-PCP-D_resampled/bb_L1-PCP-D_NONE_dekad_converted_2022-10-01.tif\"\n",
        "resampled   = gis.OpenAsArray(Resampled , nan_values=True)\n",
        "\n",
        "print ('The size & shape of the resampled data =', resampled.size,  '&', resampled.shape)"
      ]
    },
    {
      "cell_type": "markdown",
      "source": [
        "# Step c - Create seasonal climate layers\n"
      ],
      "metadata": {
        "id": "6mzVCz5PfFIQ"
      }
    },
    {
      "cell_type": "markdown",
      "source": [
        "Create output folders"
      ],
      "metadata": {
        "id": "Zju1dspxliRL"
      }
    },
    {
      "cell_type": "code",
      "source": [
        "output_folderSeason = \"/content/content/Season\"\n",
        "\n",
        "if not os.path.exists(output_folderSeason):\n",
        "    os.makedirs(output_folderSeason)\n",
        "output_folderSeason\n"
      ],
      "metadata": {
        "colab": {
          "base_uri": "https://localhost:8080/",
          "height": 35
        },
        "id": "M-FFmhkdklpI",
        "outputId": "483621c7-c6d8-488d-de91-49ff1d21c727"
      },
      "execution_count": 30,
      "outputs": [
        {
          "output_type": "execute_result",
          "data": {
            "text/plain": [
              "'/content/content/Season'"
            ],
            "application/vnd.google.colaboratory.intrinsic+json": {
              "type": "string"
            }
          },
          "metadata": {},
          "execution_count": 30
        }
      ]
    },
    {
      "cell_type": "markdown",
      "source": [
        "Define seasons"
      ],
      "metadata": {
        "id": "a1OLxVeNlkOm"
      }
    },
    {
      "cell_type": "code",
      "source": [
        "season_periods = {\n",
        "    'season1': {'SOS': '2022-10-01', 'EOS': '2023-04-30'}\n",
        "}"
      ],
      "metadata": {
        "id": "fDXsClRpkmtX"
      },
      "execution_count": 31,
      "outputs": []
    },
    {
      "cell_type": "markdown",
      "source": [
        "###Define function for temporal aggregation\n",
        "\n",
        "This script defines the function `SumSeason `which is used in the next sections. Using functions in such a way improves the readability and replicability of the scripts and avoids errors. For example we need this function to aggregate AETI and NPP data.\n",
        "\n",
        "Review this script, main difference compared to the script you used in the previous Notebook is that this script uses the metadata of the files to identify the dates. Disadvantage is that it requires opening and closing of each file and could take time when working with a lot of data. The script also considers part of dekadal values when start or end date is in the middle of the dekad (part of the if-statements)."
      ],
      "metadata": {
        "id": "diX6kjSdhkV-"
      }
    },
    {
      "cell_type": "code",
      "source": [
        "# summation of raster between two dates\n",
        "def SumSeason(input_fhs, sowing_date, harvesting_date):\n",
        "\n",
        "    # add rasters that falls within sowing and harvesting date\n",
        "    Sums = 0\n",
        "    for i, in_fh in enumerate(input_fhs):\n",
        "        # open raster file and get start and end date from attributes\n",
        "        ds = rioxr.open_rasterio(in_fh)\n",
        "        ds = ds.where(ds!=ds.attrs['_FillValue'])\n",
        "        if i == 0:\n",
        "          attrs = ds.attrs\n",
        "        raster_startdate = datetime.datetime.strptime(ds.attrs['start_date'], '%Y-%m-%d' ).date()\n",
        "        raster_enddate   = datetime.datetime.strptime(ds.attrs['end_date'], '%Y-%m-%d' ).date()\n",
        "\n",
        "        # accumulate full or part of the dekadal value\n",
        "        if (raster_startdate >= sowing_date) & (raster_enddate <= harvesting_date):\n",
        "            Sum = ds\n",
        "            Sums += Sum\n",
        "#             print (\"1\",in_fh)\n",
        "\n",
        "        elif (raster_startdate <sowing_date)&(raster_enddate >sowing_date)&(raster_enddate <harvesting_date):\n",
        "            Sum = ds\n",
        "            Sum = Sum*((raster_enddate-sowing_date)/(raster_enddate-raster_startdate))\n",
        "            Sums += Sum\n",
        "#             print (\"2\",in_fh)\n",
        "\n",
        "        elif (raster_startdate >sowing_date)&(raster_startdate <harvesting_date)&(raster_enddate >harvesting_date):\n",
        "            Sum = ds\n",
        "            Sum = Sum*((harvesting_date- raster_startdate)/(raster_enddate-raster_startdate))\n",
        "            Sums += Sum\n",
        "#             print (\"3\",in_fh)\n",
        "\n",
        "        elif (sowing_date>=raster_startdate)&(harvesting_date<=raster_enddate):\n",
        "            Sum = ds\n",
        "            Sum = Sum*((harvesting_date- sowing_date)/(raster_enddate-raster_startdate))\n",
        "            Sums += Sum\n",
        "#             print (\"4\",in_fh)\n",
        "    attrs.update({'start_date':datetime.datetime.strftime(SOS, '%Y-%m-%d'),\n",
        "              'end_date': datetime.datetime.strftime(EOS, '%Y-%m-%d'),\n",
        "              'units' : 'mm/season'})\n",
        "    del attrs['number_of_days']\n",
        "    del attrs['temporal_resolution']\n",
        "    del attrs['units_conversion_factor']\n",
        "\n",
        "    Sums.attrs  = attrs\n",
        "    return Sums"
      ],
      "metadata": {
        "id": "1OvdffUohZ1X"
      },
      "execution_count": 32,
      "outputs": []
    },
    {
      "cell_type": "markdown",
      "source": [
        "Calculate seasonal **PCP**"
      ],
      "metadata": {
        "id": "tIY2rdjghvDe"
      }
    },
    {
      "cell_type": "code",
      "source": [
        "# Assign inputs to the SumSeason function\n",
        "input_fhs      = target_fhsPCP\n",
        "output_folder  = output_folderSeason\n",
        "\n",
        "\n",
        "for i, season in enumerate(season_periods):\n",
        "    # calculate the seasonal value and save in output_folder\n",
        "    SOS = datetime.datetime.strptime(season_periods[season]['SOS'],'%Y-%m-%d').date()\n",
        "    EOS = datetime.datetime.strptime(season_periods[season]['EOS'],'%Y-%m-%d').date()\n",
        "    seasonal = SumSeason(input_fhs, SOS, EOS)\n",
        "\n",
        "    ## save the array in raster format, name it with the raster_id and sowing and harvesting date\n",
        "    out_fh = os.path.join(output_folder, 'PCP' + season + '_' + season_periods[season]['SOS']+'_to_'+season_periods[season]['EOS']+ '.tif')\n",
        "    seasonal.rio.to_raster(out_fh)\n",
        "\n",
        "    # calculate the mean, SD\n",
        "    print ('the mean, SD for ', season_periods[season]['SOS'] + '/' + season_periods[season]['EOS'], '=', np.nanmean(seasonal).round(1),'&',np.nanstd(seasonal).round(1))\n",
        "\n",
        "    # Plot the raster map\n",
        "    spatial_extent = (seasonal.x.min(), seasonal.x.max(), seasonal.y.min(), seasonal.y.max())\n",
        "    plt.figure(figsize = (12,8))\n",
        "    plt.imshow(seasonal[0], cmap='jet_r', vmin=np.nanmin(seasonal), vmax=np.nanmax(seasonal), extent=spatial_extent)\n",
        "    plt.colorbar(shrink=0.75, label='PCP [mm/season]')\n",
        "    plt.xlabel('Longitude [m]', fontsize=14)  # add axes label\n",
        "    plt.ylabel('Latitude [m]', fontsize=14)\n",
        "    plt.title('PCP [mm/season] ' + season_periods[season]['SOS'] + '/' + season_periods[season]['EOS'], fontsize=16)\n",
        "    plt.clim()\n",
        "    plt.show ();"
      ],
      "metadata": {
        "colab": {
          "base_uri": "https://localhost:8080/",
          "height": 530
        },
        "id": "AXz74Vyghxmd",
        "outputId": "4fb49ca7-42b8-4d69-e60c-5adfa0fc430e"
      },
      "execution_count": 37,
      "outputs": [
        {
          "output_type": "stream",
          "name": "stdout",
          "text": [
            "the mean, SD for  2022-10-01/2023-04-30 = 14.4 & 2.8\n"
          ]
        },
        {
          "output_type": "display_data",
          "data": {
            "text/plain": [
              "<Figure size 1200x800 with 2 Axes>"
            ],
            "image/png": "[encoded data removed]"
          },
          "metadata": {}
        }
      ]
    },
    {
      "cell_type": "markdown",
      "source": [
        "Calculate seasonal **Reference ET**"
      ],
      "metadata": {
        "id": "478M8fXslCVl"
      }
    },
    {
      "cell_type": "code",
      "source": [
        "# Assign inputs to the SumSeason function\n",
        "input_fhs      = target_fhsRET\n",
        "output_folder  = output_folderSeason\n",
        "\n",
        "\n",
        "for i, season in enumerate(season_periods):\n",
        "    # calculate the seasonal value and save in output_folder\n",
        "    SOS = datetime.datetime.strptime(season_periods[season]['SOS'],'%Y-%m-%d').date()\n",
        "    EOS = datetime.datetime.strptime(season_periods[season]['EOS'],'%Y-%m-%d').date()\n",
        "    seasonal = SumSeason(input_fhs, SOS, EOS)\n",
        "\n",
        "    ## save the array in raster format, name it with the raster_id and sowing and harvesting date\n",
        "    out_fh = os.path.join(output_folder, 'RET' + season + '_' + season_periods[season]['SOS']+'_to_'+season_periods[season]['EOS']+ '.tif')\n",
        "    seasonal.rio.to_raster(out_fh)\n",
        "\n",
        "    # calculate the mean, SD\n",
        "    print ('the mean, SD for ', season_periods[season]['SOS'] + '/' + season_periods[season]['EOS'], '=', np.nanmean(seasonal).round(1),'&',np.nanstd(seasonal).round(1))\n",
        "\n",
        "    # Plot the raster map\n",
        "    spatial_extent = (seasonal.x.min(), seasonal.x.max(), seasonal.y.min(), seasonal.y.max())\n",
        "    plt.figure(figsize = (12,8))\n",
        "    plt.imshow(seasonal[0], cmap='jet_r', vmin=np.nanmin(seasonal), vmax=np.nanmax(seasonal), extent=spatial_extent)\n",
        "    plt.colorbar(shrink=0.75, label='RET [mm/season]')\n",
        "    plt.xlabel('Longitude [m]', fontsize=14)  # add axes label\n",
        "    plt.ylabel('Latitude [m]', fontsize=14)\n",
        "    plt.title('RET [mm/season] ' + season_periods[season]['SOS'] + '/' + season_periods[season]['EOS'], fontsize=16)\n",
        "    plt.clim()\n",
        "    plt.show ();"
      ],
      "metadata": {
        "id": "5d9Cvw-HlCyx",
        "colab": {
          "base_uri": "https://localhost:8080/",
          "height": 586
        },
        "outputId": "10b2a95c-5c4b-4a4b-96bb-a156e97e2014"
      },
      "execution_count": 41,
      "outputs": [
        {
          "output_type": "stream",
          "name": "stdout",
          "text": [
            "the mean, SD for  2022-10-01/2023-04-30 = 1678.0 & 0.0\n"
          ]
        },
        {
          "output_type": "stream",
          "name": "stderr",
          "text": [
            "<ipython-input-41-c5a99acf4738>:22: UserWarning: Attempting to set identical low and high xlims makes transformation singular; automatically expanding.\n",
            "  plt.imshow(seasonal[0], cmap='jet_r', vmin=np.nanmin(seasonal), vmax=np.nanmax(seasonal), extent=spatial_extent)\n",
            "<ipython-input-41-c5a99acf4738>:22: UserWarning: Attempting to set identical low and high ylims makes transformation singular; automatically expanding.\n",
            "  plt.imshow(seasonal[0], cmap='jet_r', vmin=np.nanmin(seasonal), vmax=np.nanmax(seasonal), extent=spatial_extent)\n"
          ]
        },
        {
          "output_type": "display_data",
          "data": {
            "text/plain": [
              "<Figure size 1200x800 with 2 Axes>"
            ],
            "image/png": "[encoded data removed]"
          },
          "metadata": {}
        }
      ]
    }
  ],
  "metadata": {
    "kernelspec": {
      "display_name": "Python 3",
      "language": "python",
      "name": "python3"
    },
    "language_info": {
      "codemirror_mode": {
        "name": "ipython",
        "version": 3
      },
      "file_extension": ".py",
      "mimetype": "text/x-python",
      "name": "python",
      "nbconvert_exporter": "python",
      "pygments_lexer": "ipython3",
      "version": "3.7.3"
    },
    "colab": {
      "provenance": []
    }
  },
  "nbformat": 4,
  "nbformat_minor": 0
}