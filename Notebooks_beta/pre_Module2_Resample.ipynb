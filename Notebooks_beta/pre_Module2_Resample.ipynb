{
  "cells": [
    {
      "cell_type": "markdown",
      "source": [
        "# **Resampling Raster Layers and Preparing Data for Download**\n",
        "**Last update: 20-Sep-2024**\n",
        "\n",
        "## Introduction\n",
        "\n",
        "This notebook helps users resample raster datasets (such as precipitation (PCP) and reference evapotranspiration (RET)) to match the spatial resolution and  coordinate reference system (CRS) of a reference raster (Actual Evapotranspiration and Interception - AETI).\n",
        "\n",
        "Key steps include:\n",
        "1. **Importing packages** like `rasterio` and `numpy`.\n",
        "2. **Uploading data** (raster layers and reference file) from local or Google Drive.\n",
        "3. **Resampling raster layers** to align with the reference file.\n",
        "4. **Zipping and downloading** resampled files for further use.\n",
        "\n",
        "### Data: to be resampled (e.g., PCP, RET) and to be used as a reference (e.g., AETI)\n",
        "\n",
        "This workflow prepares raster layers for further analysis or integration into models."
      ],
      "metadata": {
        "id": "ZE7HsPsw6gmf"
      },
      "id": "ZE7HsPsw6gmf"
    },
    {
      "cell_type": "markdown",
      "source": [
        "## **Step 1 - Import Packages**"
      ],
      "metadata": {
        "id": "VeMdwxyEW3rF"
      },
      "id": "VeMdwxyEW3rF"
    },
    {
      "cell_type": "code",
      "source": [
        "!pip install rasterio"
      ],
      "metadata": {
        "colab": {
          "base_uri": "https://localhost:8080/"
        },
        "collapsed": true,
        "id": "T8WNm9KyE54O",
        "outputId": "ab809a31-542c-4528-a500-8efa0956d839"
      },
      "id": "T8WNm9KyE54O",
      "execution_count": 1,
      "outputs": [
        {
          "output_type": "stream",
          "name": "stdout",
          "text": [
            "Collecting rasterio\n",
            "  Downloading rasterio-1.3.11-cp310-cp310-manylinux_2_17_x86_64.manylinux2014_x86_64.whl.metadata (14 kB)\n",
            "Collecting affine (from rasterio)\n",
            "  Downloading affine-2.4.0-py3-none-any.whl.metadata (4.0 kB)\n",
            "Requirement already satisfied: attrs in /usr/local/lib/python3.10/dist-packages (from rasterio) (24.2.0)\n",
            "Requirement already satisfied: certifi in /usr/local/lib/python3.10/dist-packages (from rasterio) (2024.8.30)\n",
            "Requirement already satisfied: click>=4.0 in /usr/local/lib/python3.10/dist-packages (from rasterio) (8.1.7)\n",
            "Collecting cligj>=0.5 (from rasterio)\n",
            "  Downloading cligj-0.7.2-py3-none-any.whl.metadata (5.0 kB)\n",
            "Requirement already satisfied: numpy in /usr/local/lib/python3.10/dist-packages (from rasterio) (1.26.4)\n",
            "Collecting snuggs>=1.4.1 (from rasterio)\n",
            "  Downloading snuggs-1.4.7-py3-none-any.whl.metadata (3.4 kB)\n",
            "Collecting click-plugins (from rasterio)\n",
            "  Downloading click_plugins-1.1.1-py2.py3-none-any.whl.metadata (6.4 kB)\n",
            "Requirement already satisfied: setuptools in /usr/local/lib/python3.10/dist-packages (from rasterio) (71.0.4)\n",
            "Requirement already satisfied: pyparsing>=2.1.6 in /usr/local/lib/python3.10/dist-packages (from snuggs>=1.4.1->rasterio) (3.1.4)\n",
            "Downloading rasterio-1.3.11-cp310-cp310-manylinux_2_17_x86_64.manylinux2014_x86_64.whl (21.7 MB)\n",
            "\u001b[2K   \u001b[90m━━━━━━━━━━━━━━━━━━━━━━━━━━━━━━━━━━━━━━━━\u001b[0m \u001b[32m21.7/21.7 MB\u001b[0m \u001b[31m22.2 MB/s\u001b[0m eta \u001b[36m0:00:00\u001b[0m\n",
            "\u001b[?25hDownloading cligj-0.7.2-py3-none-any.whl (7.1 kB)\n",
            "Downloading snuggs-1.4.7-py3-none-any.whl (5.4 kB)\n",
            "Downloading affine-2.4.0-py3-none-any.whl (15 kB)\n",
            "Downloading click_plugins-1.1.1-py2.py3-none-any.whl (7.5 kB)\n",
            "Installing collected packages: snuggs, cligj, click-plugins, affine, rasterio\n",
            "Successfully installed affine-2.4.0 click-plugins-1.1.1 cligj-0.7.2 rasterio-1.3.11 snuggs-1.4.7\n"
          ]
        }
      ]
    },
    {
      "cell_type": "code",
      "execution_count": 2,
      "id": "3cef749c-5d64-43a1-8499-ff709a4d87cd",
      "metadata": {
        "id": "3cef749c-5d64-43a1-8499-ff709a4d87cd"
      },
      "outputs": [],
      "source": [
        "import os                                        # Module for interacting with the operating system (e.g., file and directory manipulation)\n",
        "import glob                                      # Used to retrieve files/pathnames matching a specified pattern (e.g., finding all .tif files in a folder)\n",
        "import rasterio                                  # Library for reading, writing, and analyzing geospatial raster data (e.g., handling .tif files)\n",
        "from rasterio.warp import reproject, Resampling  # Functions for reprojection and resampling raster data to match spatial properties (e.g., CRS, resolution)\n",
        "import numpy as np                               # Library for numerical computations, used here for handling array data (e.g., raster data as arrays)"
      ]
    },
    {
      "cell_type": "markdown",
      "source": [
        "## **Step 2 - Import the files**"
      ],
      "metadata": {
        "id": "jXJBkR6qW9qS"
      },
      "id": "jXJBkR6qW9qS"
    },
    {
      "cell_type": "code",
      "source": [
        "# Upload the layers to be resampled\n",
        "from google.colab import files\n",
        "uploaded = files.upload()"
      ],
      "metadata": {
        "colab": {
          "base_uri": "https://localhost:8080/",
          "height": 73
        },
        "id": "UvvTAuAPFS47",
        "outputId": "6452de5b-4d6e-4462-caf8-b845662db611"
      },
      "id": "UvvTAuAPFS47",
      "execution_count": 3,
      "outputs": [
        {
          "output_type": "display_data",
          "data": {
            "text/plain": [
              "<IPython.core.display.HTML object>"
            ],
            "text/html": [
              "\n",
              "     <input type=\"file\" id=\"files-ab262d85-58ea-44b3-969d-0fbac6ae7134\" name=\"files[]\" multiple disabled\n",
              "        style=\"border:none\" />\n",
              "     <output id=\"result-ab262d85-58ea-44b3-969d-0fbac6ae7134\">\n",
              "      Upload widget is only available when the cell has been executed in the\n",
              "      current browser session. Please rerun this cell to enable.\n",
              "      </output>\n",
              "      <script>// Copyright 2017 Google LLC\n",
              "//\n",
              "// Licensed under the Apache License, Version 2.0 (the \"License\");\n",
              "// you may not use this file except in compliance with the License.\n",
              "// You may obtain a copy of the License at\n",
              "//\n",
              "//      http://www.apache.org/licenses/LICENSE-2.0\n",
              "//\n",
              "// Unless required by applicable law or agreed to in writing, software\n",
              "// distributed under the License is distributed on an \"AS IS\" BASIS,\n",
              "// WITHOUT WARRANTIES OR CONDITIONS OF ANY KIND, either express or implied.\n",
              "// See the License for the specific language governing permissions and\n",
              "// limitations under the License.\n",
              "\n",
              "/**\n",
              " * @fileoverview Helpers for google.colab Python module.\n",
              " */\n",
              "(function(scope) {\n",
              "function span(text, styleAttributes = {}) {\n",
              "  const element = document.createElement('span');\n",
              "  element.textContent = text;\n",
              "  for (const key of Object.keys(styleAttributes)) {\n",
              "    element.style[key] = styleAttributes[key];\n",
              "  }\n",
              "  return element;\n",
              "}\n",
              "\n",
              "// Max number of bytes which will be uploaded at a time.\n",
              "const MAX_PAYLOAD_SIZE = 100 * 1024;\n",
              "\n",
              "function _uploadFiles(inputId, outputId) {\n",
              "  const steps = uploadFilesStep(inputId, outputId);\n",
              "  const outputElement = document.getElementById(outputId);\n",
              "  // Cache steps on the outputElement to make it available for the next call\n",
              "  // to uploadFilesContinue from Python.\n",
              "  outputElement.steps = steps;\n",
              "\n",
              "  return _uploadFilesContinue(outputId);\n",
              "}\n",
              "\n",
              "// This is roughly an async generator (not supported in the browser yet),\n",
              "// where there are multiple asynchronous steps and the Python side is going\n",
              "// to poll for completion of each step.\n",
              "// This uses a Promise to block the python side on completion of each step,\n",
              "// then passes the result of the previous step as the input to the next step.\n",
              "function _uploadFilesContinue(outputId) {\n",
              "  const outputElement = document.getElementById(outputId);\n",
              "  const steps = outputElement.steps;\n",
              "\n",
              "  const next = steps.next(outputElement.lastPromiseValue);\n",
              "  return Promise.resolve(next.value.promise).then((value) => {\n",
              "    // Cache the last promise value to make it available to the next\n",
              "    // step of the generator.\n",
              "    outputElement.lastPromiseValue = value;\n",
              "    return next.value.response;\n",
              "  });\n",
              "}\n",
              "\n",
              "/**\n",
              " * Generator function which is called between each async step of the upload\n",
              " * process.\n",
              " * @param {string} inputId Element ID of the input file picker element.\n",
              " * @param {string} outputId Element ID of the output display.\n",
              " * @return {!Iterable<!Object>} Iterable of next steps.\n",
              " */\n",
              "function* uploadFilesStep(inputId, outputId) {\n",
              "  const inputElement = document.getElementById(inputId);\n",
              "  inputElement.disabled = false;\n",
              "\n",
              "  const outputElement = document.getElementById(outputId);\n",
              "  outputElement.innerHTML = '';\n",
              "\n",
              "  const pickedPromise = new Promise((resolve) => {\n",
              "    inputElement.addEventListener('change', (e) => {\n",
              "      resolve(e.target.files);\n",
              "    });\n",
              "  });\n",
              "\n",
              "  const cancel = document.createElement('button');\n",
              "  inputElement.parentElement.appendChild(cancel);\n",
              "  cancel.textContent = 'Cancel upload';\n",
              "  const cancelPromise = new Promise((resolve) => {\n",
              "    cancel.onclick = () => {\n",
              "      resolve(null);\n",
              "    };\n",
              "  });\n",
              "\n",
              "  // Wait for the user to pick the files.\n",
              "  const files = yield {\n",
              "    promise: Promise.race([pickedPromise, cancelPromise]),\n",
              "    response: {\n",
              "      action: 'starting',\n",
              "    }\n",
              "  };\n",
              "\n",
              "  cancel.remove();\n",
              "\n",
              "  // Disable the input element since further picks are not allowed.\n",
              "  inputElement.disabled = true;\n",
              "\n",
              "  if (!files) {\n",
              "    return {\n",
              "      response: {\n",
              "        action: 'complete',\n",
              "      }\n",
              "    };\n",
              "  }\n",
              "\n",
              "  for (const file of files) {\n",
              "    const li = document.createElement('li');\n",
              "    li.append(span(file.name, {fontWeight: 'bold'}));\n",
              "    li.append(span(\n",
              "        `(${file.type || 'n/a'}) - ${file.size} bytes, ` +\n",
              "        `last modified: ${\n",
              "            file.lastModifiedDate ? file.lastModifiedDate.toLocaleDateString() :\n",
              "                                    'n/a'} - `));\n",
              "    const percent = span('0% done');\n",
              "    li.appendChild(percent);\n",
              "\n",
              "    outputElement.appendChild(li);\n",
              "\n",
              "    const fileDataPromise = new Promise((resolve) => {\n",
              "      const reader = new FileReader();\n",
              "      reader.onload = (e) => {\n",
              "        resolve(e.target.result);\n",
              "      };\n",
              "      reader.readAsArrayBuffer(file);\n",
              "    });\n",
              "    // Wait for the data to be ready.\n",
              "    let fileData = yield {\n",
              "      promise: fileDataPromise,\n",
              "      response: {\n",
              "        action: 'continue',\n",
              "      }\n",
              "    };\n",
              "\n",
              "    // Use a chunked sending to avoid message size limits. See b/62115660.\n",
              "    let position = 0;\n",
              "    do {\n",
              "      const length = Math.min(fileData.byteLength - position, MAX_PAYLOAD_SIZE);\n",
              "      const chunk = new Uint8Array(fileData, position, length);\n",
              "      position += length;\n",
              "\n",
              "      const base64 = btoa(String.fromCharCode.apply(null, chunk));\n",
              "      yield {\n",
              "        response: {\n",
              "          action: 'append',\n",
              "          file: file.name,\n",
              "          data: base64,\n",
              "        },\n",
              "      };\n",
              "\n",
              "      let percentDone = fileData.byteLength === 0 ?\n",
              "          100 :\n",
              "          Math.round((position / fileData.byteLength) * 100);\n",
              "      percent.textContent = `${percentDone}% done`;\n",
              "\n",
              "    } while (position < fileData.byteLength);\n",
              "  }\n",
              "\n",
              "  // All done.\n",
              "  yield {\n",
              "    response: {\n",
              "      action: 'complete',\n",
              "    }\n",
              "  };\n",
              "}\n",
              "\n",
              "scope.google = scope.google || {};\n",
              "scope.google.colab = scope.google.colab || {};\n",
              "scope.google.colab._files = {\n",
              "  _uploadFiles,\n",
              "  _uploadFilesContinue,\n",
              "};\n",
              "})(self);\n",
              "</script> "
            ]
          },
          "metadata": {}
        },
        {
          "output_type": "stream",
          "name": "stdout",
          "text": [
            "Saving PCPRETdata.zip to PCPRETdata.zip\n"
          ]
        }
      ]
    },
    {
      "cell_type": "code",
      "source": [
        "#Unzip\n",
        "!unzip '/content/PCPRETdata.zip' -d '/content'"
      ],
      "metadata": {
        "colab": {
          "base_uri": "https://localhost:8080/"
        },
        "id": "hm_xmyU3GB_2",
        "outputId": "c0f88f0b-ef26-4899-faef-0f1403405d58",
        "collapsed": true
      },
      "id": "hm_xmyU3GB_2",
      "execution_count": 4,
      "outputs": [
        {
          "output_type": "stream",
          "name": "stdout",
          "text": [
            "Archive:  /content/PCPRETdata.zip\n",
            "   creating: /content/L1-PCP-D/\n",
            "   creating: /content/L1-RET-D/\n",
            "  inflating: /content/L1-RET-D/bb_L1-RET-D_NONE_dekad_converted_2023-04-01.tif  \n",
            "  inflating: /content/L1-RET-D/bb_L1-RET-D_NONE_dekad_converted_2023-01-11.tif  \n",
            "  inflating: /content/L1-RET-D/bb_L1-RET-D_NONE_dekad_converted_2023-04-21.tif  \n",
            "  inflating: /content/L1-RET-D/bb_L1-RET-D_NONE_dekad_converted_2023-02-11.tif  \n",
            "  inflating: /content/L1-RET-D/bb_L1-RET-D_NONE_dekad_converted_2023-04-11.tif  \n",
            "  inflating: /content/L1-RET-D/bb_L1-RET-D_NONE_dekad_converted_2023-01-01.tif  \n",
            "  inflating: /content/L1-RET-D/bb_L1-RET-D_NONE_dekad_converted_2022-12-01.tif  \n",
            "  inflating: /content/L1-RET-D/bb_L1-RET-D_NONE_dekad_converted_2022-11-21.tif  \n",
            "  inflating: /content/L1-RET-D/bb_L1-RET-D_NONE_dekad_converted_2023-02-01.tif  \n",
            "  inflating: /content/L1-RET-D/bb_L1-RET-D_NONE_dekad_converted_2022-11-11.tif  \n",
            "  inflating: /content/L1-RET-D/bb_L1-RET-D_NONE_dekad_converted_2022-12-11.tif  \n",
            "  inflating: /content/L1-RET-D/bb_L1-RET-D_NONE_dekad_converted_2022-11-01.tif  \n",
            "  inflating: /content/L1-RET-D/bb_L1-RET-D_NONE_dekad_converted_2023-01-21.tif  \n",
            "  inflating: /content/L1-RET-D/bb_L1-RET-D_NONE_dekad_converted_2022-10-11.tif  \n",
            "  inflating: /content/L1-RET-D/bb_L1-RET-D_NONE_dekad_converted_2023-03-11.tif  \n",
            "  inflating: /content/L1-RET-D/bb_L1-RET-D_NONE_dekad_converted_2022-12-21.tif  \n",
            "  inflating: /content/L1-RET-D/bb_L1-RET-D_NONE_dekad_converted_2022-10-01.tif  \n",
            "  inflating: /content/L1-RET-D/bb_L1-RET-D_NONE_dekad_converted_2023-03-01.tif  \n",
            "  inflating: /content/L1-RET-D/bb_L1-RET-D_NONE_dekad_converted_2023-03-21.tif  \n",
            "  inflating: /content/L1-RET-D/bb_L1-RET-D_NONE_dekad_converted_2022-10-21.tif  \n",
            "  inflating: /content/L1-RET-D/bb_L1-RET-D_NONE_dekad_converted_2023-02-21.tif  \n",
            "  inflating: /content/L1-PCP-D/bb_L1-PCP-D_NONE_dekad_converted_2022-10-21.tif  \n",
            "  inflating: /content/L1-PCP-D/bb_L1-PCP-D_NONE_dekad_converted_2022-11-21.tif  \n",
            "  inflating: /content/L1-PCP-D/bb_L1-PCP-D_NONE_dekad_converted_2023-04-21.tif  \n",
            "  inflating: /content/L1-PCP-D/bb_L1-PCP-D_NONE_dekad_converted_2023-02-21.tif  \n",
            "  inflating: /content/L1-PCP-D/bb_L1-PCP-D_NONE_dekad_converted_2023-04-11.tif  \n",
            "  inflating: /content/L1-PCP-D/bb_L1-PCP-D_NONE_dekad_converted_2023-02-11.tif  \n",
            "  inflating: /content/L1-PCP-D/bb_L1-PCP-D_NONE_dekad_converted_2022-12-21.tif  \n",
            "  inflating: /content/L1-PCP-D/bb_L1-PCP-D_NONE_dekad_converted_2022-12-01.tif  \n",
            "  inflating: /content/L1-PCP-D/bb_L1-PCP-D_NONE_dekad_converted_2023-01-21.tif  \n",
            "  inflating: /content/L1-PCP-D/bb_L1-PCP-D_NONE_dekad_converted_2022-12-11.tif  \n",
            "  inflating: /content/L1-PCP-D/bb_L1-PCP-D_NONE_dekad_converted_2023-01-01.tif  \n",
            "  inflating: /content/L1-PCP-D/bb_L1-PCP-D_NONE_dekad_converted_2023-03-11.tif  \n",
            "  inflating: /content/L1-PCP-D/bb_L1-PCP-D_NONE_dekad_converted_2023-01-11.tif  \n",
            "  inflating: /content/L1-PCP-D/bb_L1-PCP-D_NONE_dekad_converted_2022-11-11.tif  \n",
            "  inflating: /content/L1-PCP-D/bb_L1-PCP-D_NONE_dekad_converted_2023-03-21.tif  \n",
            "  inflating: /content/L1-PCP-D/bb_L1-PCP-D_NONE_dekad_converted_2022-10-01.tif  \n",
            "  inflating: /content/L1-PCP-D/bb_L1-PCP-D_NONE_dekad_converted_2023-03-01.tif  \n",
            "  inflating: /content/L1-PCP-D/bb_L1-PCP-D_NONE_dekad_converted_2022-10-11.tif  \n",
            "  inflating: /content/L1-PCP-D/bb_L1-PCP-D_NONE_dekad_converted_2022-11-01.tif  \n",
            "  inflating: /content/L1-PCP-D/bb_L1-PCP-D_NONE_dekad_converted_2023-02-01.tif  \n",
            "  inflating: /content/L1-PCP-D/bb_L1-PCP-D_NONE_dekad_converted_2023-04-01.tif  \n"
          ]
        }
      ]
    },
    {
      "cell_type": "code",
      "source": [
        "# Upload the the reference layer for resampling, seasonal AETI, which is output of Module_1_Seasonal_AETI...\n",
        "from google.colab import files\n",
        "uploaded = files.upload()"
      ],
      "metadata": {
        "colab": {
          "base_uri": "https://localhost:8080/",
          "height": 73
        },
        "id": "tnCwhNcJGIzt",
        "outputId": "1ab9e680-49fe-4d4c-e3ce-46656401e279"
      },
      "id": "tnCwhNcJGIzt",
      "execution_count": 5,
      "outputs": [
        {
          "output_type": "display_data",
          "data": {
            "text/plain": [
              "<IPython.core.display.HTML object>"
            ],
            "text/html": [
              "\n",
              "     <input type=\"file\" id=\"files-9cad736c-accb-462c-8194-be698da6805e\" name=\"files[]\" multiple disabled\n",
              "        style=\"border:none\" />\n",
              "     <output id=\"result-9cad736c-accb-462c-8194-be698da6805e\">\n",
              "      Upload widget is only available when the cell has been executed in the\n",
              "      current browser session. Please rerun this cell to enable.\n",
              "      </output>\n",
              "      <script>// Copyright 2017 Google LLC\n",
              "//\n",
              "// Licensed under the Apache License, Version 2.0 (the \"License\");\n",
              "// you may not use this file except in compliance with the License.\n",
              "// You may obtain a copy of the License at\n",
              "//\n",
              "//      http://www.apache.org/licenses/LICENSE-2.0\n",
              "//\n",
              "// Unless required by applicable law or agreed to in writing, software\n",
              "// distributed under the License is distributed on an \"AS IS\" BASIS,\n",
              "// WITHOUT WARRANTIES OR CONDITIONS OF ANY KIND, either express or implied.\n",
              "// See the License for the specific language governing permissions and\n",
              "// limitations under the License.\n",
              "\n",
              "/**\n",
              " * @fileoverview Helpers for google.colab Python module.\n",
              " */\n",
              "(function(scope) {\n",
              "function span(text, styleAttributes = {}) {\n",
              "  const element = document.createElement('span');\n",
              "  element.textContent = text;\n",
              "  for (const key of Object.keys(styleAttributes)) {\n",
              "    element.style[key] = styleAttributes[key];\n",
              "  }\n",
              "  return element;\n",
              "}\n",
              "\n",
              "// Max number of bytes which will be uploaded at a time.\n",
              "const MAX_PAYLOAD_SIZE = 100 * 1024;\n",
              "\n",
              "function _uploadFiles(inputId, outputId) {\n",
              "  const steps = uploadFilesStep(inputId, outputId);\n",
              "  const outputElement = document.getElementById(outputId);\n",
              "  // Cache steps on the outputElement to make it available for the next call\n",
              "  // to uploadFilesContinue from Python.\n",
              "  outputElement.steps = steps;\n",
              "\n",
              "  return _uploadFilesContinue(outputId);\n",
              "}\n",
              "\n",
              "// This is roughly an async generator (not supported in the browser yet),\n",
              "// where there are multiple asynchronous steps and the Python side is going\n",
              "// to poll for completion of each step.\n",
              "// This uses a Promise to block the python side on completion of each step,\n",
              "// then passes the result of the previous step as the input to the next step.\n",
              "function _uploadFilesContinue(outputId) {\n",
              "  const outputElement = document.getElementById(outputId);\n",
              "  const steps = outputElement.steps;\n",
              "\n",
              "  const next = steps.next(outputElement.lastPromiseValue);\n",
              "  return Promise.resolve(next.value.promise).then((value) => {\n",
              "    // Cache the last promise value to make it available to the next\n",
              "    // step of the generator.\n",
              "    outputElement.lastPromiseValue = value;\n",
              "    return next.value.response;\n",
              "  });\n",
              "}\n",
              "\n",
              "/**\n",
              " * Generator function which is called between each async step of the upload\n",
              " * process.\n",
              " * @param {string} inputId Element ID of the input file picker element.\n",
              " * @param {string} outputId Element ID of the output display.\n",
              " * @return {!Iterable<!Object>} Iterable of next steps.\n",
              " */\n",
              "function* uploadFilesStep(inputId, outputId) {\n",
              "  const inputElement = document.getElementById(inputId);\n",
              "  inputElement.disabled = false;\n",
              "\n",
              "  const outputElement = document.getElementById(outputId);\n",
              "  outputElement.innerHTML = '';\n",
              "\n",
              "  const pickedPromise = new Promise((resolve) => {\n",
              "    inputElement.addEventListener('change', (e) => {\n",
              "      resolve(e.target.files);\n",
              "    });\n",
              "  });\n",
              "\n",
              "  const cancel = document.createElement('button');\n",
              "  inputElement.parentElement.appendChild(cancel);\n",
              "  cancel.textContent = 'Cancel upload';\n",
              "  const cancelPromise = new Promise((resolve) => {\n",
              "    cancel.onclick = () => {\n",
              "      resolve(null);\n",
              "    };\n",
              "  });\n",
              "\n",
              "  // Wait for the user to pick the files.\n",
              "  const files = yield {\n",
              "    promise: Promise.race([pickedPromise, cancelPromise]),\n",
              "    response: {\n",
              "      action: 'starting',\n",
              "    }\n",
              "  };\n",
              "\n",
              "  cancel.remove();\n",
              "\n",
              "  // Disable the input element since further picks are not allowed.\n",
              "  inputElement.disabled = true;\n",
              "\n",
              "  if (!files) {\n",
              "    return {\n",
              "      response: {\n",
              "        action: 'complete',\n",
              "      }\n",
              "    };\n",
              "  }\n",
              "\n",
              "  for (const file of files) {\n",
              "    const li = document.createElement('li');\n",
              "    li.append(span(file.name, {fontWeight: 'bold'}));\n",
              "    li.append(span(\n",
              "        `(${file.type || 'n/a'}) - ${file.size} bytes, ` +\n",
              "        `last modified: ${\n",
              "            file.lastModifiedDate ? file.lastModifiedDate.toLocaleDateString() :\n",
              "                                    'n/a'} - `));\n",
              "    const percent = span('0% done');\n",
              "    li.appendChild(percent);\n",
              "\n",
              "    outputElement.appendChild(li);\n",
              "\n",
              "    const fileDataPromise = new Promise((resolve) => {\n",
              "      const reader = new FileReader();\n",
              "      reader.onload = (e) => {\n",
              "        resolve(e.target.result);\n",
              "      };\n",
              "      reader.readAsArrayBuffer(file);\n",
              "    });\n",
              "    // Wait for the data to be ready.\n",
              "    let fileData = yield {\n",
              "      promise: fileDataPromise,\n",
              "      response: {\n",
              "        action: 'continue',\n",
              "      }\n",
              "    };\n",
              "\n",
              "    // Use a chunked sending to avoid message size limits. See b/62115660.\n",
              "    let position = 0;\n",
              "    do {\n",
              "      const length = Math.min(fileData.byteLength - position, MAX_PAYLOAD_SIZE);\n",
              "      const chunk = new Uint8Array(fileData, position, length);\n",
              "      position += length;\n",
              "\n",
              "      const base64 = btoa(String.fromCharCode.apply(null, chunk));\n",
              "      yield {\n",
              "        response: {\n",
              "          action: 'append',\n",
              "          file: file.name,\n",
              "          data: base64,\n",
              "        },\n",
              "      };\n",
              "\n",
              "      let percentDone = fileData.byteLength === 0 ?\n",
              "          100 :\n",
              "          Math.round((position / fileData.byteLength) * 100);\n",
              "      percent.textContent = `${percentDone}% done`;\n",
              "\n",
              "    } while (position < fileData.byteLength);\n",
              "  }\n",
              "\n",
              "  // All done.\n",
              "  yield {\n",
              "    response: {\n",
              "      action: 'complete',\n",
              "    }\n",
              "  };\n",
              "}\n",
              "\n",
              "scope.google = scope.google || {};\n",
              "scope.google.colab = scope.google.colab || {};\n",
              "scope.google.colab._files = {\n",
              "  _uploadFiles,\n",
              "  _uploadFilesContinue,\n",
              "};\n",
              "})(self);\n",
              "</script> "
            ]
          },
          "metadata": {}
        },
        {
          "output_type": "stream",
          "name": "stdout",
          "text": [
            "Saving WaPORv3_M1_Seasonal.zip to WaPORv3_M1_Seasonal.zip\n"
          ]
        }
      ]
    },
    {
      "cell_type": "code",
      "source": [
        "#Unzip\n",
        "!unzip '/content/WaPORv3_M1_Seasonal.zip' -d '/content'"
      ],
      "metadata": {
        "colab": {
          "base_uri": "https://localhost:8080/"
        },
        "id": "X77xHCK99BbR",
        "outputId": "402a74ad-e1c1-47ea-fed9-e89f4d908bd5"
      },
      "id": "X77xHCK99BbR",
      "execution_count": 6,
      "outputs": [
        {
          "output_type": "stream",
          "name": "stdout",
          "text": [
            "Archive:  /content/WaPORv3_M1_Seasonal.zip\n",
            "   creating: /content/content/output_M1a/AETI_season/\n",
            "  inflating: /content/content/output_M1a/AETI_season/AETI_season1_2022-10-01_to_2023-04-30.tif  \n",
            "   creating: /content/content/output_M1a/NPP_season/\n",
            "  inflating: /content/content/output_M1a/NPP_season/NPP_season1_2022-10-01_to_2023-04-30.tif  \n",
            "   creating: /content/content/output_M1a/T_season/\n",
            "  inflating: /content/content/output_M1a/T_season/T_season1_2022-10-01_to_2023-04-30.tif  \n"
          ]
        }
      ]
    },
    {
      "cell_type": "markdown",
      "source": [
        "##  Define project directory and the location of WaPOR data"
      ],
      "metadata": {
        "id": "jrkJsf3iBBsp"
      },
      "id": "jrkJsf3iBBsp"
    },
    {
      "cell_type": "code",
      "source": [
        "# Paths to the files\n",
        "dir_proj     = os.path.split(os.getcwd())[0]\n",
        "dir_data     = \"/content/\"\n",
        "\n",
        "input_folderPCP = os.path.join(dir_proj, dir_data, \"L1-PCP-D\")\n",
        "input_folderRET = os.path.join(dir_proj, dir_data, \"L1-RET-D\")\n",
        "\n",
        "et_files        = os.path.join(dir_proj, dir_data, \"content/output_M1a/AETI_season\")\n",
        "et_file         = sorted(glob.glob(et_files  + '/*.tif'))[0]\n",
        "\n",
        "input_folderPCP, input_folderRET, et_file"
      ],
      "metadata": {
        "colab": {
          "base_uri": "https://localhost:8080/"
        },
        "id": "8cZ7JIgQIji7",
        "outputId": "7cefaa48-0278-433a-f9a1-9154d46e0b77"
      },
      "id": "8cZ7JIgQIji7",
      "execution_count": 7,
      "outputs": [
        {
          "output_type": "execute_result",
          "data": {
            "text/plain": [
              "('/content/L1-PCP-D',\n",
              " '/content/L1-RET-D',\n",
              " '/content/content/output_M1a/AETI_season/AETI_season1_2022-10-01_to_2023-04-30.tif')"
            ]
          },
          "metadata": {},
          "execution_count": 7
        }
      ]
    },
    {
      "cell_type": "markdown",
      "source": [
        "## **Step 3 - Resample the layers**"
      ],
      "metadata": {
        "id": "xYT5OsQVXFqz"
      },
      "id": "xYT5OsQVXFqz"
    },
    {
      "cell_type": "code",
      "execution_count": 8,
      "id": "d650e0d9-7887-4d9d-a16d-1fea9dd70ee7",
      "metadata": {
        "scrolled": true,
        "id": "d650e0d9-7887-4d9d-a16d-1fea9dd70ee7"
      },
      "outputs": [],
      "source": [
        "# Function for resampling\n",
        "\n",
        "def resample_raster_files(input_folder, reference_file, output_folder):\n",
        "    \"\"\"\n",
        "    Resamples all raster files in the input folder to match the spatial resolution and CRS\n",
        "    of the reference raster file and saves the resampled files in the output folder.\n",
        "\n",
        "    Parameters:\n",
        "    input_folder (str): Path to the folder containing the raster files to be resampled.\n",
        "    reference_file (str): Path to the reference raster file used for resampling.\n",
        "    output_folder (str): Path to the folder where the resampled files will be saved.\n",
        "    \"\"\"\n",
        "\n",
        "    # Get all raster files to be resampled\n",
        "    input_files = glob.glob(os.path.join(input_folder, \"*.tif\"))\n",
        "\n",
        "    # Open the reference file to get its profile\n",
        "    with rasterio.open(reference_file) as ref_src:\n",
        "        ref_profile = ref_src.profile\n",
        "\n",
        "        # Loop through each raster file to be resampled\n",
        "        for input_file in input_files:\n",
        "            with rasterio.open(input_file) as src:\n",
        "                src_data = src.read(1)\n",
        "\n",
        "                # Create an empty array to store the resampled data\n",
        "                resampled_data = np.empty((ref_profile['height'], ref_profile['width']), dtype=src_data.dtype)\n",
        "\n",
        "                # Resample the data\n",
        "                reproject(\n",
        "                    source=src_data,\n",
        "                    destination=resampled_data,\n",
        "                    src_transform=src.transform,\n",
        "                    src_crs=src.crs,\n",
        "                    dst_transform=ref_profile['transform'],\n",
        "                    dst_crs=ref_profile['crs'],\n",
        "                    resampling=Resampling.nearest\n",
        "                )\n",
        "\n",
        "                # Update profile metadata using the reference file's profile\n",
        "                output_profile = src.profile.copy()\n",
        "                output_profile.update(\n",
        "                    transform=ref_profile['transform'],\n",
        "                    height=ref_profile['height'],\n",
        "                    width=ref_profile['width'],\n",
        "                    crs=ref_profile['crs']\n",
        "                )\n",
        "\n",
        "                # Preserve band-specific metadata\n",
        "                band1_meta = src.tags(1)\n",
        "\n",
        "                # Save resampled file with the updated profile and original metadata\n",
        "                output_file = os.path.join(output_folder, os.path.basename(input_file))\n",
        "                with rasterio.open(output_file, 'w', **output_profile) as dst:\n",
        "                    dst.write(resampled_data, 1)\n",
        "                    dst.update_tags(1, **band1_meta)  # Preserve band metadata\n",
        "\n",
        "    print(\"Resampling completed.\")\n",
        "\n",
        "# Example usage:\n",
        "# resample_raster_files(input_folder=\"path/to/input/folder\", reference_file=\"path/to/reference/file.tif\", output_folder=\"path/to/output/folder\")\n"
      ]
    },
    {
      "cell_type": "code",
      "source": [
        "# Resample pricipitation\n",
        "input_folder   = input_folderPCP\n",
        "reference_file = et_file\n",
        "output_folder  = os.path.join(dir_proj, dir_data, \"PCP_resampled\")  #  the directory of the output folder\n",
        "\n",
        "# Make one if the folder does not exit\n",
        "if not os.path.exists(output_folder):\n",
        "    os.makedirs(output_folder)\n",
        "\n",
        "resample_raster_files (input_folder, reference_file, output_folder)"
      ],
      "metadata": {
        "colab": {
          "base_uri": "https://localhost:8080/"
        },
        "id": "mxcIqo8hQ_NW",
        "outputId": "a47b8a54-3de6-4d50-8f85-fea877938439"
      },
      "id": "mxcIqo8hQ_NW",
      "execution_count": 10,
      "outputs": [
        {
          "output_type": "stream",
          "name": "stdout",
          "text": [
            "Resampling completed.\n"
          ]
        }
      ]
    },
    {
      "cell_type": "code",
      "source": [
        "# Resample reference evapotranspiration\n",
        "input_folder   = input_folderRET\n",
        "reference_file = et_file\n",
        "output_folder  = os.path.join(dir_proj, dir_data, \"RET_resampled\")  #  the directory of the output folder\n",
        "\n",
        "# Make one if the folder does not exit\n",
        "if not os.path.exists(output_folder):\n",
        "    os.makedirs(output_folder)\n",
        "\n",
        "resample_raster_files (input_folder, reference_file, output_folder)"
      ],
      "metadata": {
        "colab": {
          "base_uri": "https://localhost:8080/"
        },
        "id": "cKri613HSIDb",
        "outputId": "90abbbb3-f08c-4369-9977-67594c034487"
      },
      "id": "cKri613HSIDb",
      "execution_count": 11,
      "outputs": [
        {
          "output_type": "stream",
          "name": "stdout",
          "text": [
            "Resampling completed.\n"
          ]
        }
      ]
    },
    {
      "cell_type": "markdown",
      "source": [
        "## **Step 4 - Zip the resampled raster files and download them to the local folder**"
      ],
      "metadata": {
        "id": "OYO16BD8XNkQ"
      },
      "id": "OYO16BD8XNkQ"
    },
    {
      "cell_type": "code",
      "source": [
        "import shutil\n",
        "from google.colab import files\n",
        "import os\n",
        "\n",
        "# 1) Specify the directories for PCP and RET resampled data\n",
        "pcp_resampled_directory = r'/content/PCP_resampled'\n",
        "ret_resampled_directory = r'/content/RET_resampled'\n",
        "\n",
        "# 2) Create a new folder to temporarily store both PCP and RET resampled data in separate subfolders\n",
        "combined_directory = r'/content/PCPRET_combined'\n",
        "os.makedirs(combined_directory, exist_ok=True)\n",
        "\n",
        "# Create separate subfolders for PCP and RET within the combined directory\n",
        "pcp_output_folder = os.path.join(combined_directory, 'PCP_resampled')\n",
        "ret_output_folder = os.path.join(combined_directory, 'RET_resampled')\n",
        "\n",
        "os.makedirs(pcp_output_folder, exist_ok=True)\n",
        "os.makedirs(ret_output_folder, exist_ok=True)\n",
        "\n",
        "# Copy PCP resampled files into the PCP folder\n",
        "for file_name in os.listdir(pcp_resampled_directory):\n",
        "    full_file_name = os.path.join(pcp_resampled_directory, file_name)\n",
        "    if os.path.isfile(full_file_name):\n",
        "        shutil.copy(full_file_name, pcp_output_folder)\n",
        "\n",
        "# Copy RET resampled files into the RET folder\n",
        "for file_name in os.listdir(ret_resampled_directory):\n",
        "    full_file_name = os.path.join(ret_resampled_directory, file_name)\n",
        "    if os.path.isfile(full_file_name):\n",
        "        shutil.copy(full_file_name, ret_output_folder)\n",
        "\n",
        "# 3) Zip the combined directory into \"PCPRETdata_resampled.zip\"\n",
        "zip_filename = r'/content/PCPRETdata_resampled.zip'\n",
        "shutil.make_archive('/content/PCPRETdata_resampled', 'zip', combined_directory)\n",
        "\n",
        "# 4) Download the zipped folder\n",
        "files.download(zip_filename)\n"
      ],
      "metadata": {
        "colab": {
          "base_uri": "https://localhost:8080/",
          "height": 17
        },
        "id": "LxAjrL_LB8NQ",
        "outputId": "81893915-34e5-4aaa-9fbc-0ae4adda678a"
      },
      "id": "LxAjrL_LB8NQ",
      "execution_count": 12,
      "outputs": [
        {
          "output_type": "display_data",
          "data": {
            "text/plain": [
              "<IPython.core.display.Javascript object>"
            ],
            "application/javascript": [
              "\n",
              "    async function download(id, filename, size) {\n",
              "      if (!google.colab.kernel.accessAllowed) {\n",
              "        return;\n",
              "      }\n",
              "      const div = document.createElement('div');\n",
              "      const label = document.createElement('label');\n",
              "      label.textContent = `Downloading \"${filename}\": `;\n",
              "      div.appendChild(label);\n",
              "      const progress = document.createElement('progress');\n",
              "      progress.max = size;\n",
              "      div.appendChild(progress);\n",
              "      document.body.appendChild(div);\n",
              "\n",
              "      const buffers = [];\n",
              "      let downloaded = 0;\n",
              "\n",
              "      const channel = await google.colab.kernel.comms.open(id);\n",
              "      // Send a message to notify the kernel that we're ready.\n",
              "      channel.send({})\n",
              "\n",
              "      for await (const message of channel.messages) {\n",
              "        // Send a message to notify the kernel that we're ready.\n",
              "        channel.send({})\n",
              "        if (message.buffers) {\n",
              "          for (const buffer of message.buffers) {\n",
              "            buffers.push(buffer);\n",
              "            downloaded += buffer.byteLength;\n",
              "            progress.value = downloaded;\n",
              "          }\n",
              "        }\n",
              "      }\n",
              "      const blob = new Blob(buffers, {type: 'application/binary'});\n",
              "      const a = document.createElement('a');\n",
              "      a.href = window.URL.createObjectURL(blob);\n",
              "      a.download = filename;\n",
              "      div.appendChild(a);\n",
              "      a.click();\n",
              "      div.remove();\n",
              "    }\n",
              "  "
            ]
          },
          "metadata": {}
        },
        {
          "output_type": "display_data",
          "data": {
            "text/plain": [
              "<IPython.core.display.Javascript object>"
            ],
            "application/javascript": [
              "download(\"download_56e04d1d-5cde-43c2-b9fa-cdb7f6f3a2a5\", \"PCPRETdata_resampled.zip\", 117668)"
            ]
          },
          "metadata": {}
        }
      ]
    }
  ],
  "metadata": {
    "kernelspec": {
      "display_name": "Python 3",
      "language": "python",
      "name": "python3"
    },
    "language_info": {
      "codemirror_mode": {
        "name": "ipython",
        "version": 3
      },
      "file_extension": ".py",
      "mimetype": "text/x-python",
      "name": "python",
      "nbconvert_exporter": "python",
      "pygments_lexer": "ipython3",
      "version": "3.7.3"
    },
    "colab": {
      "provenance": []
    }
  },
  "nbformat": 4,
  "nbformat_minor": 5
}